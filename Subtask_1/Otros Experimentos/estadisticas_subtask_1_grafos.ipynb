{
  "nbformat": 4,
  "nbformat_minor": 0,
  "metadata": {
    "colab": {
      "provenance": []
    },
    "kernelspec": {
      "name": "python3",
      "display_name": "Python 3"
    },
    "language_info": {
      "name": "python"
    }
  },
  "cells": [
    {
      "cell_type": "code",
      "execution_count": null,
      "metadata": {
        "id": "-SiWzTx3aUkj"
      },
      "outputs": [],
      "source": [
        "import pandas as pd\n",
        "data = pd.read_csv(\"en_subtask1.csv\")\n",
        "data.head()\n",
        "\n",
        "#recortamos la data para las pruebas\n",
        "data_recortada = data.head(60)\n",
        "dataprueba = 'dataprueba.csv'\n",
        "data_recortada.to_csv(dataprueba, index=False)"
      ]
    },
    {
      "cell_type": "code",
      "source": [
        "data_human = data_recortada.loc[data_recortada['label'] == 'human']\n",
        "data_generated = data_recortada.loc[data_recortada['label'] == 'generated']\n",
        "\n",
        "data_human['filas'] = range(1, len(data_human) + 1)\n",
        "data_generated['filas'] = range(1,len(data_generated)+1)"
      ],
      "metadata": {
        "id": "qO9LrvG0g3K9"
      },
      "execution_count": null,
      "outputs": []
    },
    {
      "cell_type": "code",
      "source": [
        "data_human.head()"
      ],
      "metadata": {
        "id": "TO0rmNVRnXV_"
      },
      "execution_count": null,
      "outputs": []
    },
    {
      "cell_type": "code",
      "source": [
        "data_generated.head()"
      ],
      "metadata": {
        "id": "esA-NlEcntPW"
      },
      "execution_count": null,
      "outputs": []
    },
    {
      "cell_type": "code",
      "source": [
        "tex_to_graph_human = []\n",
        "for index, row in data_human.iterrows():\n",
        "    fila = {\"id\": row['filas'], \"doc\": row['text']}\n",
        "    tex_to_graph_human.append(fila)\n",
        "tex_to_graph_human"
      ],
      "metadata": {
        "id": "ZroDUyJJp1kC"
      },
      "execution_count": null,
      "outputs": []
    },
    {
      "cell_type": "code",
      "source": [
        "tex_to_graph_generated = []\n",
        "\n",
        "for index, row in data_generated.iterrows():\n",
        "    fila = {\"id\": row['filas'], \"doc\": row['text']}\n",
        "    tex_to_graph_generated.append(fila)\n",
        "tex_to_graph_generated"
      ],
      "metadata": {
        "id": "YwJv29SVqyoi"
      },
      "execution_count": null,
      "outputs": []
    },
    {
      "cell_type": "code",
      "source": [
        "!pip install text2graphapi"
      ],
      "metadata": {
        "id": "UImJZhgpryFv"
      },
      "execution_count": null,
      "outputs": []
    },
    {
      "cell_type": "code",
      "source": [
        "from text2graphapi.src.Cooccurrence import Cooccurrence\n",
        "\n",
        "to_word_coocc_graph = Cooccurrence(graph_type = 'DiGraph',\n",
        "        language = 'en',\n",
        "        window_size = 3, output_format = 'adj_matrix')"
      ],
      "metadata": {
        "id": "9q65VIJ-TZWj"
      },
      "execution_count": null,
      "outputs": []
    },
    {
      "cell_type": "code",
      "source": [
        "Grafos_cooncurencia_human = to_word_coocc_graph.transform(tex_to_graph_human)"
      ],
      "metadata": {
        "id": "MipcTFWofow3"
      },
      "execution_count": null,
      "outputs": []
    },
    {
      "cell_type": "code",
      "source": [
        "Grafos_cooncurencia_generated = to_word_coocc_graph.transform(tex_to_graph_generated)"
      ],
      "metadata": {
        "id": "Zw2aMt-9fxgf"
      },
      "execution_count": null,
      "outputs": []
    },
    {
      "cell_type": "code",
      "source": [
        "Grafos_cooncurencia_human"
      ],
      "metadata": {
        "id": "qb4fIGZlgAxu"
      },
      "execution_count": null,
      "outputs": []
    },
    {
      "cell_type": "code",
      "source": [
        "Grafos_cooncurencia_generated"
      ],
      "metadata": {
        "id": "2p9OY0fkgTnH"
      },
      "execution_count": null,
      "outputs": []
    },
    {
      "cell_type": "code",
      "source": [
        "#metemos todos los grafos en una lista tanto para humanos como para los generados por IA\n",
        "\n",
        "lista_grafos_humanos = []\n",
        "\n",
        "for i in Grafos_cooncurencia_human:\n",
        "  grafo = i['graph']\n",
        "  lista_grafos_humanos.append(grafo)\n",
        "\n",
        "lista_grafos_humanos"
      ],
      "metadata": {
        "id": "k40Pb4Begdyt"
      },
      "execution_count": null,
      "outputs": []
    },
    {
      "cell_type": "code",
      "source": [
        "lista_grafos_generated = []\n",
        "for i in Grafos_cooncurencia_generated:\n",
        "  grafo = i['graph']\n",
        "  lista_grafos_generated.append(grafo)\n",
        "\n",
        "lista_grafos_generated"
      ],
      "metadata": {
        "id": "HCxboUxlmrfQ"
      },
      "execution_count": null,
      "outputs": []
    },
    {
      "cell_type": "code",
      "source": [
        "import networkx as nx\n",
        "lista_grafos_networks_humanos = [nx.from_scipy_sparse_array(G) for G in lista_grafos_humanos]\n",
        "lista_grafos_networks_humanos\n"
      ],
      "metadata": {
        "id": "HtpgKQnPqyOv"
      },
      "execution_count": null,
      "outputs": []
    },
    {
      "cell_type": "code",
      "source": [
        "lusta_grafos_networkx_generated = [nx.from_scipy_sparse_array(A) for A in lista_grafos_generated]\n",
        "lusta_grafos_networkx_generated"
      ],
      "metadata": {
        "id": "stOwjAqdx9RQ"
      },
      "execution_count": null,
      "outputs": []
    },
    {
      "cell_type": "code",
      "source": [
        "#Vamos a sacar estadisticas de ambas listas de grafos\n",
        "from networkx.algorithms import approximation as approx\n",
        "\n",
        "#Conjunto independiente maximal para cada grafo en lista de grafos humanos\n",
        "for i in lista_grafos_networks_humanos:\n",
        "  print(nx.approximation.maximum_independent_set(i))\n"
      ],
      "metadata": {
        "id": "xNHM2Urkyh2E"
      },
      "execution_count": null,
      "outputs": []
    },
    {
      "cell_type": "code",
      "source": [
        "#maximal independiente IA's\n",
        "for i in lusta_grafos_networkx_generated:\n",
        "  print(nx.approximation.maximum_independent_set(i))"
      ],
      "metadata": {
        "id": "ABO3CG2F6KyY"
      },
      "execution_count": null,
      "outputs": []
    },
    {
      "cell_type": "code",
      "source": [
        "#conjunto dominante humanos\n",
        "\n",
        "for i in lista_grafos_networks_humanos:\n",
        "  print(nx.dominating_set(i, start_with=None) )"
      ],
      "metadata": {
        "id": "offwNl8C6TJf"
      },
      "execution_count": null,
      "outputs": []
    },
    {
      "cell_type": "code",
      "source": [
        "#conjunto dominante en IA's\n",
        "for i in lusta_grafos_networkx_generated:\n",
        "  print(nx.dominating_set(i, start_with=None) )"
      ],
      "metadata": {
        "id": "NVPU0dG46spt"
      },
      "execution_count": null,
      "outputs": []
    },
    {
      "cell_type": "code",
      "source": [
        "#eficiencia global de conectividad en humanos\n",
        "for i in lista_grafos_networks_humanos:\n",
        "  print(nx.global_efficiency(i))"
      ],
      "metadata": {
        "id": "GCzp4Dl-7OQ1"
      },
      "execution_count": null,
      "outputs": []
    },
    {
      "cell_type": "code",
      "source": [
        "#eficiencia conectividad global IA's\n",
        "for i in lusta_grafos_networkx_generated:\n",
        "  x = nx.global_efficiency(i)\n",
        "  print(x)"
      ],
      "metadata": {
        "id": "HS6qHbTd7gVI"
      },
      "execution_count": null,
      "outputs": []
    },
    {
      "cell_type": "code",
      "source": [
        "#promedio de cuantos nodos están conectados con otros nodos en humanos\n",
        "for i in lista_grafos_networks_humanos:\n",
        "  print( nx.average_neighbor_degree(i))"
      ],
      "metadata": {
        "id": "4awssQZW9lZG"
      },
      "execution_count": null,
      "outputs": []
    },
    {
      "cell_type": "code",
      "source": [
        "#mismo promedio pero en IA's\n",
        "for i in lusta_grafos_networkx_generated:\n",
        "  print( nx.average_neighbor_degree(i))"
      ],
      "metadata": {
        "id": "gE-7faBx-Bd9"
      },
      "execution_count": null,
      "outputs": []
    },
    {
      "cell_type": "code",
      "source": [
        "#nodos a quitar para desconectar los grafos en humanos\n",
        "\n",
        "for i in lista_grafos_networks_humanos:\n",
        "  print(approx.node_connectivity(i))\n"
      ],
      "metadata": {
        "id": "gVZkf3cz-eBe"
      },
      "execution_count": null,
      "outputs": []
    },
    {
      "cell_type": "code",
      "source": [
        "#nodos a quitar para desconectar en IA's\n",
        "for i in lusta_grafos_networkx_generated:\n",
        "  print(approx.node_connectivity(i))"
      ],
      "metadata": {
        "id": "tARGk1uO_bMG"
      },
      "execution_count": null,
      "outputs": []
    },
    {
      "cell_type": "code",
      "source": [
        "#promedio de centralidad de cercanía en humanos\n",
        "\n",
        "for i in lista_grafos_networks_humanos:\n",
        "  print(nx.closeness_centrality(i))"
      ],
      "metadata": {
        "id": "qK3OEVL7B3xx"
      },
      "execution_count": null,
      "outputs": []
    },
    {
      "cell_type": "code",
      "source": [
        "#lo mismo pero en IA's\n",
        "for i in lusta_grafos_networkx_generated:\n",
        "  print(nx.closeness_centrality(i))"
      ],
      "metadata": {
        "id": "xdZW4Lc4FsGm"
      },
      "execution_count": null,
      "outputs": []
    }
  ]
}