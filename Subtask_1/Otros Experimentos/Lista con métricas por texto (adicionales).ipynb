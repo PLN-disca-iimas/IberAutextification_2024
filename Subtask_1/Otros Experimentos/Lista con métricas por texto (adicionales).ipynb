{
 "cells": [
  {
   "cell_type": "markdown",
   "id": "9e34dcb7",
   "metadata": {},
   "source": [
    "# Lista con métricas por texto (métricas añadidas)"
   ]
  },
  {
   "cell_type": "code",
   "execution_count": 1,
   "id": "c2ed2a81",
   "metadata": {},
   "outputs": [
    {
     "name": "stdout",
     "output_type": "stream",
     "text": [
      "Requirement already satisfied: text2graphapi in c:\\users\\yara\\appdata\\roaming\\python\\python39\\site-packages (0.2.0)\n",
      "Requirement already satisfied: numpy in c:\\users\\yara\\appdata\\roaming\\python\\python39\\site-packages (from text2graphapi) (1.26.4)\n",
      "Requirement already satisfied: joblib in c:\\programdata\\anaconda3\\lib\\site-packages (from text2graphapi) (1.1.0)\n",
      "Requirement already satisfied: setuptools in c:\\programdata\\anaconda3\\lib\\site-packages (from text2graphapi) (58.0.4)\n",
      "Requirement already satisfied: sphinx in c:\\programdata\\anaconda3\\lib\\site-packages (from text2graphapi) (4.2.0)\n",
      "Requirement already satisfied: networkx in c:\\users\\yara\\appdata\\roaming\\python\\python39\\site-packages (from text2graphapi) (3.2.1)\n",
      "Requirement already satisfied: contractions in c:\\users\\yara\\appdata\\roaming\\python\\python39\\site-packages (from text2graphapi) (0.1.73)\n",
      "Requirement already satisfied: flashtext in c:\\users\\yara\\appdata\\roaming\\python\\python39\\site-packages (from text2graphapi) (2.7)\n",
      "Requirement already satisfied: emoji in c:\\users\\yara\\appdata\\roaming\\python\\python39\\site-packages (from text2graphapi) (2.10.1)\n",
      "Requirement already satisfied: emot in c:\\users\\yara\\appdata\\roaming\\python\\python39\\site-packages (from text2graphapi) (3.1)\n",
      "Requirement already satisfied: spacy in c:\\users\\yara\\appdata\\roaming\\python\\python39\\site-packages (from text2graphapi) (3.7.4)\n",
      "Requirement already satisfied: scipy in c:\\users\\yara\\appdata\\roaming\\python\\python39\\site-packages (from text2graphapi) (1.12.0)\n",
      "Requirement already satisfied: matplotlib in c:\\programdata\\anaconda3\\lib\\site-packages (from text2graphapi) (3.4.3)\n",
      "Requirement already satisfied: pandas in c:\\programdata\\anaconda3\\lib\\site-packages (from text2graphapi) (1.3.4)\n",
      "Requirement already satisfied: nltk in c:\\programdata\\anaconda3\\lib\\site-packages (from text2graphapi) (3.6.5)\n",
      "Requirement already satisfied: textsearch>=0.0.21 in c:\\users\\yara\\appdata\\roaming\\python\\python39\\site-packages (from contractions->text2graphapi) (0.0.24)\n",
      "Requirement already satisfied: pyahocorasick in c:\\users\\yara\\appdata\\roaming\\python\\python39\\site-packages (from textsearch>=0.0.21->contractions->text2graphapi) (2.0.0)\n",
      "Requirement already satisfied: anyascii in c:\\users\\yara\\appdata\\roaming\\python\\python39\\site-packages (from textsearch>=0.0.21->contractions->text2graphapi) (0.3.2)\n",
      "Requirement already satisfied: pillow>=6.2.0 in c:\\programdata\\anaconda3\\lib\\site-packages (from matplotlib->text2graphapi) (8.4.0)\n",
      "Requirement already satisfied: pyparsing>=2.2.1 in c:\\programdata\\anaconda3\\lib\\site-packages (from matplotlib->text2graphapi) (3.0.4)\n",
      "Requirement already satisfied: kiwisolver>=1.0.1 in c:\\programdata\\anaconda3\\lib\\site-packages (from matplotlib->text2graphapi) (1.3.1)\n",
      "Requirement already satisfied: cycler>=0.10 in c:\\programdata\\anaconda3\\lib\\site-packages (from matplotlib->text2graphapi) (0.10.0)\n",
      "Requirement already satisfied: python-dateutil>=2.7 in c:\\programdata\\anaconda3\\lib\\site-packages (from matplotlib->text2graphapi) (2.8.2)\n",
      "Requirement already satisfied: six in c:\\programdata\\anaconda3\\lib\\site-packages (from cycler>=0.10->matplotlib->text2graphapi) (1.16.0)\n",
      "Requirement already satisfied: click in c:\\programdata\\anaconda3\\lib\\site-packages (from nltk->text2graphapi) (8.0.3)\n",
      "Requirement already satisfied: regex>=2021.8.3 in c:\\programdata\\anaconda3\\lib\\site-packages (from nltk->text2graphapi) (2021.8.3)\n",
      "Requirement already satisfied: tqdm in c:\\programdata\\anaconda3\\lib\\site-packages (from nltk->text2graphapi) (4.62.3)\n",
      "Requirement already satisfied: colorama in c:\\users\\yara\\appdata\\roaming\\python\\python39\\site-packages (from click->nltk->text2graphapi) (0.4.6)\n",
      "Requirement already satisfied: pytz>=2017.3 in c:\\programdata\\anaconda3\\lib\\site-packages (from pandas->text2graphapi) (2021.3)\n",
      "Requirement already satisfied: catalogue<2.1.0,>=2.0.6 in c:\\users\\yara\\appdata\\roaming\\python\\python39\\site-packages (from spacy->text2graphapi) (2.0.10)\n",
      "Requirement already satisfied: srsly<3.0.0,>=2.4.3 in c:\\users\\yara\\appdata\\roaming\\python\\python39\\site-packages (from spacy->text2graphapi) (2.4.8)\n",
      "Requirement already satisfied: pydantic!=1.8,!=1.8.1,<3.0.0,>=1.7.4 in c:\\users\\yara\\appdata\\roaming\\python\\python39\\site-packages (from spacy->text2graphapi) (2.6.4)\n",
      "Requirement already satisfied: murmurhash<1.1.0,>=0.28.0 in c:\\users\\yara\\appdata\\roaming\\python\\python39\\site-packages (from spacy->text2graphapi) (1.0.10)\n",
      "Requirement already satisfied: cymem<2.1.0,>=2.0.2 in c:\\users\\yara\\appdata\\roaming\\python\\python39\\site-packages (from spacy->text2graphapi) (2.0.8)\n",
      "Requirement already satisfied: langcodes<4.0.0,>=3.2.0 in c:\\users\\yara\\appdata\\roaming\\python\\python39\\site-packages (from spacy->text2graphapi) (3.3.0)\n",
      "Requirement already satisfied: weasel<0.4.0,>=0.1.0 in c:\\users\\yara\\appdata\\roaming\\python\\python39\\site-packages (from spacy->text2graphapi) (0.3.4)\n",
      "Requirement already satisfied: spacy-loggers<2.0.0,>=1.0.0 in c:\\users\\yara\\appdata\\roaming\\python\\python39\\site-packages (from spacy->text2graphapi) (1.0.5)\n",
      "Requirement already satisfied: smart-open<7.0.0,>=5.2.1 in c:\\users\\yara\\appdata\\roaming\\python\\python39\\site-packages (from spacy->text2graphapi) (6.4.0)\n",
      "Requirement already satisfied: requests<3.0.0,>=2.13.0 in c:\\programdata\\anaconda3\\lib\\site-packages (from spacy->text2graphapi) (2.26.0)\n",
      "Requirement already satisfied: packaging>=20.0 in c:\\programdata\\anaconda3\\lib\\site-packages (from spacy->text2graphapi) (21.0)\n",
      "Requirement already satisfied: thinc<8.3.0,>=8.2.2 in c:\\users\\yara\\appdata\\roaming\\python\\python39\\site-packages (from spacy->text2graphapi) (8.2.3)\n",
      "Requirement already satisfied: wasabi<1.2.0,>=0.9.1 in c:\\users\\yara\\appdata\\roaming\\python\\python39\\site-packages (from spacy->text2graphapi) (1.1.2)\n",
      "Requirement already satisfied: typer<0.10.0,>=0.3.0 in c:\\users\\yara\\appdata\\roaming\\python\\python39\\site-packages (from spacy->text2graphapi) (0.9.0)\n",
      "Requirement already satisfied: preshed<3.1.0,>=3.0.2 in c:\\users\\yara\\appdata\\roaming\\python\\python39\\site-packages (from spacy->text2graphapi) (3.0.9)\n",
      "Requirement already satisfied: spacy-legacy<3.1.0,>=3.0.11 in c:\\users\\yara\\appdata\\roaming\\python\\python39\\site-packages (from spacy->text2graphapi) (3.0.12)\n",
      "Requirement already satisfied: jinja2 in c:\\programdata\\anaconda3\\lib\\site-packages (from spacy->text2graphapi) (2.11.3)\n",
      "Requirement already satisfied: typing-extensions>=4.6.1 in c:\\users\\yara\\appdata\\roaming\\python\\python39\\site-packages (from pydantic!=1.8,!=1.8.1,<3.0.0,>=1.7.4->spacy->text2graphapi) (4.10.0)\n",
      "Requirement already satisfied: annotated-types>=0.4.0 in c:\\users\\yara\\appdata\\roaming\\python\\python39\\site-packages (from pydantic!=1.8,!=1.8.1,<3.0.0,>=1.7.4->spacy->text2graphapi) (0.6.0)\n",
      "Requirement already satisfied: pydantic-core==2.16.3 in c:\\users\\yara\\appdata\\roaming\\python\\python39\\site-packages (from pydantic!=1.8,!=1.8.1,<3.0.0,>=1.7.4->spacy->text2graphapi) (2.16.3)\n",
      "Requirement already satisfied: idna<4,>=2.5 in c:\\programdata\\anaconda3\\lib\\site-packages (from requests<3.0.0,>=2.13.0->spacy->text2graphapi) (3.2)\n",
      "Requirement already satisfied: urllib3<1.27,>=1.21.1 in c:\\programdata\\anaconda3\\lib\\site-packages (from requests<3.0.0,>=2.13.0->spacy->text2graphapi) (1.26.7)\n",
      "Requirement already satisfied: certifi>=2017.4.17 in c:\\programdata\\anaconda3\\lib\\site-packages (from requests<3.0.0,>=2.13.0->spacy->text2graphapi) (2021.10.8)\n",
      "Requirement already satisfied: charset-normalizer~=2.0.0 in c:\\programdata\\anaconda3\\lib\\site-packages (from requests<3.0.0,>=2.13.0->spacy->text2graphapi) (2.0.4)\n",
      "Requirement already satisfied: confection<1.0.0,>=0.0.1 in c:\\users\\yara\\appdata\\roaming\\python\\python39\\site-packages (from thinc<8.3.0,>=8.2.2->spacy->text2graphapi) (0.1.4)\n",
      "Requirement already satisfied: blis<0.8.0,>=0.7.8 in c:\\users\\yara\\appdata\\roaming\\python\\python39\\site-packages (from thinc<8.3.0,>=8.2.2->spacy->text2graphapi) (0.7.11)\n",
      "Requirement already satisfied: cloudpathlib<0.17.0,>=0.7.0 in c:\\users\\yara\\appdata\\roaming\\python\\python39\\site-packages (from weasel<0.4.0,>=0.1.0->spacy->text2graphapi) (0.16.0)\n",
      "Requirement already satisfied: MarkupSafe>=0.23 in c:\\programdata\\anaconda3\\lib\\site-packages (from jinja2->spacy->text2graphapi) (1.1.1)\n",
      "Requirement already satisfied: sphinxcontrib-applehelp in c:\\programdata\\anaconda3\\lib\\site-packages (from sphinx->text2graphapi) (1.0.2)\n",
      "Requirement already satisfied: sphinxcontrib-devhelp in c:\\programdata\\anaconda3\\lib\\site-packages (from sphinx->text2graphapi) (1.0.2)\n",
      "Requirement already satisfied: sphinxcontrib-jsmath in c:\\programdata\\anaconda3\\lib\\site-packages (from sphinx->text2graphapi) (1.0.1)\n",
      "Requirement already satisfied: sphinxcontrib-htmlhelp>=2.0.0 in c:\\programdata\\anaconda3\\lib\\site-packages (from sphinx->text2graphapi) (2.0.0)\n",
      "Requirement already satisfied: sphinxcontrib-serializinghtml>=1.1.5 in c:\\programdata\\anaconda3\\lib\\site-packages (from sphinx->text2graphapi) (1.1.5)\n",
      "Requirement already satisfied: sphinxcontrib-qthelp in c:\\programdata\\anaconda3\\lib\\site-packages (from sphinx->text2graphapi) (1.0.3)\n",
      "Requirement already satisfied: Pygments>=2.0 in c:\\programdata\\anaconda3\\lib\\site-packages (from sphinx->text2graphapi) (2.10.0)\n",
      "Requirement already satisfied: docutils<0.18,>=0.14 in c:\\programdata\\anaconda3\\lib\\site-packages (from sphinx->text2graphapi) (0.17.1)\n",
      "Requirement already satisfied: snowballstemmer>=1.1 in c:\\programdata\\anaconda3\\lib\\site-packages (from sphinx->text2graphapi) (2.1.0)\n",
      "Requirement already satisfied: babel>=1.3 in c:\\programdata\\anaconda3\\lib\\site-packages (from sphinx->text2graphapi) (2.9.1)\n",
      "Requirement already satisfied: alabaster<0.8,>=0.7 in c:\\programdata\\anaconda3\\lib\\site-packages (from sphinx->text2graphapi) (0.7.12)\n",
      "Requirement already satisfied: imagesize in c:\\programdata\\anaconda3\\lib\\site-packages (from sphinx->text2graphapi) (1.2.0)\n",
      "Note: you may need to restart the kernel to use updated packages.\n"
     ]
    },
    {
     "name": "stderr",
     "output_type": "stream",
     "text": [
      "WARNING: Ignoring invalid distribution -etworkx (c:\\programdata\\anaconda3\\lib\\site-packages)\n",
      "WARNING: Ignoring invalid distribution -andas (c:\\programdata\\anaconda3\\lib\\site-packages)\n",
      "WARNING: Ignoring invalid distribution -etworkx (c:\\programdata\\anaconda3\\lib\\site-packages)\n",
      "WARNING: Ignoring invalid distribution -andas (c:\\programdata\\anaconda3\\lib\\site-packages)\n",
      "WARNING: Ignoring invalid distribution -etworkx (c:\\programdata\\anaconda3\\lib\\site-packages)\n",
      "WARNING: Ignoring invalid distribution -andas (c:\\programdata\\anaconda3\\lib\\site-packages)\n",
      "WARNING: Ignoring invalid distribution -etworkx (c:\\programdata\\anaconda3\\lib\\site-packages)\n",
      "WARNING: Ignoring invalid distribution -andas (c:\\programdata\\anaconda3\\lib\\site-packages)\n",
      "WARNING: Ignoring invalid distribution -etworkx (c:\\programdata\\anaconda3\\lib\\site-packages)\n",
      "WARNING: Ignoring invalid distribution -andas (c:\\programdata\\anaconda3\\lib\\site-packages)\n",
      "WARNING: Ignoring invalid distribution -etworkx (c:\\programdata\\anaconda3\\lib\\site-packages)\n",
      "WARNING: Ignoring invalid distribution -andas (c:\\programdata\\anaconda3\\lib\\site-packages)\n"
     ]
    }
   ],
   "source": [
    "!pip install text2graphapi #Instalar la API"
   ]
  },
  {
   "cell_type": "code",
   "execution_count": 2,
   "id": "9fb7407d",
   "metadata": {},
   "outputs": [
    {
     "name": "stdout",
     "output_type": "stream",
     "text": [
      "2024-08-21 18:10:49,380; - INFO; - Note: NumExpr detected 12 cores but \"NUMEXPR_MAX_THREADS\" not set, so enforcing safe limit of 8.\n"
     ]
    },
    {
     "name": "stderr",
     "output_type": "stream",
     "text": [
      "[nltk_data] Downloading package punkt to\n",
      "[nltk_data]     C:\\Users\\Yara\\AppData\\Roaming\\nltk_data...\n",
      "[nltk_data]   Package punkt is already up-to-date!\n",
      "[nltk_data] Downloading package wordnet to\n",
      "[nltk_data]     C:\\Users\\Yara\\AppData\\Roaming\\nltk_data...\n",
      "[nltk_data]   Package wordnet is already up-to-date!\n"
     ]
    },
    {
     "name": "stdout",
     "output_type": "stream",
     "text": [
      "2024-08-21 18:10:49,380; - INFO; - NumExpr defaulting to 8 threads.\n",
      "2024-08-21 18:10:49,915; - DEBUG; - Import libraries/modules from :PROD\n"
     ]
    }
   ],
   "source": [
    "from text2graphapi.src.Cooccurrence import Cooccurrence"
   ]
  },
  {
   "cell_type": "code",
   "execution_count": 3,
   "id": "8920243a",
   "metadata": {},
   "outputs": [],
   "source": [
    "import numpy as np\n",
    "import pandas as pd\n",
    "import networkx as nx\n",
    "from PIL import Image\n",
    "import matplotlib.pyplot as plt\n",
    "from networkx.algorithms import approximation"
   ]
  },
  {
   "cell_type": "markdown",
   "id": "0eefbfdc",
   "metadata": {},
   "source": [
    "## Subtask_1-train"
   ]
  },
  {
   "cell_type": "code",
   "execution_count": 4,
   "id": "897af34c",
   "metadata": {},
   "outputs": [],
   "source": [
    "#Text-Original\n",
    "ruta_1 = 'se agrega la ruta del dataset original .csv'\n",
    "\n",
    "train_data = pd.read_csv(ruta_1)"
   ]
  },
  {
   "cell_type": "code",
   "execution_count": 5,
   "id": "d63ab614",
   "metadata": {},
   "outputs": [
    {
     "data": {
      "text/html": [
       "<div>\n",
       "<style scoped>\n",
       "    .dataframe tbody tr th:only-of-type {\n",
       "        vertical-align: middle;\n",
       "    }\n",
       "\n",
       "    .dataframe tbody tr th {\n",
       "        vertical-align: top;\n",
       "    }\n",
       "\n",
       "    .dataframe thead th {\n",
       "        text-align: right;\n",
       "    }\n",
       "</style>\n",
       "<table border=\"1\" class=\"dataframe\">\n",
       "  <thead>\n",
       "    <tr style=\"text-align: right;\">\n",
       "      <th></th>\n",
       "      <th>id</th>\n",
       "      <th>text</th>\n",
       "      <th>label</th>\n",
       "    </tr>\n",
       "  </thead>\n",
       "  <tbody>\n",
       "    <tr>\n",
       "      <th>0</th>\n",
       "      <td>15442</td>\n",
       "      <td>Es un tribunal de suprema instanza que forma p...</td>\n",
       "      <td>generated</td>\n",
       "    </tr>\n",
       "    <tr>\n",
       "      <th>1</th>\n",
       "      <td>26409</td>\n",
       "      <td>Aixó de tindrer la platgeta tant prou era un p...</td>\n",
       "      <td>human</td>\n",
       "    </tr>\n",
       "    <tr>\n",
       "      <th>2</th>\n",
       "      <td>12777</td>\n",
       "      <td>Doug mcadam es un científico estadista estadou...</td>\n",
       "      <td>generated</td>\n",
       "    </tr>\n",
       "    <tr>\n",
       "      <th>3</th>\n",
       "      <td>41050</td>\n",
       "      <td>Traídas de francia, tan estrafalarias que una ...</td>\n",
       "      <td>generated</td>\n",
       "    </tr>\n",
       "    <tr>\n",
       "      <th>4</th>\n",
       "      <td>91814</td>\n",
       "      <td>A saída trives – baiona será ás 8 30h da mañá ...</td>\n",
       "      <td>generated</td>\n",
       "    </tr>\n",
       "    <tr>\n",
       "      <th>...</th>\n",
       "      <td>...</td>\n",
       "      <td>...</td>\n",
       "      <td>...</td>\n",
       "    </tr>\n",
       "    <tr>\n",
       "      <th>76759</th>\n",
       "      <td>76637</td>\n",
       "      <td>Bere burua egokitzen saiatu zuen, aurreko mome...</td>\n",
       "      <td>generated</td>\n",
       "    </tr>\n",
       "    <tr>\n",
       "      <th>76760</th>\n",
       "      <td>107183</td>\n",
       "      <td>Benquerida compañeira e amiga, para nós é moi ...</td>\n",
       "      <td>human</td>\n",
       "    </tr>\n",
       "    <tr>\n",
       "      <th>76761</th>\n",
       "      <td>144741</td>\n",
       "      <td>The irish president has signed the \"long-await...</td>\n",
       "      <td>generated</td>\n",
       "    </tr>\n",
       "    <tr>\n",
       "      <th>76762</th>\n",
       "      <td>1202</td>\n",
       "      <td>Pedro de alvarado y contreras \"tonatiuh\" (bada...</td>\n",
       "      <td>human</td>\n",
       "    </tr>\n",
       "    <tr>\n",
       "      <th>76763</th>\n",
       "      <td>21996</td>\n",
       "      <td>Sure! wikipedia articles should be well-writte...</td>\n",
       "      <td>generated</td>\n",
       "    </tr>\n",
       "  </tbody>\n",
       "</table>\n",
       "<p>76764 rows × 3 columns</p>\n",
       "</div>"
      ],
      "text/plain": [
       "           id                                               text      label\n",
       "0       15442  Es un tribunal de suprema instanza que forma p...  generated\n",
       "1       26409  Aixó de tindrer la platgeta tant prou era un p...      human\n",
       "2       12777  Doug mcadam es un científico estadista estadou...  generated\n",
       "3       41050  Traídas de francia, tan estrafalarias que una ...  generated\n",
       "4       91814  A saída trives – baiona será ás 8 30h da mañá ...  generated\n",
       "...       ...                                                ...        ...\n",
       "76759   76637  Bere burua egokitzen saiatu zuen, aurreko mome...  generated\n",
       "76760  107183  Benquerida compañeira e amiga, para nós é moi ...      human\n",
       "76761  144741  The irish president has signed the \"long-await...  generated\n",
       "76762    1202  Pedro de alvarado y contreras \"tonatiuh\" (bada...      human\n",
       "76763   21996  Sure! wikipedia articles should be well-writte...  generated\n",
       "\n",
       "[76764 rows x 3 columns]"
      ]
     },
     "execution_count": 5,
     "metadata": {},
     "output_type": "execute_result"
    }
   ],
   "source": [
    "train_data"
   ]
  },
  {
   "cell_type": "code",
   "execution_count": 6,
   "id": "4fd0068e",
   "metadata": {},
   "outputs": [],
   "source": [
    "df_train = train_data[['id', 'text']]\n",
    "df_train = df_train.rename(columns={'text': 'doc'})\n",
    "doc_1 = df_train.to_dict(orient='records')"
   ]
  },
  {
   "cell_type": "code",
   "execution_count": 7,
   "id": "d74a5c65",
   "metadata": {},
   "outputs": [
    {
     "name": "stdout",
     "output_type": "stream",
     "text": [
      "documentos:  76764\n"
     ]
    }
   ],
   "source": [
    "print('documentos: ',len(doc_1))"
   ]
  },
  {
   "cell_type": "code",
   "execution_count": 8,
   "id": "6f3fd310",
   "metadata": {},
   "outputs": [
    {
     "name": "stdout",
     "output_type": "stream",
     "text": [
      "2024-08-21 18:10:51,301; - INFO; - Has already installed spacy model es_core_news_sm\n"
     ]
    }
   ],
   "source": [
    "coocc_graph = Cooccurrence(graph_type = 'DiGraph',\n",
    "                                   language = 'sp',\n",
    "                                   apply_prep = False,\n",
    "                                   window_size= 3,\n",
    "                                   output_format = 'networkx')"
   ]
  },
  {
   "cell_type": "code",
   "execution_count": 9,
   "id": "05529d39",
   "metadata": {},
   "outputs": [
    {
     "name": "stdout",
     "output_type": "stream",
     "text": [
      "2024-08-21 18:10:51,521; - INFO; - Init transformations: Text to Co-Ocurrence Graph\n",
      "2024-08-21 18:10:51,522; - INFO; - Transforming 76764 text documents...\n",
      "2024-08-21 18:26:36,993; - INFO; - Done transformations\n"
     ]
    }
   ],
   "source": [
    "coocc_graph_train = coocc_graph.transform(doc_1)"
   ]
  },
  {
   "cell_type": "code",
   "execution_count": 10,
   "id": "44dff6ee",
   "metadata": {},
   "outputs": [],
   "source": [
    "list_graph_train = []\n",
    "\n",
    "for grafo in coocc_graph_train:\n",
    "    graph = grafo['graph']\n",
    "    list_graph_train.append(graph)"
   ]
  },
  {
   "cell_type": "code",
   "execution_count": 11,
   "id": "2a40a66b",
   "metadata": {},
   "outputs": [],
   "source": [
    "def nodes(list_graph):\n",
    "    list_nodes = []\n",
    "    for grafo in list_graph:\n",
    "        count = nx.number_of_nodes(grafo)\n",
    "        list_nodes.append(count)\n",
    "    return list_nodes"
   ]
  },
  {
   "cell_type": "code",
   "execution_count": 12,
   "id": "d52f6497",
   "metadata": {},
   "outputs": [],
   "source": [
    "nt = nodes(list_graph_train)"
   ]
  },
  {
   "cell_type": "code",
   "execution_count": 13,
   "id": "19f63087",
   "metadata": {},
   "outputs": [],
   "source": [
    "def edges(list_graph):\n",
    "    list_edges = []\n",
    "    for grafo in list_graph:\n",
    "        count = nx.number_of_edges(grafo)\n",
    "        list_edges.append(count)\n",
    "    return list_edges"
   ]
  },
  {
   "cell_type": "code",
   "execution_count": 16,
   "id": "31d1fee9",
   "metadata": {},
   "outputs": [],
   "source": [
    "et = edges(list_graph_train)"
   ]
  },
  {
   "cell_type": "code",
   "execution_count": 14,
   "id": "5624c8b1",
   "metadata": {},
   "outputs": [],
   "source": [
    "def node_connectivity(list_graph):\n",
    "    list_connectivity = []\n",
    "    for grafo in list_graph:\n",
    "        connectivity = approximation.node_connectivity(grafo)\n",
    "        list_connectivity.append(connectivity)\n",
    "    return list_connectivity"
   ]
  },
  {
   "cell_type": "code",
   "execution_count": 17,
   "id": "d2383ac1",
   "metadata": {},
   "outputs": [],
   "source": [
    "cont = node_connectivity(list_graph_train)"
   ]
  },
  {
   "cell_type": "code",
   "execution_count": 19,
   "id": "3fafba28",
   "metadata": {},
   "outputs": [],
   "source": [
    "def density(list_graph):\n",
    "    list_density = []\n",
    "    for grafo in list_graph:\n",
    "        density = nx.density(grafo)\n",
    "        list_density.append(density)\n",
    "    return list_density"
   ]
  },
  {
   "cell_type": "code",
   "execution_count": 20,
   "id": "1c3717ef",
   "metadata": {},
   "outputs": [],
   "source": [
    "dt = density(list_graph_train)"
   ]
  },
  {
   "cell_type": "code",
   "execution_count": 21,
   "id": "ce36d810",
   "metadata": {},
   "outputs": [],
   "source": [
    "def self_loop(list_graph):\n",
    "    list_sloop = []\n",
    "    for grafo in list_graph:\n",
    "        sloop = nx.number_of_selfloops(grafo)\n",
    "        list_sloop.append(sloop)\n",
    "    return list_sloop"
   ]
  },
  {
   "cell_type": "code",
   "execution_count": 22,
   "id": "ff7d1ef5",
   "metadata": {},
   "outputs": [],
   "source": [
    "slt = self_loop(list_graph_train)"
   ]
  },
  {
   "cell_type": "code",
   "execution_count": 27,
   "id": "98af49da",
   "metadata": {},
   "outputs": [],
   "source": [
    "def girth(list_graph):\n",
    "    list_girth = []\n",
    "    for grafo in list_graph:\n",
    "        grafo = grafo.to_undirected()\n",
    "        girth = nx.girth(grafo)\n",
    "        list_girth.append(girth)\n",
    "    return list_girth"
   ]
  },
  {
   "cell_type": "code",
   "execution_count": 28,
   "id": "b782caf0",
   "metadata": {},
   "outputs": [],
   "source": [
    "gt = girth(list_graph_train)"
   ]
  },
  {
   "cell_type": "code",
   "execution_count": 46,
   "id": "170ff1e3",
   "metadata": {},
   "outputs": [],
   "source": [
    "def maximal_matching(list_graph):\n",
    "    list_matching = []\n",
    "    for grafo in list_graph:\n",
    "        grafo = grafo.to_undirected()\n",
    "        list_matching.append(matching)\n",
    "    return list_matching"
   ]
  },
  {
   "cell_type": "code",
   "execution_count": null,
   "id": "b5ba2c24",
   "metadata": {},
   "outputs": [],
   "source": [
    "mmt = maximal_matching(list_graph_train) #Sí funciona pero son pares de palabras, no un dato numérico"
   ]
  },
  {
   "cell_type": "code",
   "execution_count": null,
   "id": "b5bcf2a5",
   "metadata": {},
   "outputs": [],
   "source": [
    "df_t = pd.DataFrame({'id': df_train['id'].tolist(),\n",
    "                  'label': train_data['label'].tolist(),\n",
    "                  'nodes': nt,\n",
    "                  'edges': et,\n",
    "                  'node_connectivity': cont,\n",
    "                 'density': dt,\n",
    "                 'self_loop': slt,\n",
    "                'girth': gt})\n",
    "df_t.head()"
   ]
  },
  {
   "cell_type": "code",
   "execution_count": 44,
   "id": "12a33f32",
   "metadata": {},
   "outputs": [],
   "source": [
    "df_t.to_csv('add-feat-train.csv', index=False)"
   ]
  }
 ],
 "metadata": {
  "kernelspec": {
   "display_name": "Python 3 (ipykernel)",
   "language": "python",
   "name": "python3"
  },
  "language_info": {
   "codemirror_mode": {
    "name": "ipython",
    "version": 3
   },
   "file_extension": ".py",
   "mimetype": "text/x-python",
   "name": "python",
   "nbconvert_exporter": "python",
   "pygments_lexer": "ipython3",
   "version": "3.12.3"
  }
 },
 "nbformat": 4,
 "nbformat_minor": 5
}
