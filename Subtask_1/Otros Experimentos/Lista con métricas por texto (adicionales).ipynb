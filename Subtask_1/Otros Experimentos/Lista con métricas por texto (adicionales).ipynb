{
 "cells": [
  {
   "cell_type": "markdown",
   "id": "9e34dcb7",
   "metadata": {},
   "source": [
    "# Lista con métricas por texto (métricas añadidas)"
   ]
  },
  {
   "cell_type": "code",
   "execution_count": null,
   "id": "c2ed2a81",
   "metadata": {},
   "outputs": [],
   "source": [
    "pip install text2graphapi #Instalar la API"
   ]
  },
  {
   "cell_type": "code",
   "execution_count": null,
   "id": "9fb7407d",
   "metadata": {},
   "outputs": [],
   "source": [
    "from text2graphapi.src.Cooccurrence import Cooccurrence"
   ]
  },
  {
   "cell_type": "code",
   "execution_count": null,
   "id": "8920243a",
   "metadata": {},
   "outputs": [],
   "source": [
    "import numpy as np\n",
    "import pandas as pd\n",
    "import networkx as nx\n",
    "from PIL import Image\n",
    "import matplotlib.pyplot as plt\n",
    "from networkx.algorithms import approximation"
   ]
  },
  {
   "cell_type": "markdown",
   "id": "0eefbfdc",
   "metadata": {},
   "source": [
    "## Subtask_1-train"
   ]
  },
  {
   "cell_type": "code",
   "execution_count": null,
   "id": "897af34c",
   "metadata": {},
   "outputs": [],
   "source": [
    "#Text-Original\n",
    "ruta_1 = 'se agrega la ruta del dataset original .csv'\n",
    "\n",
    "train_data = pd.read_csv(ruta_1)"
   ]
  },
  {
   "cell_type": "code",
   "execution_count": null,
   "id": "d63ab614",
   "metadata": {},
   "outputs": [],
   "source": [
    "train_data"
   ]
  },
  {
   "cell_type": "code",
   "execution_count": null,
   "id": "4fd0068e",
   "metadata": {},
   "outputs": [],
   "source": [
    "df_train = train_data[['id', 'text']]\n",
    "df_train = df_train.rename(columns={'text': 'doc'})\n",
    "doc_1 = df_train.to_dict(orient='records')"
   ]
  },
  {
   "cell_type": "code",
   "execution_count": null,
   "id": "d74a5c65",
   "metadata": {},
   "outputs": [],
   "source": [
    "print('documentos: ',len(doc_1))"
   ]
  },
  {
   "cell_type": "code",
   "execution_count": null,
   "id": "6f3fd310",
   "metadata": {},
   "outputs": [],
   "source": [
    "coocc_graph = Cooccurrence(graph_type = 'DiGraph',\n",
    "                                   language = 'sp',\n",
    "                                   apply_prep = False,\n",
    "                                   window_size= 3,\n",
    "                                   output_format = 'networkx')"
   ]
  },
  {
   "cell_type": "code",
   "execution_count": null,
   "id": "05529d39",
   "metadata": {},
   "outputs": [],
   "source": [
    "coocc_graph_train = coocc_graph.transform(doc_1)"
   ]
  },
  {
   "cell_type": "code",
   "execution_count": null,
   "id": "44dff6ee",
   "metadata": {},
   "outputs": [],
   "source": [
    "list_graph_train = []\n",
    "\n",
    "for grafo in coocc_graph_train:\n",
    "    graph = grafo['graph']\n",
    "    list_graph_train.append(graph)"
   ]
  },
  {
   "cell_type": "code",
   "execution_count": null,
   "id": "2a40a66b",
   "metadata": {},
   "outputs": [],
   "source": [
    "def nodes(list_graph):\n",
    "    list_nodes = []\n",
    "    for grafo in list_graph:\n",
    "        count = nx.number_of_nodes(grafo)\n",
    "        list_nodes.append(count)\n",
    "    return list_nodes"
   ]
  },
  {
   "cell_type": "code",
   "execution_count": null,
   "id": "d52f6497",
   "metadata": {},
   "outputs": [],
   "source": [
    "nt = nodes(list_graph_train)"
   ]
  },
  {
   "cell_type": "code",
   "execution_count": null,
   "id": "19f63087",
   "metadata": {},
   "outputs": [],
   "source": [
    "def edges(list_graph):\n",
    "    list_edges = []\n",
    "    for grafo in list_graph:\n",
    "        count = nx.number_of_edges(grafo)\n",
    "        list_edges.append(count)\n",
    "    return list_edges"
   ]
  },
  {
   "cell_type": "code",
   "execution_count": null,
   "id": "31d1fee9",
   "metadata": {},
   "outputs": [],
   "source": [
    "et = edges(list_graph_train)"
   ]
  },
  {
   "cell_type": "code",
   "execution_count": null,
   "id": "5624c8b1",
   "metadata": {},
   "outputs": [],
   "source": [
    "def node_connectivity(list_graph):\n",
    "    list_connectivity = []\n",
    "    for grafo in list_graph:\n",
    "        connectivity = approximation.node_connectivity(grafo)\n",
    "        list_connectivity.append(connectivity)\n",
    "    return list_connectivity"
   ]
  },
  {
   "cell_type": "code",
   "execution_count": null,
   "id": "d2383ac1",
   "metadata": {},
   "outputs": [],
   "source": [
    "cont = node_connectivity(list_graph_train)"
   ]
  },
  {
   "cell_type": "code",
   "execution_count": null,
   "id": "3fafba28",
   "metadata": {},
   "outputs": [],
   "source": [
    "def density(list_graph):\n",
    "    list_density = []\n",
    "    for grafo in list_graph:\n",
    "        density = nx.density(grafo)\n",
    "        list_density.append(density)\n",
    "    return list_density"
   ]
  },
  {
   "cell_type": "code",
   "execution_count": null,
   "id": "1c3717ef",
   "metadata": {},
   "outputs": [],
   "source": [
    "dt = density(list_graph_train)"
   ]
  },
  {
   "cell_type": "code",
   "execution_count": null,
   "id": "ce36d810",
   "metadata": {},
   "outputs": [],
   "source": [
    "def self_loop(list_graph):\n",
    "    list_sloop = []\n",
    "    for grafo in list_graph:\n",
    "        sloop = nx.number_of_selfloops(grafo)\n",
    "        list_sloop.append(sloop)\n",
    "    return list_sloop"
   ]
  },
  {
   "cell_type": "code",
   "execution_count": null,
   "id": "ff7d1ef5",
   "metadata": {},
   "outputs": [],
   "source": [
    "slt = self_loop(list_graph_train)"
   ]
  },
  {
   "cell_type": "code",
   "execution_count": null,
   "id": "98af49da",
   "metadata": {},
   "outputs": [],
   "source": [
    "def girth(list_graph):\n",
    "    list_girth = []\n",
    "    for grafo in list_graph:\n",
    "        grafo = grafo.to_undirected()\n",
    "        girth = nx.girth(grafo)\n",
    "        list_girth.append(girth)\n",
    "    return list_girth"
   ]
  },
  {
   "cell_type": "code",
   "execution_count": null,
   "id": "b782caf0",
   "metadata": {},
   "outputs": [],
   "source": [
    "gt = girth(list_graph_train)"
   ]
  },
  {
   "cell_type": "code",
   "execution_count": null,
   "id": "170ff1e3",
   "metadata": {},
   "outputs": [],
   "source": [
    "def maximal_matching(list_graph):\n",
    "    list_matching = []\n",
    "    for grafo in list_graph:\n",
    "        grafo = grafo.to_undirected()\n",
    "        list_matching.append(matching)\n",
    "    return list_matching"
   ]
  },
  {
   "cell_type": "code",
   "execution_count": null,
   "id": "b5ba2c24",
   "metadata": {},
   "outputs": [],
   "source": [
    "mmt = maximal_matching(list_graph_train) #Sí funciona pero son pares de palabras, no un dato numérico"
   ]
  },
  {
   "cell_type": "code",
   "execution_count": null,
   "id": "b5bcf2a5",
   "metadata": {},
   "outputs": [],
   "source": [
    "df_t = pd.DataFrame({'id': df_train['id'].tolist(),\n",
    "                  'label': train_data['label'].tolist(),\n",
    "                  'nodes': nt,\n",
    "                  'edges': et,\n",
    "                  'node_connectivity': cont,\n",
    "                 'density': dt,\n",
    "                 'self_loop': slt,\n",
    "                'girth': gt})\n",
    "df_t.head()"
   ]
  },
  {
   "cell_type": "code",
   "execution_count": null,
   "id": "12a33f32",
   "metadata": {},
   "outputs": [],
   "source": [
    "df_t.to_csv('add-feat-train.csv', index=False)"
   ]
  }
 ],
 "metadata": {
  "kernelspec": {
   "display_name": "Python 3 (ipykernel)",
   "language": "python",
   "name": "python3"
  },
  "language_info": {
   "codemirror_mode": {
    "name": "ipython",
    "version": 3
   },
   "file_extension": ".py",
   "mimetype": "text/x-python",
   "name": "python",
   "nbconvert_exporter": "python",
   "pygments_lexer": "ipython3",
   "version": "3.12.3"
  }
 },
 "nbformat": 4,
 "nbformat_minor": 5
}
