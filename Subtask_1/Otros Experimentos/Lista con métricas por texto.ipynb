{
 "cells": [
  {
   "cell_type": "markdown",
   "id": "9e34dcb7",
   "metadata": {},
   "source": [
    "# Lista con métricas por texto (clustering, eficiencia global, centralidad,etc)"
   ]
  },
  {
   "cell_type": "code",
   "execution_count": null,
   "id": "c2ed2a81",
   "metadata": {},
   "outputs": [],
   "source": [
    "!pip install text2graphapi #Instalar la API"
   ]
  },
  {
   "cell_type": "code",
   "execution_count": null,
   "id": "9fb7407d",
   "metadata": {},
   "outputs": [],
   "source": [
    "from text2graphapi.src.Cooccurrence import Cooccurrence #Se importa el grafo tipo co-ocurrencia"
   ]
  },
  {
   "cell_type": "code",
   "execution_count": null,
   "id": "8920243a",
   "metadata": {},
   "outputs": [],
   "source": [
    "import numpy as np\n",
    "import pandas as pd\n",
    "import networkx as nx\n",
    "from PIL import Image\n",
    "import matplotlib.pyplot as plt"
   ]
  },
  {
   "cell_type": "markdown",
   "id": "0eefbfdc",
   "metadata": {},
   "source": [
    "## Subtask_1"
   ]
  },
  {
   "cell_type": "code",
   "execution_count": null,
   "id": "897af34c",
   "metadata": {},
   "outputs": [],
   "source": [
    "ruta_1 = 'se agrega la ruta del dataset original .jsonl'\n",
    "\n",
    "df = pd.read_json(ruta_1, lines=True)\n",
    "\n",
    "#df = df.iloc[:50000] - Esta línea es si se quiere trabajar con sólo una parte del dataset\n",
    "\n",
    "df.to_csv('data-2.csv', index=False)\n",
    "df.head()"
   ]
  },
  {
   "cell_type": "code",
   "execution_count": null,
   "id": "0ef344cd",
   "metadata": {},
   "outputs": [],
   "source": [
    "#Se separan los datos por label: 'human' y 'generated'\n",
    "df_human = df.loc[df.label == 'human']\n",
    "df_generated = df.loc[df.label == 'generated']"
   ]
  },
  {
   "cell_type": "code",
   "execution_count": null,
   "id": "4fd0068e",
   "metadata": {},
   "outputs": [],
   "source": [
    "#Se seleccionan sólo las columnas id, text y se renombra text por 'doc'\n",
    "df_human = df_human[['id', 'text']]\n",
    "df_human = df_human.rename(columns={'text': 'doc'})\n",
    "doc_h = df_human.to_dict(orient='records')\n",
    "\n",
    "\n",
    "\n",
    "df_generated = df_generated[['id', 'text']]\n",
    "df_generated = df_generated.rename(columns={'text': 'doc'})\n",
    "doc_g = df_generated.to_dict(orient='records')"
   ]
  },
  {
   "cell_type": "code",
   "execution_count": null,
   "id": "d74a5c65",
   "metadata": {},
   "outputs": [],
   "source": [
    "print('documentos-humano: ',len(doc_h), '\\n','documentos-máquina: ',len(doc_g))"
   ]
  },
  {
   "cell_type": "code",
   "execution_count": null,
   "id": "6f3fd310",
   "metadata": {},
   "outputs": [],
   "source": [
    "#Se define el grafo tipo co-ocurrencia\n",
    "coocc_graph = Cooccurrence(graph_type = 'DiGraph',\n",
    "                                   language = 'sp',\n",
    "                                   apply_prep = False,\n",
    "                                   window_size= 3,\n",
    "                                   output_format = 'networkx')"
   ]
  },
  {
   "cell_type": "code",
   "execution_count": null,
   "id": "05529d39",
   "metadata": {},
   "outputs": [],
   "source": [
    "#Se divide en human-generated\n",
    "coocc_graph_human = coocc_graph.transform(doc_h)\n",
    "coocc_graph_generated = coocc_graph.transform(doc_g)"
   ]
  },
  {
   "cell_type": "markdown",
   "id": "e2f779bd-c931-4cd7-8054-f06b5328cf06",
   "metadata": {},
   "source": [
    "Se hacen 2 listas para guardar los grafos"
   ]
  },
  {
   "cell_type": "code",
   "execution_count": null,
   "id": "44dff6ee",
   "metadata": {},
   "outputs": [],
   "source": [
    "list_graph_human = []\n",
    "\n",
    "for grafo in coocc_graph_human:\n",
    "    graph = grafo['graph']\n",
    "    list_graph_human.append(graph)"
   ]
  },
  {
   "cell_type": "code",
   "execution_count": null,
   "id": "85a3784f",
   "metadata": {},
   "outputs": [],
   "source": [
    "list_graph_generated = []\n",
    "\n",
    "for grafo in coocc_graph_generated:\n",
    "    graph = grafo['graph']\n",
    "    list_graph_generated.append(graph)"
   ]
  },
  {
   "cell_type": "markdown",
   "id": "a7e6b7d1-a09a-4db9-a57b-671183adf136",
   "metadata": {},
   "source": [
    "## Comienzan las métricas de la paquetería Networkx"
   ]
  },
  {
   "cell_type": "code",
   "execution_count": null,
   "id": "9093be74",
   "metadata": {},
   "outputs": [],
   "source": [
    "def clustering(list_graph):\n",
    "    list_clustering = []\n",
    "    for grafo in list_graph:\n",
    "        clustering = nx.average_clustering(grafo)\n",
    "        list_clustering.append(clustering)\n",
    "    return  list_clustering"
   ]
  },
  {
   "cell_type": "code",
   "execution_count": null,
   "id": "ea594ad8",
   "metadata": {},
   "outputs": [],
   "source": [
    "clh = clustering(list_graph_human)\n",
    "clg = clustering(list_graph_generated)"
   ]
  },
  {
   "cell_type": "code",
   "execution_count": null,
   "id": "77295cb1",
   "metadata": {},
   "outputs": [],
   "source": [
    "print(clh[:5])"
   ]
  },
  {
   "cell_type": "code",
   "execution_count": null,
   "id": "ba19c408",
   "metadata": {},
   "outputs": [],
   "source": [
    "def efficiency(list_graph):\n",
    "    list_efficiency = []\n",
    "    for grafo in list_graph:\n",
    "        grafo = grafo.to_undirected()\n",
    "        efficiency = nx.global_efficiency(grafo)\n",
    "        list_efficiency.append(efficiency)\n",
    "    return list_efficiency"
   ]
  },
  {
   "cell_type": "code",
   "execution_count": null,
   "id": "153a19cb",
   "metadata": {},
   "outputs": [],
   "source": [
    "eh = efficiency(list_graph_human)\n",
    "eg = efficiency(list_graph_generated)"
   ]
  },
  {
   "cell_type": "code",
   "execution_count": null,
   "id": "d21902c4",
   "metadata": {},
   "outputs": [],
   "source": [
    "def closeness(list_graph):\n",
    "    list_closeness = []\n",
    "    for grafo in list_graph:\n",
    "        closeness = nx.closeness_centrality(grafo)\n",
    "        list_closeness.append(sum(closeness.values()) / len(closeness.values()))\n",
    "    return list_closeness"
   ]
  },
  {
   "cell_type": "code",
   "execution_count": null,
   "id": "2db7a605",
   "metadata": {},
   "outputs": [],
   "source": [
    "ch = closeness(list_graph_human)\n",
    "cg = closeness(list_graph_generated)"
   ]
  },
  {
   "cell_type": "code",
   "execution_count": null,
   "id": "ea4ab269",
   "metadata": {},
   "outputs": [],
   "source": [
    "print(ch[:5])"
   ]
  },
  {
   "cell_type": "code",
   "execution_count": null,
   "id": "274c7743",
   "metadata": {},
   "outputs": [],
   "source": [
    "def degree(list_graph):\n",
    "    list_degree = []\n",
    "    for grafo in list_graph:\n",
    "        degree = np.mean(list(dict(grafo.degree()).values()))\n",
    "        list_degree.append(degree)\n",
    "    return list_degree"
   ]
  },
  {
   "cell_type": "code",
   "execution_count": null,
   "id": "94ca853e",
   "metadata": {},
   "outputs": [],
   "source": [
    "dh = degree(list_graph_human)\n",
    "dg = degree(list_graph_generated)"
   ]
  },
  {
   "cell_type": "code",
   "execution_count": null,
   "id": "602dcf54",
   "metadata": {},
   "outputs": [],
   "source": [
    "def degree_cent(list_graph):\n",
    "    list_degree_cent = []\n",
    "    for grafo in list_graph:\n",
    "        centrality = list(nx.degree_centrality(grafo).values())\n",
    "        count = np.mean(centrality)\n",
    "        list_degree_cent.append(count)\n",
    "    return list_degree_cent"
   ]
  },
  {
   "cell_type": "code",
   "execution_count": null,
   "id": "0c131351",
   "metadata": {},
   "outputs": [],
   "source": [
    "dc_h = degree_cent(list_graph_human)\n",
    "dc_g = degree_cent(list_graph_generated)"
   ]
  },
  {
   "cell_type": "code",
   "execution_count": null,
   "id": "3bde91e1",
   "metadata": {},
   "outputs": [],
   "source": [
    "def betweenness(list_graph):\n",
    "    list_betweenness = []\n",
    "    for grafo in list_graph:\n",
    "        betweenness = list(nx.betweenness_centrality(grafo).values())\n",
    "        count = np.mean(betweenness)\n",
    "        list_betweenness.append(count)\n",
    "    return list_betweenness"
   ]
  },
  {
   "cell_type": "code",
   "execution_count": null,
   "id": "06487bff",
   "metadata": {},
   "outputs": [],
   "source": [
    "bh = betweenness(list_graph_human)\n",
    "bg = betweenness(list_graph_generated)"
   ]
  },
  {
   "cell_type": "code",
   "execution_count": null,
   "id": "77cd4fd9",
   "metadata": {},
   "outputs": [],
   "source": [
    "def neighbor_degree(list_graph):\n",
    "    list_neighbor = []\n",
    "    for grafo in list_graph:\n",
    "        count = np.mean(list(nx.average_neighbor_degree(grafo).values()))\n",
    "        list_neighbor.append(count)\n",
    "    return list_neighbor"
   ]
  },
  {
   "cell_type": "code",
   "execution_count": null,
   "id": "ea9a49d7",
   "metadata": {},
   "outputs": [],
   "source": [
    "nh = neighbor_degree(list_graph_human)\n",
    "ng = neighbor_degree(list_graph_generated)"
   ]
  },
  {
   "cell_type": "code",
   "execution_count": null,
   "id": "fb6d9315",
   "metadata": {},
   "outputs": [],
   "source": [
    "def assortativity(list_graph):\n",
    "    list_assortativity = []\n",
    "    for grafo in list_graph:\n",
    "        try:\n",
    "            assort = nx.degree_pearson_correlation_coefficient(grafo)\n",
    "        except:\n",
    "            assort = np.nan\n",
    "        list_assortativity.append(assort)\n",
    "    return list_assortativity"
   ]
  },
  {
   "cell_type": "code",
   "execution_count": null,
   "id": "78637660",
   "metadata": {},
   "outputs": [],
   "source": [
    "as_h = assortativity(list_graph_human)\n",
    "as_g = assortativity(list_graph_generated)"
   ]
  },
  {
   "cell_type": "code",
   "execution_count": null,
   "id": "3f6db3da",
   "metadata": {},
   "outputs": [],
   "source": [
    "def transitivity(list_graph):\n",
    "    list_transitivity = []\n",
    "    for grafo in list_graph:\n",
    "        trans = nx.transitivity(grafo)\n",
    "        list_transitivity.append(trans)\n",
    "    return list_transitivity"
   ]
  },
  {
   "cell_type": "code",
   "execution_count": null,
   "id": "ce495ab1",
   "metadata": {},
   "outputs": [],
   "source": [
    "th = transitivity(list_graph_human)\n",
    "tg = transitivity(list_graph_generated)"
   ]
  },
  {
   "cell_type": "code",
   "execution_count": null,
   "id": "09761bc5",
   "metadata": {},
   "outputs": [],
   "source": [
    "def number_components(list_graph):\n",
    "    list_number_components = []\n",
    "    for grafo in list_graph:\n",
    "        grafo = grafo.to_undirected()\n",
    "        num_components = nx.number_connected_components(grafo)\n",
    "        list_number_components.append(num_components)\n",
    "    return list_number_components"
   ]
  },
  {
   "cell_type": "code",
   "execution_count": null,
   "id": "745455fc",
   "metadata": {},
   "outputs": [],
   "source": [
    "nc_h = number_components(list_graph_human)\n",
    "nc_g = number_components(list_graph_generated)"
   ]
  },
  {
   "cell_type": "code",
   "execution_count": null,
   "id": "d822296e",
   "metadata": {},
   "outputs": [],
   "source": [
    "def number_strong_comp(list_graph):\n",
    "    list_number_strong_comp = []\n",
    "    for grafo in list_graph:\n",
    "        num_strong_components = nx.number_strongly_connected_components(grafo)\n",
    "        list_number_strong_comp.append(num_strong_components)\n",
    "    return list_number_strong_comp"
   ]
  },
  {
   "cell_type": "code",
   "execution_count": null,
   "id": "087071ee",
   "metadata": {},
   "outputs": [],
   "source": [
    "nsc_h = number_strong_comp(list_graph_human)\n",
    "nsc_g = number_strong_comp(list_graph_generated)"
   ]
  },
  {
   "cell_type": "code",
   "execution_count": null,
   "id": "1f4f18b9",
   "metadata": {},
   "outputs": [],
   "source": [
    "def entropy(cent_measure):\n",
    "    m = np.asarray(cent_measure, float)\n",
    "    dist = m / m.sum()\n",
    "    ent = np.nansum(dist * np.log2(1.0 / dist))\n",
    "    return ent"
   ]
  },
  {
   "cell_type": "code",
   "execution_count": null,
   "id": "a6b0c5a3",
   "metadata": {},
   "outputs": [],
   "source": [
    "def entropy_centr(list_graph):\n",
    "    list_entropy_centr = []\n",
    "    for grafo in list_graph:\n",
    "        centrality = list(nx.degree_centrality((grafo)).values())\n",
    "        num_entropy = entropy(centrality)\n",
    "        list_entropy_centr.append(num_entropy)\n",
    "    return list_entropy_centr"
   ]
  },
  {
   "cell_type": "code",
   "execution_count": null,
   "id": "a474524f",
   "metadata": {},
   "outputs": [],
   "source": [
    "ect_h = entropy_centr(list_graph_human)\n",
    "ect_g = entropy_centr(list_graph_generated)"
   ]
  },
  {
   "cell_type": "code",
   "execution_count": null,
   "id": "21d883f7",
   "metadata": {},
   "outputs": [],
   "source": [
    "def entropy_clos(list_graph):\n",
    "    list_entropy_clos = []\n",
    "    for grafo in list_graph:\n",
    "        centrality = list(nx.closeness_centrality((grafo)).values())\n",
    "        num_entropy = entropy(centrality)\n",
    "        list_entropy_clos.append(num_entropy)\n",
    "    return list_entropy_clos"
   ]
  },
  {
   "cell_type": "code",
   "execution_count": null,
   "id": "20524401",
   "metadata": {},
   "outputs": [],
   "source": [
    "ecl_h = entropy_clos(list_graph_human)\n",
    "ecl_g = entropy_clos(list_graph_generated)"
   ]
  },
  {
   "cell_type": "code",
   "execution_count": null,
   "id": "88c124ab",
   "metadata": {},
   "outputs": [],
   "source": [
    "def sparseness(list_graph):\n",
    "    list_sparseness = []\n",
    "    for grafo in list_graph:\n",
    "        mat = nx.adjacency_matrix((grafo)).todense()\n",
    "        num_num = np.count_nonzero(mat)\n",
    "        num_val = np.prod(mat.shape)\n",
    "        sparseness = float(num_num) / num_val\n",
    "        list_sparseness.append(sparseness)\n",
    "    return list_sparseness"
   ]
  },
  {
   "cell_type": "code",
   "execution_count": null,
   "id": "b9661a24",
   "metadata": {},
   "outputs": [],
   "source": [
    "sh = sparseness(list_graph_human)\n",
    "sg = sparseness(list_graph_generated)"
   ]
  },
  {
   "cell_type": "markdown",
   "id": "2512f3c5-3306-4793-a078-00f2df1985e4",
   "metadata": {},
   "source": [
    "### Humano"
   ]
  },
  {
   "cell_type": "code",
   "execution_count": null,
   "id": "246f41df",
   "metadata": {},
   "outputs": [],
   "source": [
    "df_label_h = df.loc[df.label == 'human']['label']\n",
    "\n",
    "df_label_h.head()"
   ]
  },
  {
   "cell_type": "code",
   "execution_count": null,
   "id": "93981c34",
   "metadata": {},
   "outputs": [],
   "source": [
    "label_list_h = df_label_h.tolist()\n",
    "print(len(label_list_h))"
   ]
  },
  {
   "cell_type": "code",
   "execution_count": null,
   "id": "1cce59ea",
   "metadata": {},
   "outputs": [],
   "source": [
    "id_list_h = df_human['id'].tolist()\n",
    "print(len(id_list_h))"
   ]
  },
  {
   "cell_type": "code",
   "execution_count": null,
   "id": "b5bcf2a5",
   "metadata": {},
   "outputs": [],
   "source": [
    "#Se crea otro dataframe donde se guarden las métricas por texto\n",
    "df_h = pd.DataFrame({'id': id_list_h,\n",
    "                  'label': label_list_h,\n",
    "                  'clustering': clh,\n",
    "                  'global_efficiency': eh,\n",
    "                  'closeness': ch,\n",
    "                 'degree': dh,\n",
    "                 'degree_centrality': dc_h,\n",
    "                'betweenness': bh,\n",
    "                'neighbor_degree': nh,\n",
    "                'assortativity': as_h,\n",
    "                'transitivity': th,\n",
    "                'number_strong_comp': nsc_h,\n",
    "                'entropy_centr': ect_h,\n",
    "                'entropy_clos': ecl_h,\n",
    "                'sparseness': sh})\n",
    "df_h.head()"
   ]
  },
  {
   "cell_type": "markdown",
   "id": "a393e2cf-2b96-4693-a744-9f76b8bd6f00",
   "metadata": {},
   "source": [
    "### Generado"
   ]
  },
  {
   "cell_type": "code",
   "execution_count": null,
   "id": "9678f53b",
   "metadata": {},
   "outputs": [],
   "source": [
    "id_list_g = df_generated['id'].tolist()\n",
    "print(len(id_list_g))"
   ]
  },
  {
   "cell_type": "code",
   "execution_count": null,
   "id": "0fe0da5e",
   "metadata": {},
   "outputs": [],
   "source": [
    "df_label_g = df.loc[df.label == 'generated']['label']\n",
    "\n",
    "df_label_g.head()"
   ]
  },
  {
   "cell_type": "code",
   "execution_count": null,
   "id": "931c7370",
   "metadata": {},
   "outputs": [],
   "source": [
    "label_list_g = df_label_g.tolist()\n",
    "print(len(label_list_g))"
   ]
  },
  {
   "cell_type": "code",
   "execution_count": null,
   "id": "a897df62",
   "metadata": {},
   "outputs": [],
   "source": [
    "df_g = pd.DataFrame({'id': id_list_g,\n",
    "                  'label': label_list_g,\n",
    "                  'clustering': clg,\n",
    "                  'global_efficiency': eg,\n",
    "                  'closeness': cg,\n",
    "                    'degree': dg,\n",
    "                    'degree_centrality': dc_g,\n",
    "                    'betweenness': bg,\n",
    "                    'neighbor_degree': ng,\n",
    "                    'assortativity': as_g,\n",
    "                    'transitivity': tg,\n",
    "                    'number_strong_comp': nsc_g,\n",
    "                    'entropy_centr': ect_g,\n",
    "                    'entropy_clos': ecl_g,\n",
    "                    'sparseness': sg})\n",
    "df_g.head()"
   ]
  },
  {
   "cell_type": "code",
   "execution_count": null,
   "id": "69992b3e",
   "metadata": {},
   "outputs": [],
   "source": [
    "df_subtask_1_50k = pd.concat([df_h, df_g])\n",
    "\n",
    "df_subtask_1_50k"
   ]
  },
  {
   "cell_type": "code",
   "execution_count": null,
   "id": "12a33f32",
   "metadata": {},
   "outputs": [],
   "source": [
    "df_subtask_1_50k.to_csv('nombre del dataset obtenido.csv', index=False)"
   ]
  },
  {
   "cell_type": "markdown",
   "id": "6b3aa147",
   "metadata": {},
   "source": [
    "## Subtask_2"
   ]
  },
  {
   "cell_type": "markdown",
   "id": "09b11efa-665f-4428-b125-d303f2255f72",
   "metadata": {},
   "source": [
    "Para la subtask 2 se hace lo mismo pero se separan los textos por ABCDEF que corresponden a distintas máquinas generadoras de texto"
   ]
  },
  {
   "cell_type": "code",
   "execution_count": null,
   "id": "208755a7",
   "metadata": {},
   "outputs": [],
   "source": [
    "ruta_2 = 'se agrega la ruta del dataset original .jsonl'\n",
    "\n",
    "df_2 = pd.read_json(ruta_2, lines=True)\n",
    "\n",
    "#df_2 = df_2.iloc[29378:]\n",
    "\n",
    "df_2.to_csv('data-2.csv', index=False)\n",
    "df_2.head()"
   ]
  },
  {
   "cell_type": "code",
   "execution_count": null,
   "id": "b8486e79",
   "metadata": {},
   "outputs": [],
   "source": [
    "df_ABCDEF = df_2[['id', 'text']]\n",
    "df_ABCDEF = df_ABCDEF.rename(columns={'text': 'doc'})\n",
    "doc_ABCDEF = df_ABCDEF.to_dict(orient='records')"
   ]
  },
  {
   "cell_type": "code",
   "execution_count": null,
   "id": "d402c95e",
   "metadata": {},
   "outputs": [],
   "source": [
    "print('documentos-generados (A, B, C, D, E, F): ',len(doc_ABCDEF))"
   ]
  },
  {
   "cell_type": "code",
   "execution_count": null,
   "id": "2b71cbc9",
   "metadata": {},
   "outputs": [],
   "source": [
    "coocc_graph_ABCDEF = coocc_graph.transform(doc_ABCDEF)"
   ]
  },
  {
   "cell_type": "code",
   "execution_count": null,
   "id": "635957d6",
   "metadata": {},
   "outputs": [],
   "source": [
    "list_graph_ABCDEF = []\n",
    "\n",
    "for grafo in coocc_graph_ABCDEF:\n",
    "    graph = grafo['graph']\n",
    "    list_graph_ABCDEF.append(graph)"
   ]
  },
  {
   "cell_type": "code",
   "execution_count": null,
   "id": "dc9db72d",
   "metadata": {},
   "outputs": [],
   "source": [
    "cl_ABCDEF = clustering(list_graph_ABCDEF)"
   ]
  },
  {
   "cell_type": "code",
   "execution_count": null,
   "id": "f3309c5f",
   "metadata": {},
   "outputs": [],
   "source": [
    "e_ABCDEF = efficiency(list_graph_ABCDEF)"
   ]
  },
  {
   "cell_type": "code",
   "execution_count": null,
   "id": "eb214d64",
   "metadata": {},
   "outputs": [],
   "source": [
    "c_ABCDEF = closeness(list_graph_ABCDEF)"
   ]
  },
  {
   "cell_type": "code",
   "execution_count": null,
   "id": "8741fce8",
   "metadata": {},
   "outputs": [],
   "source": [
    "d_ABCDEF = degree(list_graph_ABCDEF)"
   ]
  },
  {
   "cell_type": "code",
   "execution_count": null,
   "id": "1e1dd06c",
   "metadata": {},
   "outputs": [],
   "source": [
    "dc_ABCDEF = degree_cent(list_graph_ABCDEF)"
   ]
  },
  {
   "cell_type": "code",
   "execution_count": null,
   "id": "4f7f4d5e",
   "metadata": {},
   "outputs": [],
   "source": [
    "b_ABCDEF = betweenness(list_graph_ABCDEF)"
   ]
  },
  {
   "cell_type": "code",
   "execution_count": null,
   "id": "58343df9",
   "metadata": {},
   "outputs": [],
   "source": [
    "n_ABCDEF = neighbor_degree(list_graph_ABCDEF)"
   ]
  },
  {
   "cell_type": "code",
   "execution_count": null,
   "id": "94b87087",
   "metadata": {},
   "outputs": [],
   "source": [
    "as_ABCDEF = assortativity(list_graph_ABCDEF)"
   ]
  },
  {
   "cell_type": "code",
   "execution_count": null,
   "id": "d8969177",
   "metadata": {},
   "outputs": [],
   "source": [
    "t_ABCDEF = transitivity(list_graph_ABCDEF)"
   ]
  },
  {
   "cell_type": "code",
   "execution_count": null,
   "id": "02351812",
   "metadata": {},
   "outputs": [],
   "source": [
    "nc_ABCDEF = number_components(list_graph_ABCDEF)"
   ]
  },
  {
   "cell_type": "code",
   "execution_count": null,
   "id": "0d1138b9",
   "metadata": {},
   "outputs": [],
   "source": [
    "nsc_ABCDEF = number_strong_comp(list_graph_ABCDEF)"
   ]
  },
  {
   "cell_type": "code",
   "execution_count": null,
   "id": "d7913286",
   "metadata": {},
   "outputs": [],
   "source": [
    "ect_ABCDEF = entropy_centr(list_graph_ABCDEF)"
   ]
  },
  {
   "cell_type": "code",
   "execution_count": null,
   "id": "011f4cfd",
   "metadata": {},
   "outputs": [],
   "source": [
    "ecl_ABDCEF = entropy_clos(list_graph_ABCDEF)"
   ]
  },
  {
   "cell_type": "code",
   "execution_count": null,
   "id": "57a48edc",
   "metadata": {},
   "outputs": [],
   "source": [
    "s_ABCDEF = sparseness(list_graph_ABCDEF)"
   ]
  },
  {
   "cell_type": "code",
   "execution_count": null,
   "id": "72dabf5f",
   "metadata": {},
   "outputs": [],
   "source": [
    "id_list_ABCDEF = df_ABCDEF['id'].tolist()\n",
    "print(len(id_list_ABCDEF))"
   ]
  },
  {
   "cell_type": "code",
   "execution_count": null,
   "id": "ad7b077d",
   "metadata": {},
   "outputs": [],
   "source": [
    "label_list_ABCDEF = df_2['label'].tolist()\n",
    "print(len(label_list_ABCDEF))"
   ]
  },
  {
   "cell_type": "code",
   "execution_count": null,
   "id": "a33b830e",
   "metadata": {},
   "outputs": [],
   "source": [
    "df_subtask_2 = pd.DataFrame({'id': id_list_ABCDEF,\n",
    "                          'label': label_list_ABCDEF,\n",
    "                          'clustering': cl_ABCDEF,\n",
    "                          'global_efficiency': e_ABCDEF,\n",
    "                          'closeness': c_ABCDEF,\n",
    "                                     'degree': d_ABCDEF,\n",
    "                            'degree_centrality': dc_ABCDEF,\n",
    "                            'betweenness': b_ABCDEF,\n",
    "                            'neighbor_degree': n_ABCDEF,\n",
    "                            'assortativity': as_ABCDEF,\n",
    "                            'transitivity': t_ABCDEF,\n",
    "                            'number_strong_comp': nsc_ABCDEF,\n",
    "                            'entropy_centr': ect_ABCDEF,\n",
    "                            'entropy_clos': ecl_ABDCEF,\n",
    "                            'sparseness': s_ABCDEF})\n",
    "df_subtask_2.head()"
   ]
  },
  {
   "cell_type": "code",
   "execution_count": null,
   "id": "8f17ab0e",
   "metadata": {},
   "outputs": [],
   "source": [
    "df_subtask_2.to_csv('data-subtask_2.csv', index=False)"
   ]
  }
 ],
 "metadata": {
  "kernelspec": {
   "display_name": "Python 3 (ipykernel)",
   "language": "python",
   "name": "python3"
  },
  "language_info": {
   "codemirror_mode": {
    "name": "ipython",
    "version": 3
   },
   "file_extension": ".py",
   "mimetype": "text/x-python",
   "name": "python",
   "nbconvert_exporter": "python",
   "pygments_lexer": "ipython3",
   "version": "3.12.3"
  }
 },
 "nbformat": 4,
 "nbformat_minor": 5
}
