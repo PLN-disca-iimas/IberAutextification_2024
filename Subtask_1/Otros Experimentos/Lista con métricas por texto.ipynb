{
 "cells": [
  {
   "cell_type": "markdown",
   "id": "9e34dcb7",
   "metadata": {},
   "source": [
    "# Lista con métricas por texto (clustering, eficiencia global, centralidad,etc)"
   ]
  },
  {
   "cell_type": "code",
   "execution_count": 1,
   "id": "c2ed2a81",
   "metadata": {},
   "outputs": [
    {
     "name": "stdout",
     "output_type": "stream",
     "text": [
      "Requirement already satisfied: text2graphapi in c:\\users\\yara\\appdata\\roaming\\python\\python39\\site-packages (0.2.0)\n",
      "Requirement already satisfied: emot in c:\\users\\yara\\appdata\\roaming\\python\\python39\\site-packages (from text2graphapi) (3.1)\n",
      "Requirement already satisfied: networkx in c:\\users\\yara\\appdata\\roaming\\python\\python39\\site-packages (from text2graphapi) (3.2.1)\n",
      "Requirement already satisfied: pandas in c:\\programdata\\anaconda3\\lib\\site-packages (from text2graphapi) (1.3.4)\n",
      "Requirement already satisfied: nltk in c:\\programdata\\anaconda3\\lib\\site-packages (from text2graphapi) (3.6.5)\n",
      "Requirement already satisfied: scipy in c:\\users\\yara\\appdata\\roaming\\python\\python39\\site-packages (from text2graphapi) (1.12.0)\n",
      "Requirement already satisfied: spacy in c:\\users\\yara\\appdata\\roaming\\python\\python39\\site-packages (from text2graphapi) (3.7.4)\n",
      "Requirement already satisfied: contractions in c:\\users\\yara\\appdata\\roaming\\python\\python39\\site-packages (from text2graphapi) (0.1.73)\n",
      "Requirement already satisfied: sphinx in c:\\programdata\\anaconda3\\lib\\site-packages (from text2graphapi) (4.2.0)\n",
      "Requirement already satisfied: matplotlib in c:\\programdata\\anaconda3\\lib\\site-packages (from text2graphapi) (3.4.3)\n",
      "Requirement already satisfied: numpy in c:\\users\\yara\\appdata\\roaming\\python\\python39\\site-packages (from text2graphapi) (1.26.4)\n",
      "Requirement already satisfied: joblib in c:\\programdata\\anaconda3\\lib\\site-packages (from text2graphapi) (1.1.0)\n",
      "Requirement already satisfied: flashtext in c:\\users\\yara\\appdata\\roaming\\python\\python39\\site-packages (from text2graphapi) (2.7)\n",
      "Requirement already satisfied: setuptools in c:\\programdata\\anaconda3\\lib\\site-packages (from text2graphapi) (58.0.4)\n",
      "Requirement already satisfied: emoji in c:\\users\\yara\\appdata\\roaming\\python\\python39\\site-packages (from text2graphapi) (2.10.1)\n",
      "Requirement already satisfied: textsearch>=0.0.21 in c:\\users\\yara\\appdata\\roaming\\python\\python39\\site-packages (from contractions->text2graphapi) (0.0.24)\n",
      "Requirement already satisfied: pyahocorasick in c:\\users\\yara\\appdata\\roaming\\python\\python39\\site-packages (from textsearch>=0.0.21->contractions->text2graphapi) (2.0.0)\n",
      "Requirement already satisfied: anyascii in c:\\users\\yara\\appdata\\roaming\\python\\python39\\site-packages (from textsearch>=0.0.21->contractions->text2graphapi) (0.3.2)\n",
      "Requirement already satisfied: python-dateutil>=2.7 in c:\\programdata\\anaconda3\\lib\\site-packages (from matplotlib->text2graphapi) (2.8.2)\n",
      "Requirement already satisfied: kiwisolver>=1.0.1 in c:\\programdata\\anaconda3\\lib\\site-packages (from matplotlib->text2graphapi) (1.3.1)\n",
      "Requirement already satisfied: pillow>=6.2.0 in c:\\programdata\\anaconda3\\lib\\site-packages (from matplotlib->text2graphapi) (8.4.0)\n",
      "Requirement already satisfied: pyparsing>=2.2.1 in c:\\programdata\\anaconda3\\lib\\site-packages (from matplotlib->text2graphapi) (3.0.4)\n",
      "Requirement already satisfied: cycler>=0.10 in c:\\programdata\\anaconda3\\lib\\site-packages (from matplotlib->text2graphapi) (0.10.0)\n",
      "Requirement already satisfied: six in c:\\programdata\\anaconda3\\lib\\site-packages (from cycler>=0.10->matplotlib->text2graphapi) (1.16.0)\n",
      "Requirement already satisfied: click in c:\\programdata\\anaconda3\\lib\\site-packages (from nltk->text2graphapi) (8.0.3)\n",
      "Requirement already satisfied: regex>=2021.8.3 in c:\\programdata\\anaconda3\\lib\\site-packages (from nltk->text2graphapi) (2021.8.3)\n",
      "Requirement already satisfied: tqdm in c:\\programdata\\anaconda3\\lib\\site-packages (from nltk->text2graphapi) (4.62.3)\n",
      "Requirement already satisfied: colorama in c:\\users\\yara\\appdata\\roaming\\python\\python39\\site-packages (from click->nltk->text2graphapi) (0.4.6)\n",
      "Requirement already satisfied: pytz>=2017.3 in c:\\programdata\\anaconda3\\lib\\site-packages (from pandas->text2graphapi) (2021.3)\n",
      "Requirement already satisfied: weasel<0.4.0,>=0.1.0 in c:\\users\\yara\\appdata\\roaming\\python\\python39\\site-packages (from spacy->text2graphapi) (0.3.4)\n",
      "Requirement already satisfied: wasabi<1.2.0,>=0.9.1 in c:\\users\\yara\\appdata\\roaming\\python\\python39\\site-packages (from spacy->text2graphapi) (1.1.2)\n",
      "Requirement already satisfied: smart-open<7.0.0,>=5.2.1 in c:\\users\\yara\\appdata\\roaming\\python\\python39\\site-packages (from spacy->text2graphapi) (6.4.0)\n",
      "Requirement already satisfied: spacy-loggers<2.0.0,>=1.0.0 in c:\\users\\yara\\appdata\\roaming\\python\\python39\\site-packages (from spacy->text2graphapi) (1.0.5)\n",
      "Requirement already satisfied: murmurhash<1.1.0,>=0.28.0 in c:\\users\\yara\\appdata\\roaming\\python\\python39\\site-packages (from spacy->text2graphapi) (1.0.10)\n",
      "Requirement already satisfied: langcodes<4.0.0,>=3.2.0 in c:\\users\\yara\\appdata\\roaming\\python\\python39\\site-packages (from spacy->text2graphapi) (3.3.0)\n",
      "Requirement already satisfied: pydantic!=1.8,!=1.8.1,<3.0.0,>=1.7.4 in c:\\users\\yara\\appdata\\roaming\\python\\python39\\site-packages (from spacy->text2graphapi) (2.6.4)\n",
      "Requirement already satisfied: preshed<3.1.0,>=3.0.2 in c:\\users\\yara\\appdata\\roaming\\python\\python39\\site-packages (from spacy->text2graphapi) (3.0.9)\n",
      "Requirement already satisfied: srsly<3.0.0,>=2.4.3 in c:\\users\\yara\\appdata\\roaming\\python\\python39\\site-packages (from spacy->text2graphapi) (2.4.8)\n",
      "Requirement already satisfied: typer<0.10.0,>=0.3.0 in c:\\users\\yara\\appdata\\roaming\\python\\python39\\site-packages (from spacy->text2graphapi) (0.9.0)\n",
      "Requirement already satisfied: thinc<8.3.0,>=8.2.2 in c:\\users\\yara\\appdata\\roaming\\python\\python39\\site-packages (from spacy->text2graphapi) (8.2.3)\n",
      "Requirement already satisfied: packaging>=20.0 in c:\\programdata\\anaconda3\\lib\\site-packages (from spacy->text2graphapi) (21.0)\n",
      "Requirement already satisfied: jinja2 in c:\\programdata\\anaconda3\\lib\\site-packages (from spacy->text2graphapi) (2.11.3)\n",
      "Requirement already satisfied: catalogue<2.1.0,>=2.0.6 in c:\\users\\yara\\appdata\\roaming\\python\\python39\\site-packages (from spacy->text2graphapi) (2.0.10)\n",
      "Requirement already satisfied: spacy-legacy<3.1.0,>=3.0.11 in c:\\users\\yara\\appdata\\roaming\\python\\python39\\site-packages (from spacy->text2graphapi) (3.0.12)\n",
      "Requirement already satisfied: requests<3.0.0,>=2.13.0 in c:\\programdata\\anaconda3\\lib\\site-packages (from spacy->text2graphapi) (2.26.0)\n",
      "Requirement already satisfied: cymem<2.1.0,>=2.0.2 in c:\\users\\yara\\appdata\\roaming\\python\\python39\\site-packages (from spacy->text2graphapi) (2.0.8)\n",
      "Requirement already satisfied: annotated-types>=0.4.0 in c:\\users\\yara\\appdata\\roaming\\python\\python39\\site-packages (from pydantic!=1.8,!=1.8.1,<3.0.0,>=1.7.4->spacy->text2graphapi) (0.6.0)\n",
      "Requirement already satisfied: typing-extensions>=4.6.1 in c:\\users\\yara\\appdata\\roaming\\python\\python39\\site-packages (from pydantic!=1.8,!=1.8.1,<3.0.0,>=1.7.4->spacy->text2graphapi) (4.10.0)\n",
      "Requirement already satisfied: pydantic-core==2.16.3 in c:\\users\\yara\\appdata\\roaming\\python\\python39\\site-packages (from pydantic!=1.8,!=1.8.1,<3.0.0,>=1.7.4->spacy->text2graphapi) (2.16.3)\n",
      "Requirement already satisfied: certifi>=2017.4.17 in c:\\programdata\\anaconda3\\lib\\site-packages (from requests<3.0.0,>=2.13.0->spacy->text2graphapi) (2021.10.8)\n",
      "Requirement already satisfied: idna<4,>=2.5 in c:\\programdata\\anaconda3\\lib\\site-packages (from requests<3.0.0,>=2.13.0->spacy->text2graphapi) (3.2)\n",
      "Requirement already satisfied: urllib3<1.27,>=1.21.1 in c:\\programdata\\anaconda3\\lib\\site-packages (from requests<3.0.0,>=2.13.0->spacy->text2graphapi) (1.26.7)\n",
      "Requirement already satisfied: charset-normalizer~=2.0.0 in c:\\programdata\\anaconda3\\lib\\site-packages (from requests<3.0.0,>=2.13.0->spacy->text2graphapi) (2.0.4)\n",
      "Requirement already satisfied: blis<0.8.0,>=0.7.8 in c:\\users\\yara\\appdata\\roaming\\python\\python39\\site-packages (from thinc<8.3.0,>=8.2.2->spacy->text2graphapi) (0.7.11)\n",
      "Requirement already satisfied: confection<1.0.0,>=0.0.1 in c:\\users\\yara\\appdata\\roaming\\python\\python39\\site-packages (from thinc<8.3.0,>=8.2.2->spacy->text2graphapi) (0.1.4)\n",
      "Requirement already satisfied: cloudpathlib<0.17.0,>=0.7.0 in c:\\users\\yara\\appdata\\roaming\\python\\python39\\site-packages (from weasel<0.4.0,>=0.1.0->spacy->text2graphapi) (0.16.0)\n",
      "Requirement already satisfied: MarkupSafe>=0.23 in c:\\programdata\\anaconda3\\lib\\site-packages (from jinja2->spacy->text2graphapi) (1.1.1)\n",
      "Requirement already satisfied: sphinxcontrib-applehelp in c:\\programdata\\anaconda3\\lib\\site-packages (from sphinx->text2graphapi) (1.0.2)\n",
      "Requirement already satisfied: sphinxcontrib-devhelp in c:\\programdata\\anaconda3\\lib\\site-packages (from sphinx->text2graphapi) (1.0.2)\n",
      "Requirement already satisfied: sphinxcontrib-jsmath in c:\\programdata\\anaconda3\\lib\\site-packages (from sphinx->text2graphapi) (1.0.1)\n",
      "Requirement already satisfied: sphinxcontrib-htmlhelp>=2.0.0 in c:\\programdata\\anaconda3\\lib\\site-packages (from sphinx->text2graphapi) (2.0.0)\n",
      "Requirement already satisfied: sphinxcontrib-serializinghtml>=1.1.5 in c:\\programdata\\anaconda3\\lib\\site-packages (from sphinx->text2graphapi) (1.1.5)\n",
      "Requirement already satisfied: sphinxcontrib-qthelp in c:\\programdata\\anaconda3\\lib\\site-packages (from sphinx->text2graphapi) (1.0.3)\n",
      "Requirement already satisfied: Pygments>=2.0 in c:\\programdata\\anaconda3\\lib\\site-packages (from sphinx->text2graphapi) (2.10.0)\n",
      "Requirement already satisfied: docutils<0.18,>=0.14 in c:\\programdata\\anaconda3\\lib\\site-packages (from sphinx->text2graphapi) (0.17.1)\n",
      "Requirement already satisfied: snowballstemmer>=1.1 in c:\\programdata\\anaconda3\\lib\\site-packages (from sphinx->text2graphapi) (2.1.0)\n",
      "Requirement already satisfied: babel>=1.3 in c:\\programdata\\anaconda3\\lib\\site-packages (from sphinx->text2graphapi) (2.9.1)\n",
      "Requirement already satisfied: alabaster<0.8,>=0.7 in c:\\programdata\\anaconda3\\lib\\site-packages (from sphinx->text2graphapi) (0.7.12)\n",
      "Requirement already satisfied: imagesize in c:\\programdata\\anaconda3\\lib\\site-packages (from sphinx->text2graphapi) (1.2.0)\n",
      "Note: you may need to restart the kernel to use updated packages.\n"
     ]
    },
    {
     "name": "stderr",
     "output_type": "stream",
     "text": [
      "WARNING: Ignoring invalid distribution -etworkx (c:\\programdata\\anaconda3\\lib\\site-packages)\n",
      "WARNING: Ignoring invalid distribution -etworkx (c:\\programdata\\anaconda3\\lib\\site-packages)\n",
      "WARNING: Ignoring invalid distribution -etworkx (c:\\programdata\\anaconda3\\lib\\site-packages)\n",
      "WARNING: Ignoring invalid distribution -etworkx (c:\\programdata\\anaconda3\\lib\\site-packages)\n",
      "WARNING: Ignoring invalid distribution -etworkx (c:\\programdata\\anaconda3\\lib\\site-packages)\n",
      "WARNING: Ignoring invalid distribution -etworkx (c:\\programdata\\anaconda3\\lib\\site-packages)\n"
     ]
    }
   ],
   "source": [
    "!pip install text2graphapi #Instalar la API"
   ]
  },
  {
   "cell_type": "code",
   "execution_count": 2,
   "id": "9fb7407d",
   "metadata": {},
   "outputs": [
    {
     "name": "stderr",
     "output_type": "stream",
     "text": [
      "[nltk_data] Downloading package punkt to\n",
      "[nltk_data]     C:\\Users\\Yara\\AppData\\Roaming\\nltk_data...\n",
      "[nltk_data]   Package punkt is already up-to-date!\n",
      "[nltk_data] Downloading package wordnet to\n",
      "[nltk_data]     C:\\Users\\Yara\\AppData\\Roaming\\nltk_data...\n",
      "[nltk_data]   Package wordnet is already up-to-date!\n"
     ]
    },
    {
     "name": "stdout",
     "output_type": "stream",
     "text": [
      "2024-06-05 19:34:47,750; - INFO; - Note: NumExpr detected 12 cores but \"NUMEXPR_MAX_THREADS\" not set, so enforcing safe limit of 8.\n",
      "2024-06-05 19:34:47,751; - INFO; - NumExpr defaulting to 8 threads.\n",
      "2024-06-05 19:34:48,300; - DEBUG; - Import libraries/modules from :PROD\n"
     ]
    }
   ],
   "source": [
    "from text2graphapi.src.Cooccurrence import Cooccurrence #Se importa el grafo tipo co-ocurrencia"
   ]
  },
  {
   "cell_type": "code",
   "execution_count": 1,
   "id": "8920243a",
   "metadata": {},
   "outputs": [],
   "source": [
    "import numpy as np\n",
    "import pandas as pd\n",
    "import networkx as nx\n",
    "from PIL import Image\n",
    "import matplotlib.pyplot as plt"
   ]
  },
  {
   "cell_type": "markdown",
   "id": "0eefbfdc",
   "metadata": {},
   "source": [
    "## Subtask_1"
   ]
  },
  {
   "cell_type": "code",
   "execution_count": 4,
   "id": "897af34c",
   "metadata": {},
   "outputs": [
    {
     "data": {
      "text/html": [
       "<div>\n",
       "<style scoped>\n",
       "    .dataframe tbody tr th:only-of-type {\n",
       "        vertical-align: middle;\n",
       "    }\n",
       "\n",
       "    .dataframe tbody tr th {\n",
       "        vertical-align: top;\n",
       "    }\n",
       "\n",
       "    .dataframe thead th {\n",
       "        text-align: right;\n",
       "    }\n",
       "</style>\n",
       "<table border=\"1\" class=\"dataframe\">\n",
       "  <thead>\n",
       "    <tr style=\"text-align: right;\">\n",
       "      <th></th>\n",
       "      <th>id</th>\n",
       "      <th>text</th>\n",
       "      <th>label</th>\n",
       "    </tr>\n",
       "  </thead>\n",
       "  <tbody>\n",
       "    <tr>\n",
       "      <th>0</th>\n",
       "      <td>15442</td>\n",
       "      <td>Es un tribunal de suprema instanza que forma p...</td>\n",
       "      <td>generated</td>\n",
       "    </tr>\n",
       "    <tr>\n",
       "      <th>1</th>\n",
       "      <td>26409</td>\n",
       "      <td>Aixó de tindrer la platgeta tant prou era un p...</td>\n",
       "      <td>human</td>\n",
       "    </tr>\n",
       "    <tr>\n",
       "      <th>2</th>\n",
       "      <td>12777</td>\n",
       "      <td>Doug mcadam es un científico estadista estadou...</td>\n",
       "      <td>generated</td>\n",
       "    </tr>\n",
       "    <tr>\n",
       "      <th>3</th>\n",
       "      <td>63467</td>\n",
       "      <td>El president de la generalitat, carles puigdem...</td>\n",
       "      <td>generated</td>\n",
       "    </tr>\n",
       "    <tr>\n",
       "      <th>4</th>\n",
       "      <td>41050</td>\n",
       "      <td>Traídas de francia, tan estrafalarias que una ...</td>\n",
       "      <td>generated</td>\n",
       "    </tr>\n",
       "  </tbody>\n",
       "</table>\n",
       "</div>"
      ],
      "text/plain": [
       "      id                                               text      label\n",
       "0  15442  Es un tribunal de suprema instanza que forma p...  generated\n",
       "1  26409  Aixó de tindrer la platgeta tant prou era un p...      human\n",
       "2  12777  Doug mcadam es un científico estadista estadou...  generated\n",
       "3  63467  El president de la generalitat, carles puigdem...  generated\n",
       "4  41050  Traídas de francia, tan estrafalarias que una ...  generated"
      ]
     },
     "execution_count": 4,
     "metadata": {},
     "output_type": "execute_result"
    }
   ],
   "source": [
    "ruta_1 = 'se agrega la ruta del dataset original .jsonl'\n",
    "\n",
    "df = pd.read_json(ruta_1, lines=True)\n",
    "\n",
    "#df = df.iloc[:50000] - Esta línea es si se quiere trabajar con sólo una parte del dataset\n",
    "\n",
    "df.to_csv('data-2.csv', index=False)\n",
    "df.head()"
   ]
  },
  {
   "cell_type": "code",
   "execution_count": 5,
   "id": "0ef344cd",
   "metadata": {},
   "outputs": [],
   "source": [
    "#Se separan los datos por label: 'human' y 'generated'\n",
    "df_human = df.loc[df.label == 'human']\n",
    "df_generated = df.loc[df.label == 'generated']"
   ]
  },
  {
   "cell_type": "code",
   "execution_count": 6,
   "id": "4fd0068e",
   "metadata": {},
   "outputs": [],
   "source": [
    "#Se seleccionan sólo las columnas id, text y se renombra text por 'doc'\n",
    "df_human = df_human[['id', 'text']]\n",
    "df_human = df_human.rename(columns={'text': 'doc'})\n",
    "doc_h = df_human.to_dict(orient='records')\n",
    "\n",
    "\n",
    "\n",
    "df_generated = df_generated[['id', 'text']]\n",
    "df_generated = df_generated.rename(columns={'text': 'doc'})\n",
    "doc_g = df_generated.to_dict(orient='records')"
   ]
  },
  {
   "cell_type": "code",
   "execution_count": 7,
   "id": "d74a5c65",
   "metadata": {},
   "outputs": [
    {
     "name": "stdout",
     "output_type": "stream",
     "text": [
      "documentos-humano:  23239 \n",
      " documentos-máquina:  26761\n"
     ]
    }
   ],
   "source": [
    "print('documentos-humano: ',len(doc_h), '\\n','documentos-máquina: ',len(doc_g))"
   ]
  },
  {
   "cell_type": "code",
   "execution_count": 8,
   "id": "6f3fd310",
   "metadata": {},
   "outputs": [
    {
     "name": "stdout",
     "output_type": "stream",
     "text": [
      "2024-06-05 19:36:17,555; - INFO; - Has already installed spacy model es_core_news_sm\n"
     ]
    }
   ],
   "source": [
    "#Se define el grafo tipo co-ocurrencia\n",
    "coocc_graph = Cooccurrence(graph_type = 'DiGraph',\n",
    "                                   language = 'sp',\n",
    "                                   apply_prep = False,\n",
    "                                   window_size= 3,\n",
    "                                   output_format = 'networkx')"
   ]
  },
  {
   "cell_type": "code",
   "execution_count": 9,
   "id": "05529d39",
   "metadata": {},
   "outputs": [
    {
     "name": "stdout",
     "output_type": "stream",
     "text": [
      "2024-06-05 19:36:24,358; - INFO; - Init transformations: Text to Co-Ocurrence Graph\n",
      "2024-06-05 19:36:24,358; - INFO; - Transforming 23239 text documents...\n",
      "2024-06-05 19:38:24,047; - INFO; - Done transformations\n",
      "2024-06-05 19:38:24,758; - INFO; - Init transformations: Text to Co-Ocurrence Graph\n",
      "2024-06-05 19:38:24,759; - INFO; - Transforming 26761 text documents...\n",
      "2024-06-05 19:40:44,084; - INFO; - Done transformations\n"
     ]
    }
   ],
   "source": [
    "#Se divide en human-generated\n",
    "coocc_graph_human = coocc_graph.transform(doc_h)\n",
    "coocc_graph_generated = coocc_graph.transform(doc_g)"
   ]
  },
  {
   "cell_type": "markdown",
   "id": "e2f779bd-c931-4cd7-8054-f06b5328cf06",
   "metadata": {},
   "source": [
    "Se hacen 2 listas para guardar los grafos"
   ]
  },
  {
   "cell_type": "code",
   "execution_count": 10,
   "id": "44dff6ee",
   "metadata": {},
   "outputs": [],
   "source": [
    "list_graph_human = []\n",
    "\n",
    "for grafo in coocc_graph_human:\n",
    "    graph = grafo['graph']\n",
    "    list_graph_human.append(graph)"
   ]
  },
  {
   "cell_type": "code",
   "execution_count": 11,
   "id": "85a3784f",
   "metadata": {},
   "outputs": [],
   "source": [
    "list_graph_generated = []\n",
    "\n",
    "for grafo in coocc_graph_generated:\n",
    "    graph = grafo['graph']\n",
    "    list_graph_generated.append(graph)"
   ]
  },
  {
   "cell_type": "markdown",
   "id": "a7e6b7d1-a09a-4db9-a57b-671183adf136",
   "metadata": {},
   "source": [
    "## Comienzan las métricas de la paquetería Networkx"
   ]
  },
  {
   "cell_type": "code",
   "execution_count": 12,
   "id": "9093be74",
   "metadata": {},
   "outputs": [],
   "source": [
    "def clustering(list_graph):\n",
    "    list_clustering = []\n",
    "    for grafo in list_graph:\n",
    "        clustering = nx.average_clustering(grafo)\n",
    "        list_clustering.append(clustering)\n",
    "    return  list_clustering"
   ]
  },
  {
   "cell_type": "code",
   "execution_count": 13,
   "id": "ea594ad8",
   "metadata": {},
   "outputs": [],
   "source": [
    "clh = clustering(list_graph_human)\n",
    "clg = clustering(list_graph_generated)"
   ]
  },
  {
   "cell_type": "code",
   "execution_count": 14,
   "id": "77295cb1",
   "metadata": {},
   "outputs": [
    {
     "name": "stdout",
     "output_type": "stream",
     "text": [
      "[0.34888888888888886, 0.3397842897842898, 0.3611272678878667, 0.33643752427015106, 0.3145035427270385]\n"
     ]
    }
   ],
   "source": [
    "print(clh[:5])"
   ]
  },
  {
   "cell_type": "code",
   "execution_count": 15,
   "id": "ba19c408",
   "metadata": {},
   "outputs": [],
   "source": [
    "def efficiency(list_graph):\n",
    "    list_efficiency = []\n",
    "    for grafo in list_graph:\n",
    "        grafo = grafo.to_undirected()\n",
    "        efficiency = nx.global_efficiency(grafo)\n",
    "        list_efficiency.append(efficiency)\n",
    "    return list_efficiency"
   ]
  },
  {
   "cell_type": "code",
   "execution_count": 16,
   "id": "153a19cb",
   "metadata": {},
   "outputs": [],
   "source": [
    "eh = efficiency(list_graph_human)\n",
    "eg = efficiency(list_graph_generated)"
   ]
  },
  {
   "cell_type": "code",
   "execution_count": 17,
   "id": "d21902c4",
   "metadata": {},
   "outputs": [],
   "source": [
    "def closeness(list_graph):\n",
    "    list_closeness = []\n",
    "    for grafo in list_graph:\n",
    "        closeness = nx.closeness_centrality(grafo)\n",
    "        list_closeness.append(sum(closeness.values()) / len(closeness.values()))\n",
    "    return list_closeness"
   ]
  },
  {
   "cell_type": "code",
   "execution_count": 18,
   "id": "2db7a605",
   "metadata": {},
   "outputs": [],
   "source": [
    "ch = closeness(list_graph_human)\n",
    "cg = closeness(list_graph_generated)"
   ]
  },
  {
   "cell_type": "code",
   "execution_count": 19,
   "id": "ea4ab269",
   "metadata": {},
   "outputs": [
    {
     "name": "stdout",
     "output_type": "stream",
     "text": [
      "[0.25404428904428905, 0.31705533547298237, 0.35152603855421094, 0.36422087769920386, 0.3277932349479995]\n"
     ]
    }
   ],
   "source": [
    "print(ch[:5])"
   ]
  },
  {
   "cell_type": "code",
   "execution_count": 20,
   "id": "274c7743",
   "metadata": {},
   "outputs": [],
   "source": [
    "def degree(list_graph):\n",
    "    list_degree = []\n",
    "    for grafo in list_graph:\n",
    "        degree = np.mean(list(dict(grafo.degree()).values()))\n",
    "        list_degree.append(degree)\n",
    "    return list_degree"
   ]
  },
  {
   "cell_type": "code",
   "execution_count": 21,
   "id": "94ca853e",
   "metadata": {},
   "outputs": [],
   "source": [
    "dh = degree(list_graph_human)\n",
    "dg = degree(list_graph_generated)"
   ]
  },
  {
   "cell_type": "code",
   "execution_count": 22,
   "id": "602dcf54",
   "metadata": {},
   "outputs": [],
   "source": [
    "def degree_cent(list_graph):\n",
    "    list_degree_cent = []\n",
    "    for grafo in list_graph:\n",
    "        centrality = list(nx.degree_centrality(grafo).values())\n",
    "        count = np.mean(centrality)\n",
    "        list_degree_cent.append(count)\n",
    "    return list_degree_cent"
   ]
  },
  {
   "cell_type": "code",
   "execution_count": 23,
   "id": "0c131351",
   "metadata": {},
   "outputs": [],
   "source": [
    "dc_h = degree_cent(list_graph_human)\n",
    "dc_g = degree_cent(list_graph_generated)"
   ]
  },
  {
   "cell_type": "code",
   "execution_count": 24,
   "id": "3bde91e1",
   "metadata": {},
   "outputs": [],
   "source": [
    "def betweenness(list_graph):\n",
    "    list_betweenness = []\n",
    "    for grafo in list_graph:\n",
    "        betweenness = list(nx.betweenness_centrality(grafo).values())\n",
    "        count = np.mean(betweenness)\n",
    "        list_betweenness.append(count)\n",
    "    return list_betweenness"
   ]
  },
  {
   "cell_type": "code",
   "execution_count": 25,
   "id": "06487bff",
   "metadata": {},
   "outputs": [],
   "source": [
    "bh = betweenness(list_graph_human)\n",
    "bg = betweenness(list_graph_generated)"
   ]
  },
  {
   "cell_type": "code",
   "execution_count": 26,
   "id": "77cd4fd9",
   "metadata": {},
   "outputs": [],
   "source": [
    "def neighbor_degree(list_graph):\n",
    "    list_neighbor = []\n",
    "    for grafo in list_graph:\n",
    "        count = np.mean(list(nx.average_neighbor_degree(grafo).values()))\n",
    "        list_neighbor.append(count)\n",
    "    return list_neighbor"
   ]
  },
  {
   "cell_type": "code",
   "execution_count": 27,
   "id": "ea9a49d7",
   "metadata": {},
   "outputs": [],
   "source": [
    "nh = neighbor_degree(list_graph_human)\n",
    "ng = neighbor_degree(list_graph_generated)"
   ]
  },
  {
   "cell_type": "code",
   "execution_count": 28,
   "id": "fb6d9315",
   "metadata": {},
   "outputs": [],
   "source": [
    "def assortativity(list_graph):\n",
    "    list_assortativity = []\n",
    "    for grafo in list_graph:\n",
    "        try:\n",
    "            assort = nx.degree_pearson_correlation_coefficient(grafo)\n",
    "        except:\n",
    "            assort = np.nan\n",
    "        list_assortativity.append(assort)\n",
    "    return list_assortativity"
   ]
  },
  {
   "cell_type": "code",
   "execution_count": 29,
   "id": "78637660",
   "metadata": {},
   "outputs": [],
   "source": [
    "as_h = assortativity(list_graph_human)\n",
    "as_g = assortativity(list_graph_generated)"
   ]
  },
  {
   "cell_type": "code",
   "execution_count": 30,
   "id": "3f6db3da",
   "metadata": {},
   "outputs": [],
   "source": [
    "def transitivity(list_graph):\n",
    "    list_transitivity = []\n",
    "    for grafo in list_graph:\n",
    "        trans = nx.transitivity(grafo)\n",
    "        list_transitivity.append(trans)\n",
    "    return list_transitivity"
   ]
  },
  {
   "cell_type": "code",
   "execution_count": 31,
   "id": "ce495ab1",
   "metadata": {},
   "outputs": [],
   "source": [
    "th = transitivity(list_graph_human)\n",
    "tg = transitivity(list_graph_generated)"
   ]
  },
  {
   "cell_type": "code",
   "execution_count": 32,
   "id": "09761bc5",
   "metadata": {},
   "outputs": [],
   "source": [
    "def number_components(list_graph):\n",
    "    list_number_components = []\n",
    "    for grafo in list_graph:\n",
    "        grafo = grafo.to_undirected()\n",
    "        num_components = nx.number_connected_components(grafo)\n",
    "        list_number_components.append(num_components)\n",
    "    return list_number_components"
   ]
  },
  {
   "cell_type": "code",
   "execution_count": 33,
   "id": "745455fc",
   "metadata": {},
   "outputs": [],
   "source": [
    "nc_h = number_components(list_graph_human)\n",
    "nc_g = number_components(list_graph_generated)"
   ]
  },
  {
   "cell_type": "code",
   "execution_count": 34,
   "id": "d822296e",
   "metadata": {},
   "outputs": [],
   "source": [
    "def number_strong_comp(list_graph):\n",
    "    list_number_strong_comp = []\n",
    "    for grafo in list_graph:\n",
    "        num_strong_components = nx.number_strongly_connected_components(grafo)\n",
    "        list_number_strong_comp.append(num_strong_components)\n",
    "    return list_number_strong_comp"
   ]
  },
  {
   "cell_type": "code",
   "execution_count": 35,
   "id": "087071ee",
   "metadata": {},
   "outputs": [],
   "source": [
    "nsc_h = number_strong_comp(list_graph_human)\n",
    "nsc_g = number_strong_comp(list_graph_generated)"
   ]
  },
  {
   "cell_type": "code",
   "execution_count": 36,
   "id": "1f4f18b9",
   "metadata": {},
   "outputs": [],
   "source": [
    "def entropy(cent_measure):\n",
    "    m = np.asarray(cent_measure, float)\n",
    "    dist = m / m.sum()\n",
    "    ent = np.nansum(dist * np.log2(1.0 / dist))\n",
    "    return ent"
   ]
  },
  {
   "cell_type": "code",
   "execution_count": 37,
   "id": "a6b0c5a3",
   "metadata": {},
   "outputs": [],
   "source": [
    "def entropy_centr(list_graph):\n",
    "    list_entropy_centr = []\n",
    "    for grafo in list_graph:\n",
    "        centrality = list(nx.degree_centrality((grafo)).values())\n",
    "        num_entropy = entropy(centrality)\n",
    "        list_entropy_centr.append(num_entropy)\n",
    "    return list_entropy_centr"
   ]
  },
  {
   "cell_type": "code",
   "execution_count": 38,
   "id": "a474524f",
   "metadata": {},
   "outputs": [],
   "source": [
    "ect_h = entropy_centr(list_graph_human)\n",
    "ect_g = entropy_centr(list_graph_generated)"
   ]
  },
  {
   "cell_type": "code",
   "execution_count": 39,
   "id": "21d883f7",
   "metadata": {},
   "outputs": [],
   "source": [
    "def entropy_clos(list_graph):\n",
    "    list_entropy_clos = []\n",
    "    for grafo in list_graph:\n",
    "        centrality = list(nx.closeness_centrality((grafo)).values())\n",
    "        num_entropy = entropy(centrality)\n",
    "        list_entropy_clos.append(num_entropy)\n",
    "    return list_entropy_clos"
   ]
  },
  {
   "cell_type": "code",
   "execution_count": 40,
   "id": "20524401",
   "metadata": {},
   "outputs": [],
   "source": [
    "ecl_h = entropy_clos(list_graph_human)\n",
    "ecl_g = entropy_clos(list_graph_generated)"
   ]
  },
  {
   "cell_type": "code",
   "execution_count": 41,
   "id": "88c124ab",
   "metadata": {},
   "outputs": [],
   "source": [
    "def sparseness(list_graph):\n",
    "    list_sparseness = []\n",
    "    for grafo in list_graph:\n",
    "        mat = nx.adjacency_matrix((grafo)).todense()\n",
    "        num_num = np.count_nonzero(mat)\n",
    "        num_val = np.prod(mat.shape)\n",
    "        sparseness = float(num_num) / num_val\n",
    "        list_sparseness.append(sparseness)\n",
    "    return list_sparseness"
   ]
  },
  {
   "cell_type": "code",
   "execution_count": 42,
   "id": "b9661a24",
   "metadata": {},
   "outputs": [],
   "source": [
    "sh = sparseness(list_graph_human)\n",
    "sg = sparseness(list_graph_generated)"
   ]
  },
  {
   "cell_type": "markdown",
   "id": "2512f3c5-3306-4793-a078-00f2df1985e4",
   "metadata": {},
   "source": [
    "### Humano"
   ]
  },
  {
   "cell_type": "code",
   "execution_count": 44,
   "id": "246f41df",
   "metadata": {},
   "outputs": [
    {
     "data": {
      "text/plain": [
       "1     human\n",
       "7     human\n",
       "8     human\n",
       "9     human\n",
       "11    human\n",
       "Name: label, dtype: object"
      ]
     },
     "execution_count": 44,
     "metadata": {},
     "output_type": "execute_result"
    }
   ],
   "source": [
    "df_label_h = df.loc[df.label == 'human']['label']\n",
    "\n",
    "df_label_h.head()"
   ]
  },
  {
   "cell_type": "code",
   "execution_count": 45,
   "id": "93981c34",
   "metadata": {},
   "outputs": [
    {
     "name": "stdout",
     "output_type": "stream",
     "text": [
      "23239\n"
     ]
    }
   ],
   "source": [
    "label_list_h = df_label_h.tolist()\n",
    "print(len(label_list_h))"
   ]
  },
  {
   "cell_type": "code",
   "execution_count": 46,
   "id": "1cce59ea",
   "metadata": {},
   "outputs": [
    {
     "name": "stdout",
     "output_type": "stream",
     "text": [
      "23239\n"
     ]
    }
   ],
   "source": [
    "id_list_h = df_human['id'].tolist()\n",
    "print(len(id_list_h))"
   ]
  },
  {
   "cell_type": "code",
   "execution_count": 48,
   "id": "b5bcf2a5",
   "metadata": {},
   "outputs": [
    {
     "data": {
      "text/html": [
       "<div>\n",
       "<style scoped>\n",
       "    .dataframe tbody tr th:only-of-type {\n",
       "        vertical-align: middle;\n",
       "    }\n",
       "\n",
       "    .dataframe tbody tr th {\n",
       "        vertical-align: top;\n",
       "    }\n",
       "\n",
       "    .dataframe thead th {\n",
       "        text-align: right;\n",
       "    }\n",
       "</style>\n",
       "<table border=\"1\" class=\"dataframe\">\n",
       "  <thead>\n",
       "    <tr style=\"text-align: right;\">\n",
       "      <th></th>\n",
       "      <th>id</th>\n",
       "      <th>label</th>\n",
       "      <th>clustering</th>\n",
       "      <th>global_efficiency</th>\n",
       "      <th>closeness</th>\n",
       "      <th>degree</th>\n",
       "      <th>degree_centrality</th>\n",
       "      <th>betweenness</th>\n",
       "      <th>neighbor_degree</th>\n",
       "      <th>assortativity</th>\n",
       "      <th>transitivity</th>\n",
       "      <th>number_components</th>\n",
       "      <th>number_strong_comp</th>\n",
       "      <th>entropy_centr</th>\n",
       "      <th>entropy_clos</th>\n",
       "      <th>sparseness</th>\n",
       "    </tr>\n",
       "  </thead>\n",
       "  <tbody>\n",
       "    <tr>\n",
       "      <th>0</th>\n",
       "      <td>26409</td>\n",
       "      <td>human</td>\n",
       "      <td>0.348889</td>\n",
       "      <td>0.615238</td>\n",
       "      <td>0.254044</td>\n",
       "      <td>5.200000</td>\n",
       "      <td>0.371429</td>\n",
       "      <td>0.043956</td>\n",
       "      <td>2.211111</td>\n",
       "      <td>-0.073394</td>\n",
       "      <td>0.500000</td>\n",
       "      <td>1</td>\n",
       "      <td>15</td>\n",
       "      <td>3.871081</td>\n",
       "      <td>3.732006</td>\n",
       "      <td>0.173333</td>\n",
       "    </tr>\n",
       "    <tr>\n",
       "      <th>1</th>\n",
       "      <td>100408</td>\n",
       "      <td>human</td>\n",
       "      <td>0.339784</td>\n",
       "      <td>0.624728</td>\n",
       "      <td>0.317055</td>\n",
       "      <td>6.000000</td>\n",
       "      <td>0.352941</td>\n",
       "      <td>0.062296</td>\n",
       "      <td>3.175926</td>\n",
       "      <td>-0.113348</td>\n",
       "      <td>0.459016</td>\n",
       "      <td>1</td>\n",
       "      <td>7</td>\n",
       "      <td>4.105530</td>\n",
       "      <td>3.950981</td>\n",
       "      <td>0.166667</td>\n",
       "    </tr>\n",
       "    <tr>\n",
       "      <th>2</th>\n",
       "      <td>55864</td>\n",
       "      <td>human</td>\n",
       "      <td>0.361127</td>\n",
       "      <td>0.465045</td>\n",
       "      <td>0.351526</td>\n",
       "      <td>10.198953</td>\n",
       "      <td>0.053679</td>\n",
       "      <td>0.010018</td>\n",
       "      <td>15.982268</td>\n",
       "      <td>-0.174552</td>\n",
       "      <td>0.138687</td>\n",
       "      <td>1</td>\n",
       "      <td>1</td>\n",
       "      <td>6.985849</td>\n",
       "      <td>7.564889</td>\n",
       "      <td>0.026699</td>\n",
       "    </tr>\n",
       "    <tr>\n",
       "      <th>3</th>\n",
       "      <td>68184</td>\n",
       "      <td>human</td>\n",
       "      <td>0.336438</td>\n",
       "      <td>0.536043</td>\n",
       "      <td>0.364221</td>\n",
       "      <td>9.056604</td>\n",
       "      <td>0.174165</td>\n",
       "      <td>0.035310</td>\n",
       "      <td>6.459811</td>\n",
       "      <td>-0.129706</td>\n",
       "      <td>0.256019</td>\n",
       "      <td>1</td>\n",
       "      <td>1</td>\n",
       "      <td>5.498768</td>\n",
       "      <td>5.713314</td>\n",
       "      <td>0.085440</td>\n",
       "    </tr>\n",
       "    <tr>\n",
       "      <th>4</th>\n",
       "      <td>123641</td>\n",
       "      <td>human</td>\n",
       "      <td>0.314504</td>\n",
       "      <td>0.555026</td>\n",
       "      <td>0.327793</td>\n",
       "      <td>7.055556</td>\n",
       "      <td>0.201587</td>\n",
       "      <td>0.050747</td>\n",
       "      <td>4.654233</td>\n",
       "      <td>-0.133673</td>\n",
       "      <td>0.300000</td>\n",
       "      <td>1</td>\n",
       "      <td>4</td>\n",
       "      <td>5.026535</td>\n",
       "      <td>5.059361</td>\n",
       "      <td>0.097994</td>\n",
       "    </tr>\n",
       "  </tbody>\n",
       "</table>\n",
       "</div>"
      ],
      "text/plain": [
       "       id  label  clustering  global_efficiency  closeness     degree  \\\n",
       "0   26409  human    0.348889           0.615238   0.254044   5.200000   \n",
       "1  100408  human    0.339784           0.624728   0.317055   6.000000   \n",
       "2   55864  human    0.361127           0.465045   0.351526  10.198953   \n",
       "3   68184  human    0.336438           0.536043   0.364221   9.056604   \n",
       "4  123641  human    0.314504           0.555026   0.327793   7.055556   \n",
       "\n",
       "   degree_centrality  betweenness  neighbor_degree  assortativity  \\\n",
       "0           0.371429     0.043956         2.211111      -0.073394   \n",
       "1           0.352941     0.062296         3.175926      -0.113348   \n",
       "2           0.053679     0.010018        15.982268      -0.174552   \n",
       "3           0.174165     0.035310         6.459811      -0.129706   \n",
       "4           0.201587     0.050747         4.654233      -0.133673   \n",
       "\n",
       "   transitivity  number_components  number_strong_comp  entropy_centr  \\\n",
       "0      0.500000                  1                  15       3.871081   \n",
       "1      0.459016                  1                   7       4.105530   \n",
       "2      0.138687                  1                   1       6.985849   \n",
       "3      0.256019                  1                   1       5.498768   \n",
       "4      0.300000                  1                   4       5.026535   \n",
       "\n",
       "   entropy_clos  sparseness  \n",
       "0      3.732006    0.173333  \n",
       "1      3.950981    0.166667  \n",
       "2      7.564889    0.026699  \n",
       "3      5.713314    0.085440  \n",
       "4      5.059361    0.097994  "
      ]
     },
     "execution_count": 48,
     "metadata": {},
     "output_type": "execute_result"
    }
   ],
   "source": [
    "#Se crea otro dataframe donde se guarden las métricas por texto\n",
    "df_h = pd.DataFrame({'id': id_list_h,\n",
    "                  'label': label_list_h,\n",
    "                  'clustering': clh,\n",
    "                  'global_efficiency': eh,\n",
    "                  'closeness': ch,\n",
    "                 'degree': dh,\n",
    "                 'degree_centrality': dc_h,\n",
    "                'betweenness': bh,\n",
    "                'neighbor_degree': nh,\n",
    "                'assortativity': as_h,\n",
    "                'transitivity': th,\n",
    "                'number_strong_comp': nsc_h,\n",
    "                'entropy_centr': ect_h,\n",
    "                'entropy_clos': ecl_h,\n",
    "                'sparseness': sh})\n",
    "df_h.head()"
   ]
  },
  {
   "cell_type": "markdown",
   "id": "a393e2cf-2b96-4693-a744-9f76b8bd6f00",
   "metadata": {},
   "source": [
    "### Generado"
   ]
  },
  {
   "cell_type": "code",
   "execution_count": 49,
   "id": "9678f53b",
   "metadata": {},
   "outputs": [
    {
     "name": "stdout",
     "output_type": "stream",
     "text": [
      "26761\n"
     ]
    }
   ],
   "source": [
    "id_list_g = df_generated['id'].tolist()\n",
    "print(len(id_list_g))"
   ]
  },
  {
   "cell_type": "code",
   "execution_count": 50,
   "id": "0fe0da5e",
   "metadata": {},
   "outputs": [
    {
     "data": {
      "text/plain": [
       "0    generated\n",
       "2    generated\n",
       "3    generated\n",
       "4    generated\n",
       "5    generated\n",
       "Name: label, dtype: object"
      ]
     },
     "execution_count": 50,
     "metadata": {},
     "output_type": "execute_result"
    }
   ],
   "source": [
    "df_label_g = df.loc[df.label == 'generated']['label']\n",
    "\n",
    "df_label_g.head()"
   ]
  },
  {
   "cell_type": "code",
   "execution_count": 51,
   "id": "931c7370",
   "metadata": {},
   "outputs": [
    {
     "name": "stdout",
     "output_type": "stream",
     "text": [
      "26761\n"
     ]
    }
   ],
   "source": [
    "label_list_g = df_label_g.tolist()\n",
    "print(len(label_list_g))"
   ]
  },
  {
   "cell_type": "code",
   "execution_count": 52,
   "id": "a897df62",
   "metadata": {},
   "outputs": [
    {
     "data": {
      "text/html": [
       "<div>\n",
       "<style scoped>\n",
       "    .dataframe tbody tr th:only-of-type {\n",
       "        vertical-align: middle;\n",
       "    }\n",
       "\n",
       "    .dataframe tbody tr th {\n",
       "        vertical-align: top;\n",
       "    }\n",
       "\n",
       "    .dataframe thead th {\n",
       "        text-align: right;\n",
       "    }\n",
       "</style>\n",
       "<table border=\"1\" class=\"dataframe\">\n",
       "  <thead>\n",
       "    <tr style=\"text-align: right;\">\n",
       "      <th></th>\n",
       "      <th>id</th>\n",
       "      <th>label</th>\n",
       "      <th>clustering</th>\n",
       "      <th>global_efficiency</th>\n",
       "      <th>closeness</th>\n",
       "      <th>degree</th>\n",
       "      <th>degree_centrality</th>\n",
       "      <th>betweenness</th>\n",
       "      <th>neighbor_degree</th>\n",
       "      <th>assortativity</th>\n",
       "      <th>transitivity</th>\n",
       "      <th>number_components</th>\n",
       "      <th>number_strong_comp</th>\n",
       "      <th>entropy_centr</th>\n",
       "      <th>entropy_clos</th>\n",
       "      <th>sparseness</th>\n",
       "    </tr>\n",
       "  </thead>\n",
       "  <tbody>\n",
       "    <tr>\n",
       "      <th>0</th>\n",
       "      <td>15442</td>\n",
       "      <td>generated</td>\n",
       "      <td>0.391811</td>\n",
       "      <td>0.475953</td>\n",
       "      <td>0.345198</td>\n",
       "      <td>10.000000</td>\n",
       "      <td>0.077519</td>\n",
       "      <td>0.015013</td>\n",
       "      <td>13.370564</td>\n",
       "      <td>-0.178036</td>\n",
       "      <td>0.174899</td>\n",
       "      <td>1</td>\n",
       "      <td>2</td>\n",
       "      <td>6.484538</td>\n",
       "      <td>7.006989</td>\n",
       "      <td>0.038462</td>\n",
       "    </tr>\n",
       "    <tr>\n",
       "      <th>1</th>\n",
       "      <td>12777</td>\n",
       "      <td>generated</td>\n",
       "      <td>0.339836</td>\n",
       "      <td>0.459357</td>\n",
       "      <td>0.314912</td>\n",
       "      <td>9.902913</td>\n",
       "      <td>0.097087</td>\n",
       "      <td>0.020272</td>\n",
       "      <td>8.167137</td>\n",
       "      <td>-0.027979</td>\n",
       "      <td>0.223178</td>\n",
       "      <td>1</td>\n",
       "      <td>5</td>\n",
       "      <td>6.348321</td>\n",
       "      <td>6.669307</td>\n",
       "      <td>0.048072</td>\n",
       "    </tr>\n",
       "    <tr>\n",
       "      <th>2</th>\n",
       "      <td>63467</td>\n",
       "      <td>generated</td>\n",
       "      <td>0.352597</td>\n",
       "      <td>0.476843</td>\n",
       "      <td>0.353801</td>\n",
       "      <td>10.255034</td>\n",
       "      <td>0.069291</td>\n",
       "      <td>0.012751</td>\n",
       "      <td>13.198701</td>\n",
       "      <td>-0.172325</td>\n",
       "      <td>0.159559</td>\n",
       "      <td>1</td>\n",
       "      <td>1</td>\n",
       "      <td>6.697610</td>\n",
       "      <td>7.206485</td>\n",
       "      <td>0.034413</td>\n",
       "    </tr>\n",
       "    <tr>\n",
       "      <th>3</th>\n",
       "      <td>41050</td>\n",
       "      <td>generated</td>\n",
       "      <td>0.335001</td>\n",
       "      <td>0.513095</td>\n",
       "      <td>0.331500</td>\n",
       "      <td>8.607143</td>\n",
       "      <td>0.156494</td>\n",
       "      <td>0.033880</td>\n",
       "      <td>6.169488</td>\n",
       "      <td>-0.029979</td>\n",
       "      <td>0.258320</td>\n",
       "      <td>1</td>\n",
       "      <td>4</td>\n",
       "      <td>5.558803</td>\n",
       "      <td>5.763531</td>\n",
       "      <td>0.076849</td>\n",
       "    </tr>\n",
       "    <tr>\n",
       "      <th>4</th>\n",
       "      <td>91814</td>\n",
       "      <td>generated</td>\n",
       "      <td>0.297962</td>\n",
       "      <td>0.495914</td>\n",
       "      <td>0.297067</td>\n",
       "      <td>7.063830</td>\n",
       "      <td>0.153562</td>\n",
       "      <td>0.054610</td>\n",
       "      <td>4.203014</td>\n",
       "      <td>-0.114930</td>\n",
       "      <td>0.318352</td>\n",
       "      <td>1</td>\n",
       "      <td>1</td>\n",
       "      <td>5.448504</td>\n",
       "      <td>5.535447</td>\n",
       "      <td>0.075147</td>\n",
       "    </tr>\n",
       "  </tbody>\n",
       "</table>\n",
       "</div>"
      ],
      "text/plain": [
       "      id      label  clustering  global_efficiency  closeness     degree  \\\n",
       "0  15442  generated    0.391811           0.475953   0.345198  10.000000   \n",
       "1  12777  generated    0.339836           0.459357   0.314912   9.902913   \n",
       "2  63467  generated    0.352597           0.476843   0.353801  10.255034   \n",
       "3  41050  generated    0.335001           0.513095   0.331500   8.607143   \n",
       "4  91814  generated    0.297962           0.495914   0.297067   7.063830   \n",
       "\n",
       "   degree_centrality  betweenness  neighbor_degree  assortativity  \\\n",
       "0           0.077519     0.015013        13.370564      -0.178036   \n",
       "1           0.097087     0.020272         8.167137      -0.027979   \n",
       "2           0.069291     0.012751        13.198701      -0.172325   \n",
       "3           0.156494     0.033880         6.169488      -0.029979   \n",
       "4           0.153562     0.054610         4.203014      -0.114930   \n",
       "\n",
       "   transitivity  number_components  number_strong_comp  entropy_centr  \\\n",
       "0      0.174899                  1                   2       6.484538   \n",
       "1      0.223178                  1                   5       6.348321   \n",
       "2      0.159559                  1                   1       6.697610   \n",
       "3      0.258320                  1                   4       5.558803   \n",
       "4      0.318352                  1                   1       5.448504   \n",
       "\n",
       "   entropy_clos  sparseness  \n",
       "0      7.006989    0.038462  \n",
       "1      6.669307    0.048072  \n",
       "2      7.206485    0.034413  \n",
       "3      5.763531    0.076849  \n",
       "4      5.535447    0.075147  "
      ]
     },
     "execution_count": 52,
     "metadata": {},
     "output_type": "execute_result"
    }
   ],
   "source": [
    "df_g = pd.DataFrame({'id': id_list_g,\n",
    "                  'label': label_list_g,\n",
    "                  'clustering': clg,\n",
    "                  'global_efficiency': eg,\n",
    "                  'closeness': cg,\n",
    "                    'degree': dg,\n",
    "                    'degree_centrality': dc_g,\n",
    "                    'betweenness': bg,\n",
    "                    'neighbor_degree': ng,\n",
    "                    'assortativity': as_g,\n",
    "                    'transitivity': tg,\n",
    "                    'number_strong_comp': nsc_g,\n",
    "                    'entropy_centr': ect_g,\n",
    "                    'entropy_clos': ecl_g,\n",
    "                    'sparseness': sg})\n",
    "df_g.head()"
   ]
  },
  {
   "cell_type": "code",
   "execution_count": 53,
   "id": "69992b3e",
   "metadata": {},
   "outputs": [
    {
     "data": {
      "text/html": [
       "<div>\n",
       "<style scoped>\n",
       "    .dataframe tbody tr th:only-of-type {\n",
       "        vertical-align: middle;\n",
       "    }\n",
       "\n",
       "    .dataframe tbody tr th {\n",
       "        vertical-align: top;\n",
       "    }\n",
       "\n",
       "    .dataframe thead th {\n",
       "        text-align: right;\n",
       "    }\n",
       "</style>\n",
       "<table border=\"1\" class=\"dataframe\">\n",
       "  <thead>\n",
       "    <tr style=\"text-align: right;\">\n",
       "      <th></th>\n",
       "      <th>id</th>\n",
       "      <th>label</th>\n",
       "      <th>clustering</th>\n",
       "      <th>global_efficiency</th>\n",
       "      <th>closeness</th>\n",
       "      <th>degree</th>\n",
       "      <th>degree_centrality</th>\n",
       "      <th>betweenness</th>\n",
       "      <th>neighbor_degree</th>\n",
       "      <th>assortativity</th>\n",
       "      <th>transitivity</th>\n",
       "      <th>number_components</th>\n",
       "      <th>number_strong_comp</th>\n",
       "      <th>entropy_centr</th>\n",
       "      <th>entropy_clos</th>\n",
       "      <th>sparseness</th>\n",
       "    </tr>\n",
       "  </thead>\n",
       "  <tbody>\n",
       "    <tr>\n",
       "      <th>0</th>\n",
       "      <td>26409</td>\n",
       "      <td>human</td>\n",
       "      <td>0.348889</td>\n",
       "      <td>0.615238</td>\n",
       "      <td>0.254044</td>\n",
       "      <td>5.200000</td>\n",
       "      <td>0.371429</td>\n",
       "      <td>0.043956</td>\n",
       "      <td>2.211111</td>\n",
       "      <td>-0.073394</td>\n",
       "      <td>0.500000</td>\n",
       "      <td>1</td>\n",
       "      <td>15</td>\n",
       "      <td>3.871081</td>\n",
       "      <td>3.732006</td>\n",
       "      <td>0.173333</td>\n",
       "    </tr>\n",
       "    <tr>\n",
       "      <th>1</th>\n",
       "      <td>100408</td>\n",
       "      <td>human</td>\n",
       "      <td>0.339784</td>\n",
       "      <td>0.624728</td>\n",
       "      <td>0.317055</td>\n",
       "      <td>6.000000</td>\n",
       "      <td>0.352941</td>\n",
       "      <td>0.062296</td>\n",
       "      <td>3.175926</td>\n",
       "      <td>-0.113348</td>\n",
       "      <td>0.459016</td>\n",
       "      <td>1</td>\n",
       "      <td>7</td>\n",
       "      <td>4.105530</td>\n",
       "      <td>3.950981</td>\n",
       "      <td>0.166667</td>\n",
       "    </tr>\n",
       "    <tr>\n",
       "      <th>2</th>\n",
       "      <td>55864</td>\n",
       "      <td>human</td>\n",
       "      <td>0.361127</td>\n",
       "      <td>0.465045</td>\n",
       "      <td>0.351526</td>\n",
       "      <td>10.198953</td>\n",
       "      <td>0.053679</td>\n",
       "      <td>0.010018</td>\n",
       "      <td>15.982268</td>\n",
       "      <td>-0.174552</td>\n",
       "      <td>0.138687</td>\n",
       "      <td>1</td>\n",
       "      <td>1</td>\n",
       "      <td>6.985849</td>\n",
       "      <td>7.564889</td>\n",
       "      <td>0.026699</td>\n",
       "    </tr>\n",
       "    <tr>\n",
       "      <th>3</th>\n",
       "      <td>68184</td>\n",
       "      <td>human</td>\n",
       "      <td>0.336438</td>\n",
       "      <td>0.536043</td>\n",
       "      <td>0.364221</td>\n",
       "      <td>9.056604</td>\n",
       "      <td>0.174165</td>\n",
       "      <td>0.035310</td>\n",
       "      <td>6.459811</td>\n",
       "      <td>-0.129706</td>\n",
       "      <td>0.256019</td>\n",
       "      <td>1</td>\n",
       "      <td>1</td>\n",
       "      <td>5.498768</td>\n",
       "      <td>5.713314</td>\n",
       "      <td>0.085440</td>\n",
       "    </tr>\n",
       "    <tr>\n",
       "      <th>4</th>\n",
       "      <td>123641</td>\n",
       "      <td>human</td>\n",
       "      <td>0.314504</td>\n",
       "      <td>0.555026</td>\n",
       "      <td>0.327793</td>\n",
       "      <td>7.055556</td>\n",
       "      <td>0.201587</td>\n",
       "      <td>0.050747</td>\n",
       "      <td>4.654233</td>\n",
       "      <td>-0.133673</td>\n",
       "      <td>0.300000</td>\n",
       "      <td>1</td>\n",
       "      <td>4</td>\n",
       "      <td>5.026535</td>\n",
       "      <td>5.059361</td>\n",
       "      <td>0.097994</td>\n",
       "    </tr>\n",
       "    <tr>\n",
       "      <th>...</th>\n",
       "      <td>...</td>\n",
       "      <td>...</td>\n",
       "      <td>...</td>\n",
       "      <td>...</td>\n",
       "      <td>...</td>\n",
       "      <td>...</td>\n",
       "      <td>...</td>\n",
       "      <td>...</td>\n",
       "      <td>...</td>\n",
       "      <td>...</td>\n",
       "      <td>...</td>\n",
       "      <td>...</td>\n",
       "      <td>...</td>\n",
       "      <td>...</td>\n",
       "      <td>...</td>\n",
       "      <td>...</td>\n",
       "    </tr>\n",
       "    <tr>\n",
       "      <th>26756</th>\n",
       "      <td>30240</td>\n",
       "      <td>generated</td>\n",
       "      <td>0.408820</td>\n",
       "      <td>0.548174</td>\n",
       "      <td>0.329263</td>\n",
       "      <td>8.368421</td>\n",
       "      <td>0.226174</td>\n",
       "      <td>0.034890</td>\n",
       "      <td>6.218241</td>\n",
       "      <td>-0.104354</td>\n",
       "      <td>0.307592</td>\n",
       "      <td>1</td>\n",
       "      <td>6</td>\n",
       "      <td>4.984726</td>\n",
       "      <td>5.099313</td>\n",
       "      <td>0.110111</td>\n",
       "    </tr>\n",
       "    <tr>\n",
       "      <th>26757</th>\n",
       "      <td>144408</td>\n",
       "      <td>generated</td>\n",
       "      <td>0.329081</td>\n",
       "      <td>0.453863</td>\n",
       "      <td>0.337580</td>\n",
       "      <td>10.486772</td>\n",
       "      <td>0.055781</td>\n",
       "      <td>0.010797</td>\n",
       "      <td>13.094265</td>\n",
       "      <td>-0.141179</td>\n",
       "      <td>0.161450</td>\n",
       "      <td>1</td>\n",
       "      <td>1</td>\n",
       "      <td>7.043000</td>\n",
       "      <td>7.548235</td>\n",
       "      <td>0.027743</td>\n",
       "    </tr>\n",
       "    <tr>\n",
       "      <th>26758</th>\n",
       "      <td>60641</td>\n",
       "      <td>generated</td>\n",
       "      <td>0.404915</td>\n",
       "      <td>0.501605</td>\n",
       "      <td>0.388964</td>\n",
       "      <td>12.792453</td>\n",
       "      <td>0.080965</td>\n",
       "      <td>0.010262</td>\n",
       "      <td>19.268053</td>\n",
       "      <td>-0.245768</td>\n",
       "      <td>0.174887</td>\n",
       "      <td>1</td>\n",
       "      <td>1</td>\n",
       "      <td>6.649867</td>\n",
       "      <td>7.300717</td>\n",
       "      <td>0.040228</td>\n",
       "    </tr>\n",
       "    <tr>\n",
       "      <th>26759</th>\n",
       "      <td>108938</td>\n",
       "      <td>generated</td>\n",
       "      <td>0.360972</td>\n",
       "      <td>0.563333</td>\n",
       "      <td>0.275443</td>\n",
       "      <td>6.538462</td>\n",
       "      <td>0.261538</td>\n",
       "      <td>0.059615</td>\n",
       "      <td>3.555128</td>\n",
       "      <td>-0.148245</td>\n",
       "      <td>0.409091</td>\n",
       "      <td>1</td>\n",
       "      <td>5</td>\n",
       "      <td>4.623933</td>\n",
       "      <td>4.627867</td>\n",
       "      <td>0.125740</td>\n",
       "    </tr>\n",
       "    <tr>\n",
       "      <th>26760</th>\n",
       "      <td>118484</td>\n",
       "      <td>generated</td>\n",
       "      <td>0.373482</td>\n",
       "      <td>0.522281</td>\n",
       "      <td>0.363078</td>\n",
       "      <td>9.105263</td>\n",
       "      <td>0.121404</td>\n",
       "      <td>0.022051</td>\n",
       "      <td>9.671430</td>\n",
       "      <td>-0.242816</td>\n",
       "      <td>0.199451</td>\n",
       "      <td>1</td>\n",
       "      <td>4</td>\n",
       "      <td>5.837291</td>\n",
       "      <td>6.183763</td>\n",
       "      <td>0.059903</td>\n",
       "    </tr>\n",
       "  </tbody>\n",
       "</table>\n",
       "<p>50000 rows × 16 columns</p>\n",
       "</div>"
      ],
      "text/plain": [
       "           id      label  clustering  global_efficiency  closeness     degree  \\\n",
       "0       26409      human    0.348889           0.615238   0.254044   5.200000   \n",
       "1      100408      human    0.339784           0.624728   0.317055   6.000000   \n",
       "2       55864      human    0.361127           0.465045   0.351526  10.198953   \n",
       "3       68184      human    0.336438           0.536043   0.364221   9.056604   \n",
       "4      123641      human    0.314504           0.555026   0.327793   7.055556   \n",
       "...       ...        ...         ...                ...        ...        ...   \n",
       "26756   30240  generated    0.408820           0.548174   0.329263   8.368421   \n",
       "26757  144408  generated    0.329081           0.453863   0.337580  10.486772   \n",
       "26758   60641  generated    0.404915           0.501605   0.388964  12.792453   \n",
       "26759  108938  generated    0.360972           0.563333   0.275443   6.538462   \n",
       "26760  118484  generated    0.373482           0.522281   0.363078   9.105263   \n",
       "\n",
       "       degree_centrality  betweenness  neighbor_degree  assortativity  \\\n",
       "0               0.371429     0.043956         2.211111      -0.073394   \n",
       "1               0.352941     0.062296         3.175926      -0.113348   \n",
       "2               0.053679     0.010018        15.982268      -0.174552   \n",
       "3               0.174165     0.035310         6.459811      -0.129706   \n",
       "4               0.201587     0.050747         4.654233      -0.133673   \n",
       "...                  ...          ...              ...            ...   \n",
       "26756           0.226174     0.034890         6.218241      -0.104354   \n",
       "26757           0.055781     0.010797        13.094265      -0.141179   \n",
       "26758           0.080965     0.010262        19.268053      -0.245768   \n",
       "26759           0.261538     0.059615         3.555128      -0.148245   \n",
       "26760           0.121404     0.022051         9.671430      -0.242816   \n",
       "\n",
       "       transitivity  number_components  number_strong_comp  entropy_centr  \\\n",
       "0          0.500000                  1                  15       3.871081   \n",
       "1          0.459016                  1                   7       4.105530   \n",
       "2          0.138687                  1                   1       6.985849   \n",
       "3          0.256019                  1                   1       5.498768   \n",
       "4          0.300000                  1                   4       5.026535   \n",
       "...             ...                ...                 ...            ...   \n",
       "26756      0.307592                  1                   6       4.984726   \n",
       "26757      0.161450                  1                   1       7.043000   \n",
       "26758      0.174887                  1                   1       6.649867   \n",
       "26759      0.409091                  1                   5       4.623933   \n",
       "26760      0.199451                  1                   4       5.837291   \n",
       "\n",
       "       entropy_clos  sparseness  \n",
       "0          3.732006    0.173333  \n",
       "1          3.950981    0.166667  \n",
       "2          7.564889    0.026699  \n",
       "3          5.713314    0.085440  \n",
       "4          5.059361    0.097994  \n",
       "...             ...         ...  \n",
       "26756      5.099313    0.110111  \n",
       "26757      7.548235    0.027743  \n",
       "26758      7.300717    0.040228  \n",
       "26759      4.627867    0.125740  \n",
       "26760      6.183763    0.059903  \n",
       "\n",
       "[50000 rows x 16 columns]"
      ]
     },
     "execution_count": 53,
     "metadata": {},
     "output_type": "execute_result"
    }
   ],
   "source": [
    "df_subtask_1_50k = pd.concat([df_h, df_g])\n",
    "\n",
    "df_subtask_1_50k"
   ]
  },
  {
   "cell_type": "code",
   "execution_count": 54,
   "id": "12a33f32",
   "metadata": {},
   "outputs": [],
   "source": [
    "df_subtask_1_50k.to_csv('nombre del dataset obtenido.csv', index=False)"
   ]
  },
  {
   "cell_type": "markdown",
   "id": "6b3aa147",
   "metadata": {},
   "source": [
    "## Subtask_2"
   ]
  },
  {
   "cell_type": "markdown",
   "id": "09b11efa-665f-4428-b125-d303f2255f72",
   "metadata": {},
   "source": [
    "Para la subtask 2 se hace lo mismo pero se separan los textos por ABCDEF que corresponden a distintas máquinas generadoras de texto"
   ]
  },
  {
   "cell_type": "code",
   "execution_count": 57,
   "id": "208755a7",
   "metadata": {},
   "outputs": [
    {
     "data": {
      "text/html": [
       "<div>\n",
       "<style scoped>\n",
       "    .dataframe tbody tr th:only-of-type {\n",
       "        vertical-align: middle;\n",
       "    }\n",
       "\n",
       "    .dataframe tbody tr th {\n",
       "        vertical-align: top;\n",
       "    }\n",
       "\n",
       "    .dataframe thead th {\n",
       "        text-align: right;\n",
       "    }\n",
       "</style>\n",
       "<table border=\"1\" class=\"dataframe\">\n",
       "  <thead>\n",
       "    <tr style=\"text-align: right;\">\n",
       "      <th></th>\n",
       "      <th>id</th>\n",
       "      <th>text</th>\n",
       "      <th>label</th>\n",
       "    </tr>\n",
       "  </thead>\n",
       "  <tbody>\n",
       "    <tr>\n",
       "      <th>29378</th>\n",
       "      <td>69729</td>\n",
       "      <td>Colville (washington) euskal herriko ameriketa...</td>\n",
       "      <td>D</td>\n",
       "    </tr>\n",
       "    <tr>\n",
       "      <th>29379</th>\n",
       "      <td>3509</td>\n",
       "      <td>Título: asentamiento munroe. el asentamiento m...</td>\n",
       "      <td>F</td>\n",
       "    </tr>\n",
       "    <tr>\n",
       "      <th>29380</th>\n",
       "      <td>3756</td>\n",
       "      <td>O capitalismo é um sistema econômico que se ca...</td>\n",
       "      <td>C</td>\n",
       "    </tr>\n",
       "    <tr>\n",
       "      <th>29381</th>\n",
       "      <td>30644</td>\n",
       "      <td>¡hola @juanes! los millennials somos una gener...</td>\n",
       "      <td>E</td>\n",
       "    </tr>\n",
       "    <tr>\n",
       "      <th>29382</th>\n",
       "      <td>145660</td>\n",
       "      <td>T\"estimo, oh bella flor, amb tota la meva ànim...</td>\n",
       "      <td>D</td>\n",
       "    </tr>\n",
       "  </tbody>\n",
       "</table>\n",
       "</div>"
      ],
      "text/plain": [
       "           id                                               text label\n",
       "29378   69729  Colville (washington) euskal herriko ameriketa...     D\n",
       "29379    3509  Título: asentamiento munroe. el asentamiento m...     F\n",
       "29380    3756  O capitalismo é um sistema econômico que se ca...     C\n",
       "29381   30644  ¡hola @juanes! los millennials somos una gener...     E\n",
       "29382  145660  T\"estimo, oh bella flor, amb tota la meva ànim...     D"
      ]
     },
     "execution_count": 57,
     "metadata": {},
     "output_type": "execute_result"
    }
   ],
   "source": [
    "ruta_2 = 'se agrega la ruta del dataset original .jsonl'\n",
    "\n",
    "df_2 = pd.read_json(ruta_2, lines=True)\n",
    "\n",
    "#df_2 = df_2.iloc[29378:]\n",
    "\n",
    "df_2.to_csv('data-2.csv', index=False)\n",
    "df_2.head()"
   ]
  },
  {
   "cell_type": "code",
   "execution_count": 58,
   "id": "b8486e79",
   "metadata": {},
   "outputs": [],
   "source": [
    "df_ABCDEF = df_2[['id', 'text']]\n",
    "df_ABCDEF = df_ABCDEF.rename(columns={'text': 'doc'})\n",
    "doc_ABCDEF = df_ABCDEF.to_dict(orient='records')"
   ]
  },
  {
   "cell_type": "code",
   "execution_count": 59,
   "id": "d402c95e",
   "metadata": {},
   "outputs": [
    {
     "name": "stdout",
     "output_type": "stream",
     "text": [
      "documentos-generados (A, B, C, D, E, F):  29376\n"
     ]
    }
   ],
   "source": [
    "print('documentos-generados (A, B, C, D, E, F): ',len(doc_ABCDEF))"
   ]
  },
  {
   "cell_type": "code",
   "execution_count": 60,
   "id": "2b71cbc9",
   "metadata": {},
   "outputs": [
    {
     "name": "stdout",
     "output_type": "stream",
     "text": [
      "2024-05-15 22:02:24,943; - INFO; - Init transformations: Text to Co-Ocurrence Graph\n",
      "2024-05-15 22:02:24,948; - INFO; - Transforming 29376 text documents...\n",
      "2024-05-15 22:10:18,136; - INFO; - Done transformations\n"
     ]
    }
   ],
   "source": [
    "coocc_graph_ABCDEF = coocc_graph.transform(doc_ABCDEF)"
   ]
  },
  {
   "cell_type": "code",
   "execution_count": 61,
   "id": "635957d6",
   "metadata": {},
   "outputs": [],
   "source": [
    "list_graph_ABCDEF = []\n",
    "\n",
    "for grafo in coocc_graph_ABCDEF:\n",
    "    graph = grafo['graph']\n",
    "    list_graph_ABCDEF.append(graph)"
   ]
  },
  {
   "cell_type": "code",
   "execution_count": 62,
   "id": "dc9db72d",
   "metadata": {},
   "outputs": [],
   "source": [
    "cl_ABCDEF = clustering(list_graph_ABCDEF)"
   ]
  },
  {
   "cell_type": "code",
   "execution_count": 63,
   "id": "f3309c5f",
   "metadata": {},
   "outputs": [],
   "source": [
    "e_ABCDEF = efficiency(list_graph_ABCDEF)"
   ]
  },
  {
   "cell_type": "code",
   "execution_count": 64,
   "id": "eb214d64",
   "metadata": {},
   "outputs": [],
   "source": [
    "c_ABCDEF = closeness(list_graph_ABCDEF)"
   ]
  },
  {
   "cell_type": "code",
   "execution_count": 65,
   "id": "8741fce8",
   "metadata": {},
   "outputs": [],
   "source": [
    "d_ABCDEF = degree(list_graph_ABCDEF)"
   ]
  },
  {
   "cell_type": "code",
   "execution_count": 66,
   "id": "1e1dd06c",
   "metadata": {},
   "outputs": [],
   "source": [
    "dc_ABCDEF = degree_cent(list_graph_ABCDEF)"
   ]
  },
  {
   "cell_type": "code",
   "execution_count": 67,
   "id": "4f7f4d5e",
   "metadata": {},
   "outputs": [],
   "source": [
    "b_ABCDEF = betweenness(list_graph_ABCDEF)"
   ]
  },
  {
   "cell_type": "code",
   "execution_count": 68,
   "id": "58343df9",
   "metadata": {},
   "outputs": [],
   "source": [
    "n_ABCDEF = neighbor_degree(list_graph_ABCDEF)"
   ]
  },
  {
   "cell_type": "code",
   "execution_count": 69,
   "id": "94b87087",
   "metadata": {},
   "outputs": [],
   "source": [
    "as_ABCDEF = assortativity(list_graph_ABCDEF)"
   ]
  },
  {
   "cell_type": "code",
   "execution_count": 70,
   "id": "d8969177",
   "metadata": {},
   "outputs": [],
   "source": [
    "t_ABCDEF = transitivity(list_graph_ABCDEF)"
   ]
  },
  {
   "cell_type": "code",
   "execution_count": 71,
   "id": "02351812",
   "metadata": {},
   "outputs": [],
   "source": [
    "nc_ABCDEF = number_components(list_graph_ABCDEF)"
   ]
  },
  {
   "cell_type": "code",
   "execution_count": 72,
   "id": "0d1138b9",
   "metadata": {},
   "outputs": [],
   "source": [
    "nsc_ABCDEF = number_strong_comp(list_graph_ABCDEF)"
   ]
  },
  {
   "cell_type": "code",
   "execution_count": 73,
   "id": "d7913286",
   "metadata": {},
   "outputs": [],
   "source": [
    "ect_ABCDEF = entropy_centr(list_graph_ABCDEF)"
   ]
  },
  {
   "cell_type": "code",
   "execution_count": 75,
   "id": "011f4cfd",
   "metadata": {},
   "outputs": [],
   "source": [
    "ecl_ABDCEF = entropy_clos(list_graph_ABCDEF)"
   ]
  },
  {
   "cell_type": "code",
   "execution_count": 76,
   "id": "57a48edc",
   "metadata": {},
   "outputs": [],
   "source": [
    "s_ABCDEF = sparseness(list_graph_ABCDEF)"
   ]
  },
  {
   "cell_type": "code",
   "execution_count": 77,
   "id": "72dabf5f",
   "metadata": {},
   "outputs": [
    {
     "name": "stdout",
     "output_type": "stream",
     "text": [
      "29376\n"
     ]
    }
   ],
   "source": [
    "id_list_ABCDEF = df_ABCDEF['id'].tolist()\n",
    "print(len(id_list_ABCDEF))"
   ]
  },
  {
   "cell_type": "code",
   "execution_count": 78,
   "id": "ad7b077d",
   "metadata": {},
   "outputs": [
    {
     "name": "stdout",
     "output_type": "stream",
     "text": [
      "29376\n"
     ]
    }
   ],
   "source": [
    "label_list_ABCDEF = df_2['label'].tolist()\n",
    "print(len(label_list_ABCDEF))"
   ]
  },
  {
   "cell_type": "code",
   "execution_count": 81,
   "id": "a33b830e",
   "metadata": {},
   "outputs": [
    {
     "data": {
      "text/html": [
       "<div>\n",
       "<style scoped>\n",
       "    .dataframe tbody tr th:only-of-type {\n",
       "        vertical-align: middle;\n",
       "    }\n",
       "\n",
       "    .dataframe tbody tr th {\n",
       "        vertical-align: top;\n",
       "    }\n",
       "\n",
       "    .dataframe thead th {\n",
       "        text-align: right;\n",
       "    }\n",
       "</style>\n",
       "<table border=\"1\" class=\"dataframe\">\n",
       "  <thead>\n",
       "    <tr style=\"text-align: right;\">\n",
       "      <th></th>\n",
       "      <th>id</th>\n",
       "      <th>label</th>\n",
       "      <th>clustering</th>\n",
       "      <th>global_efficiency</th>\n",
       "      <th>closeness</th>\n",
       "      <th>degree</th>\n",
       "      <th>degree_centrality</th>\n",
       "      <th>betweenness</th>\n",
       "      <th>neighbor_degree</th>\n",
       "      <th>assortativity</th>\n",
       "      <th>transitivity</th>\n",
       "      <th>number_components</th>\n",
       "      <th>number_strong_comp</th>\n",
       "      <th>entropy_centr</th>\n",
       "      <th>entropy_clos</th>\n",
       "      <th>sparseness</th>\n",
       "    </tr>\n",
       "  </thead>\n",
       "  <tbody>\n",
       "    <tr>\n",
       "      <th>0</th>\n",
       "      <td>69729</td>\n",
       "      <td>D</td>\n",
       "      <td>0.339789</td>\n",
       "      <td>0.470458</td>\n",
       "      <td>0.283324</td>\n",
       "      <td>7.462687</td>\n",
       "      <td>0.113071</td>\n",
       "      <td>0.035442</td>\n",
       "      <td>5.742130</td>\n",
       "      <td>-0.118597</td>\n",
       "      <td>0.245791</td>\n",
       "      <td>1</td>\n",
       "      <td>5</td>\n",
       "      <td>5.825955</td>\n",
       "      <td>6.041621</td>\n",
       "      <td>0.055692</td>\n",
       "    </tr>\n",
       "    <tr>\n",
       "      <th>1</th>\n",
       "      <td>3509</td>\n",
       "      <td>F</td>\n",
       "      <td>0.376099</td>\n",
       "      <td>0.463288</td>\n",
       "      <td>0.344715</td>\n",
       "      <td>10.473373</td>\n",
       "      <td>0.062342</td>\n",
       "      <td>0.011197</td>\n",
       "      <td>14.296475</td>\n",
       "      <td>-0.145602</td>\n",
       "      <td>0.178945</td>\n",
       "      <td>1</td>\n",
       "      <td>4</td>\n",
       "      <td>6.810658</td>\n",
       "      <td>7.370263</td>\n",
       "      <td>0.030986</td>\n",
       "    </tr>\n",
       "    <tr>\n",
       "      <th>2</th>\n",
       "      <td>3756</td>\n",
       "      <td>C</td>\n",
       "      <td>0.384025</td>\n",
       "      <td>0.594862</td>\n",
       "      <td>0.285418</td>\n",
       "      <td>7.217391</td>\n",
       "      <td>0.328063</td>\n",
       "      <td>0.047525</td>\n",
       "      <td>3.736232</td>\n",
       "      <td>0.038849</td>\n",
       "      <td>0.381295</td>\n",
       "      <td>1</td>\n",
       "      <td>5</td>\n",
       "      <td>4.426953</td>\n",
       "      <td>4.409370</td>\n",
       "      <td>0.156900</td>\n",
       "    </tr>\n",
       "    <tr>\n",
       "      <th>3</th>\n",
       "      <td>30644</td>\n",
       "      <td>E</td>\n",
       "      <td>0.356410</td>\n",
       "      <td>0.660256</td>\n",
       "      <td>0.279620</td>\n",
       "      <td>5.076923</td>\n",
       "      <td>0.423077</td>\n",
       "      <td>0.041958</td>\n",
       "      <td>2.089744</td>\n",
       "      <td>-0.087912</td>\n",
       "      <td>0.500000</td>\n",
       "      <td>1</td>\n",
       "      <td>13</td>\n",
       "      <td>3.661099</td>\n",
       "      <td>3.503301</td>\n",
       "      <td>0.195266</td>\n",
       "    </tr>\n",
       "    <tr>\n",
       "      <th>4</th>\n",
       "      <td>145660</td>\n",
       "      <td>D</td>\n",
       "      <td>0.359096</td>\n",
       "      <td>0.497740</td>\n",
       "      <td>0.368632</td>\n",
       "      <td>10.256410</td>\n",
       "      <td>0.088417</td>\n",
       "      <td>0.015355</td>\n",
       "      <td>12.302588</td>\n",
       "      <td>-0.182033</td>\n",
       "      <td>0.181038</td>\n",
       "      <td>1</td>\n",
       "      <td>1</td>\n",
       "      <td>6.408863</td>\n",
       "      <td>6.855572</td>\n",
       "      <td>0.043831</td>\n",
       "    </tr>\n",
       "  </tbody>\n",
       "</table>\n",
       "</div>"
      ],
      "text/plain": [
       "       id label  clustering  global_efficiency  closeness     degree  \\\n",
       "0   69729     D    0.339789           0.470458   0.283324   7.462687   \n",
       "1    3509     F    0.376099           0.463288   0.344715  10.473373   \n",
       "2    3756     C    0.384025           0.594862   0.285418   7.217391   \n",
       "3   30644     E    0.356410           0.660256   0.279620   5.076923   \n",
       "4  145660     D    0.359096           0.497740   0.368632  10.256410   \n",
       "\n",
       "   degree_centrality  betweenness  neighbor_degree  assortativity  \\\n",
       "0           0.113071     0.035442         5.742130      -0.118597   \n",
       "1           0.062342     0.011197        14.296475      -0.145602   \n",
       "2           0.328063     0.047525         3.736232       0.038849   \n",
       "3           0.423077     0.041958         2.089744      -0.087912   \n",
       "4           0.088417     0.015355        12.302588      -0.182033   \n",
       "\n",
       "   transitivity  number_components  number_strong_comp  entropy_centr  \\\n",
       "0      0.245791                  1                   5       5.825955   \n",
       "1      0.178945                  1                   4       6.810658   \n",
       "2      0.381295                  1                   5       4.426953   \n",
       "3      0.500000                  1                  13       3.661099   \n",
       "4      0.181038                  1                   1       6.408863   \n",
       "\n",
       "   entropy_clos  sparseness  \n",
       "0      6.041621    0.055692  \n",
       "1      7.370263    0.030986  \n",
       "2      4.409370    0.156900  \n",
       "3      3.503301    0.195266  \n",
       "4      6.855572    0.043831  "
      ]
     },
     "execution_count": 81,
     "metadata": {},
     "output_type": "execute_result"
    }
   ],
   "source": [
    "df_subtask_2 = pd.DataFrame({'id': id_list_ABCDEF,\n",
    "                          'label': label_list_ABCDEF,\n",
    "                          'clustering': cl_ABCDEF,\n",
    "                          'global_efficiency': e_ABCDEF,\n",
    "                          'closeness': c_ABCDEF,\n",
    "                                     'degree': d_ABCDEF,\n",
    "                            'degree_centrality': dc_ABCDEF,\n",
    "                            'betweenness': b_ABCDEF,\n",
    "                            'neighbor_degree': n_ABCDEF,\n",
    "                            'assortativity': as_ABCDEF,\n",
    "                            'transitivity': t_ABCDEF,\n",
    "                            'number_strong_comp': nsc_ABCDEF,\n",
    "                            'entropy_centr': ect_ABCDEF,\n",
    "                            'entropy_clos': ecl_ABDCEF,\n",
    "                            'sparseness': s_ABCDEF})\n",
    "df_subtask_2.head()"
   ]
  },
  {
   "cell_type": "code",
   "execution_count": 82,
   "id": "8f17ab0e",
   "metadata": {},
   "outputs": [],
   "source": [
    "df_subtask_2.to_csv('data-subtask_2.csv', index=False)"
   ]
  }
 ],
 "metadata": {
  "kernelspec": {
   "display_name": "Python 3 (ipykernel)",
   "language": "python",
   "name": "python3"
  },
  "language_info": {
   "codemirror_mode": {
    "name": "ipython",
    "version": 3
   },
   "file_extension": ".py",
   "mimetype": "text/x-python",
   "name": "python",
   "nbconvert_exporter": "python",
   "pygments_lexer": "ipython3",
   "version": "3.12.3"
  }
 },
 "nbformat": 4,
 "nbformat_minor": 5
}
