{
  "nbformat": 4,
  "nbformat_minor": 0,
  "metadata": {
    "colab": {
      "provenance": []
    },
    "kernelspec": {
      "name": "python3",
      "display_name": "Python 3"
    },
    "language_info": {
      "name": "python"
    }
  },
  "cells": [
    {
      "cell_type": "code",
      "source": [
        "import pandas as pd\n",
        "data = pd.read_csv(\"textopruebasubtask1.csv\")\n",
        "data.head()"
      ],
      "metadata": {
        "id": "Df4pbahFb8iM"
      },
      "execution_count": null,
      "outputs": []
    },
    {
      "cell_type": "code",
      "source": [
        "df = data.drop(\"label\", axis=1)\n",
        "df = df.drop(\"id\", axis=1)\n",
        "df['filas'] = range(1, len(df) + 1)\n",
        "df.head()"
      ],
      "metadata": {
        "id": "n4CSd7OKcHjc"
      },
      "execution_count": null,
      "outputs": []
    },
    {
      "cell_type": "code",
      "source": [
        "text_to_graph_Sub1 = []\n",
        "for index, row in df.iterrows():\n",
        "    fila = {\"id\": row['filas'], \"doc\": row['text']}\n",
        "    text_to_graph_Sub1.append(fila)\n",
        "\n",
        "text_to_graph_Sub1"
      ],
      "metadata": {
        "id": "EMD2bGadcOSl"
      },
      "execution_count": null,
      "outputs": []
    },
    {
      "cell_type": "code",
      "source": [
        "!pip install text2graphapi   #instalamos la libreria para hacer el proceso de texto a grafo"
      ],
      "metadata": {
        "id": "JFEMlifox-ll"
      },
      "execution_count": null,
      "outputs": []
    },
    {
      "cell_type": "code",
      "source": [
        "from text2graphapi.src.Cooccurrence import Cooccurrence                 ###cargamos las librerias con los distintos tipos de grafos\n",
        "from text2graphapi.src.Heterogeneous import Heterogeneous\n",
        "from text2graphapi.src.IntegratedSyntacticGraph import ISG\n",
        "\n",
        "\n",
        "to_word_coocc_graph = Cooccurrence(graph_type = 'DiGraph',\n",
        "        language = 'en',\n",
        "        window_size = 3, output_format = 'adj_matrix')\n",
        "\n",
        "to_hetero_graph = Heterogeneous(graph_type = 'Graph',\n",
        "        window_size = 20,\n",
        "        language = 'en', output_format = 'networkx')\n",
        "\n",
        "to_isg_graph = ISG(graph_type = 'DiGraph',  language = 'en', output_format = 'networkx')"
      ],
      "metadata": {
        "id": "KAtw6PlOcYMQ"
      },
      "execution_count": null,
      "outputs": []
    },
    {
      "cell_type": "code",
      "source": [
        "to_hetero_graph.transform(text_to_graph_Sub1)"
      ],
      "metadata": {
        "id": "RxZ6_H2Q0M_w"
      },
      "execution_count": null,
      "outputs": []
    },
    {
      "cell_type": "code",
      "source": [
        "import networkx as nx\n",
        "\n",
        "#vamos a obtener el grafo\n",
        "Hetero_Graph = to_hetero_graph.transform(text_to_graph_Sub1)[0]['graph']"
      ],
      "metadata": {
        "id": "SxQPhvTxk__V"
      },
      "execution_count": null,
      "outputs": []
    },
    {
      "cell_type": "code",
      "source": [
        "to_word_coocc_graph.transform(text_to_graph_Sub1)"
      ],
      "metadata": {
        "id": "2ZGEap7Nc59C"
      },
      "execution_count": null,
      "outputs": []
    },
    {
      "cell_type": "code",
      "source": [
        "#lista para almacenar los grafos\n",
        "Concurrencia_grafos = []\n",
        "\n",
        "# Iterar sobre la lista original\n",
        "for i in to_word_coocc_graph.transform(text_to_graph_Sub1):\n",
        "    # Acceder al grafo y agregarlo a la lista de salida\n",
        "    grafo = i['graph']\n",
        "    Concurrencia_grafos.append(grafo)\n",
        "\n",
        "Concurrencia_grafos"
      ],
      "metadata": {
        "id": "qXeLhyWI1Qc2"
      },
      "execution_count": null,
      "outputs": []
    },
    {
      "cell_type": "code",
      "source": [
        "to_isg_graph.transform(text_to_graph_Sub1)"
      ],
      "metadata": {
        "id": "tKF8tV0bdISR"
      },
      "execution_count": null,
      "outputs": []
    },
    {
      "cell_type": "code",
      "source": [
        "#obtenemos el grafo ISG\n",
        "Isg_Graph = to_isg_graph.transform(text_to_graph_Sub1)[0]['graph']"
      ],
      "metadata": {
        "id": "tlDXKF8-0r6W"
      },
      "execution_count": null,
      "outputs": []
    },
    {
      "cell_type": "markdown",
      "source": [
        "**ESTADISTICAS DEL GRAFO**"
      ],
      "metadata": {
        "id": "ThMHLjrWfrwS"
      }
    },
    {
      "cell_type": "code",
      "source": [
        "#Pruebas estadisticas con el grafo heterogenos\n",
        "from networkx.algorithms import approximation as approx\n",
        "p1 = approx.average_clustering(Hetero_Graph, trials=1000, seed=10) #proba de que dado unnodo x1, dos de sus vecinos estén conectados\n",
        "p2 = approx.node_connectivity(Hetero_Graph) #numero de nodos a quitar para desconectar el grafo\n",
        "p3 = nx.approximation.maximum_independent_set(Hetero_Graph) #conjunto independiente maximal\n",
        "p4 = nx.average_degree_connectivity(Hetero_Graph) #El grado de conectividad promedio es el grado promedio del vecino más cercano de los nodos con grado k.\n",
        "p5 = nx.average_neighbor_degree(Hetero_Graph) #en promedio con cuando nodos está conectado cada nodo\n",
        "p6 = nx.rich_club_coefficient(Hetero_Graph, normalized=False, seed=42) #no sé pero se ve interesante :)\n",
        "p7 = nx.dominating_set(Hetero_Graph, start_with=None) #conjunto dominante\n",
        "p8 = nx.global_efficiency(Hetero_Graph)  #La eficiencia de un par de nodos en un gráfico es el inverso\n",
        "                                         #multiplicativo de la distancia del camino más corto entre los nodos.\n",
        "                                         #La eficiencia global promedio de un gráfico es la eficiencia promedio\n",
        "                                         #de todos los pares de nodos.\n",
        "\n",
        "\n",
        "print(p1)\n",
        "print(p2)\n",
        "print(p3)\n",
        "print(p4)\n",
        "print(p5)\n",
        "print(p6)\n",
        "print(p7)\n",
        "print(p8)"
      ],
      "metadata": {
        "colab": {
          "base_uri": "https://localhost:8080/"
        },
        "id": "EYyv6MUdybTo",
        "outputId": "fb6c6b70-0ea3-4547-ea63-11fca6e55f10"
      },
      "execution_count": null,
      "outputs": [
        {
          "output_type": "stream",
          "name": "stdout",
          "text": [
            "0.857\n",
            "0\n",
            "{'member', 'commission', 'D-1', 'parliament', 'bodies'}\n",
            "{6: 6.0, 34: 18.529411764705884, 28: 19.053571428571427, 17: 17.647058823529413, 16: 18.0375, 13: 20.26923076923077, 15: 19.266666666666666, 10: 18.7, 11: 18.272727272727273, 14: 19.928571428571427, 22: 20.90909090909091, 25: 19.8, 19: 21.593984962406015, 23: 20.82608695652174, 21: 21.61904761904762, 20: 21.95, 5: 5.0}\n",
            "{'D-1': 6.0, 'stop': 6.0, 'engine': 6.0, 'wait': 6.0, 'stops': 6.0, 'check': 6.0, 'safe': 6.0, 'D-2': 18.529411764705884, 'commission': 19.464285714285715, 'publish': 17.647058823529413, 'report': 18.1875, 'interim': 17.4375, 'years': 17.0625, 'considers': 17.647058823529413, 'request': 19.76923076923077, 'relevant': 18.8, 'information': 18.0625, 'member': 18.7, 'states': 18.272727272727273, 'council': 19.733333333333334, 'european': 19.928571428571427, 'parliament': 20.76923076923077, 'international': 19.4375, 'organizations': 18.642857142857142, 'bodies': 20.40909090909091, 'specialized': 19.8, 'agencies': 21.05263157894737, 'ensure': 21.136363636363637, 'adequate': 20.82608695652174, 'access': 21.181818181818183, 'competent': 21.61904761904762, 'national': 21.61904761904762, 'authorities': 21.95, 'purpose': 21.95, 'implementing': 21.95, 'regulation': 21.95, 'give': 21.68421052631579, 'special': 21.68421052631579, 'attention': 21.68421052631579, 'social': 21.68421052631579, 'dimension': 21.68421052631579, 'programme': 21.68421052631579, 'D-3': 5.0, 'tweeting': 5.0, 'lot': 5.0, 'november': 5.0, 'good': 5.0, 'month': 5.0}\n",
            "{0: 0.3262411347517731, 1: 0.3262411347517731, 2: 0.3262411347517731, 3: 0.3262411347517731, 4: 0.3262411347517731, 5: 0.4099883855981417, 6: 0.5579831932773109, 7: 0.5579831932773109, 8: 0.5579831932773109, 9: 0.5579831932773109, 10: 0.5739750445632799, 11: 0.5909090909090909, 12: 0.5909090909090909, 13: 0.6150537634408603, 14: 0.6275862068965518, 15: 0.6613756613756614, 16: 0.8260869565217391, 17: 0.9523809523809523, 18: 0.9523809523809523, 19: 0.978021978021978, 20: 0.9555555555555556, 21: 0.9285714285714286, 22: 1.0, 23: 1.0, 24: 1.0, 25: 1.0, 26: 1.0, 27: 1.0}\n",
            "{'member', 'relevant', 'tweeting', 'check', 'programme', 'parliament'}\n",
            "0.4428191489361702\n"
          ]
        }
      ]
    }
  ]
}