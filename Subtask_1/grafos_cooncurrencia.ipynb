{
  "nbformat": 4,
  "nbformat_minor": 0,
  "metadata": {
    "colab": {
      "provenance": []
    },
    "kernelspec": {
      "name": "python3",
      "display_name": "Python 3"
    },
    "language_info": {
      "name": "python"
    }
  },
  "cells": [
    {
      "cell_type": "code",
      "source": [
        "!pip install text2graphapi"
      ],
      "metadata": {
        "id": "-fbN4LKeSBha"
      },
      "execution_count": null,
      "outputs": []
    },
    {
      "cell_type": "code",
      "source": [
        "import pandas as pd\n",
        "data = pd.read_csv(\"en_subtask1.csv\")\n",
        "data.head()\n",
        "\n",
        "#recortamos la data para las pruebas\n",
        "data_recortada = data.head(60)\n",
        "dataprueba = 'dataprueba.csv'\n",
        "data_recortada.to_csv(dataprueba, index=False)\n",
        "\n",
        "data_human = data_recortada.loc[data_recortada['label'] == 'human']\n",
        "data_generated = data_recortada.loc[data_recortada['label'] == 'generated']\n",
        "\n",
        "data_human['filas'] = range(1, len(data_human) + 1)\n",
        "data_generated['filas'] = range(1,len(data_generated)+1)"
      ],
      "metadata": {
        "id": "fvIFlWMaSPuW"
      },
      "execution_count": null,
      "outputs": []
    },
    {
      "cell_type": "code",
      "source": [
        "tex_to_graph_human = []\n",
        "for index, row in data_human.iterrows():\n",
        "    fila = {\"id\": row['filas'], \"doc\": row['text']}\n",
        "    tex_to_graph_human.append(fila)"
      ],
      "metadata": {
        "id": "S84j8be2TGZu"
      },
      "execution_count": null,
      "outputs": []
    },
    {
      "cell_type": "code",
      "source": [
        "tex_to_graph_generated = []\n",
        "\n",
        "for index, row in data_generated.iterrows():\n",
        "    fila = {\"id\": row['filas'], \"doc\": row['text']}\n",
        "    tex_to_graph_generated.append(fila)\n"
      ],
      "metadata": {
        "id": "_cu7LXf9TitD"
      },
      "execution_count": null,
      "outputs": []
    },
    {
      "cell_type": "code",
      "source": [
        "from text2graphapi.src.Cooccurrence import Cooccurrence\n",
        "\n",
        "to_word_coocc_graph = Cooccurrence(graph_type = 'DiGraph',\n",
        "        language = 'en', apply_prep = True,\n",
        "        window_size = 3, output_format = 'networkx')\n"
      ],
      "metadata": {
        "id": "AbPKp4iiUiDM"
      },
      "execution_count": null,
      "outputs": []
    },
    {
      "cell_type": "code",
      "source": [
        "Grafos_cooncurencia_human = to_word_coocc_graph.transform(tex_to_graph_human)\n",
        "Grafos_cooncurencia_generated = to_word_coocc_graph.transform(tex_to_graph_generated)"
      ],
      "metadata": {
        "id": "fE_2iRigVZ_1"
      },
      "execution_count": null,
      "outputs": []
    },
    {
      "cell_type": "code",
      "source": [
        "lista_grafos_humanos = []\n",
        "\n",
        "for i in Grafos_cooncurencia_human:\n",
        "  grafo = i['graph']\n",
        "  lista_grafos_humanos.append(grafo)\n",
        "\n",
        "lista_grafos_humanos"
      ],
      "metadata": {
        "id": "9wHm5WDWa6eA"
      },
      "execution_count": null,
      "outputs": []
    },
    {
      "cell_type": "code",
      "source": [
        "lista_grafos_generated = []\n",
        "for i in Grafos_cooncurencia_generated:\n",
        "  grafo = i['graph']\n",
        "  lista_grafos_generated.append(grafo)\n",
        "\n",
        "lista_grafos_generated"
      ],
      "metadata": {
        "id": "91C5R2oibEz6"
      },
      "execution_count": null,
      "outputs": []
    },
    {
      "cell_type": "code",
      "source": [
        "#eficiencia global de conectividad en humanos\n",
        "from wordcloud import WordCloud\n",
        "import matplotlib.pyplot as plt\n",
        "import networkx as nx\n",
        "from networkx.algorithms import approximation as approx\n",
        "\n",
        "\n",
        "\n",
        "lista1 = []\n",
        "for grafo in lista_grafos_humanos:\n",
        "  grafo = grafo.to_undirected()\n",
        "  lista1.append(nx.global_efficiency(grafo))\n",
        "\n",
        "  print(nx.global_efficiency(grafo))\n",
        "\n",
        "print(\"La eficiencia global en promedio es:\", sum(lista1)/len(lista1))\n",
        "\n"
      ],
      "metadata": {
        "id": "53bNEbyIfFEs"
      },
      "execution_count": null,
      "outputs": []
    },
    {
      "cell_type": "code",
      "source": [
        "#eficiencia global de conectividad en IA's\n",
        "lista2 = []\n",
        "for grafo in lista_grafos_generated:\n",
        "  grafo = grafo.to_undirected()\n",
        "  lista2.append(nx.global_efficiency(grafo))\n",
        "\n",
        "  print(nx.global_efficiency(grafo))\n",
        "\n",
        "print(\"La eficiencia global en promedio es:\", sum(lista2)/len(lista2))\n",
        "\n"
      ],
      "metadata": {
        "id": "H5gk2Z0qjsHU"
      },
      "execution_count": null,
      "outputs": []
    },
    {
      "cell_type": "code",
      "source": [
        "IAefg = sum(lista2)/len(lista2)\n",
        "Hefg = sum(lista1)/len(lista1)\n",
        "diferencia = abs(IAefg - Hefg)\n",
        "print(\"la diferencia de eficiencias globales es:\",diferencia)"
      ],
      "metadata": {
        "id": "vBbjmhBXl3_j"
      },
      "execution_count": null,
      "outputs": []
    },
    {
      "cell_type": "code",
      "source": [
        "#promedio de cuantos nodos están conectados con otros nodos en humanos\n",
        "lista3 = []\n",
        "for grafo in lista_grafos_humanos:\n",
        "  lista3.append(nx.average_neighbor_degree(grafo))\n",
        "\n",
        "print(lista3)\n",
        "\n",
        "# extraer los valores de los diccionarios\n",
        "valores_numericosH = [valor for diccionario in lista3 for valor in diccionario.values() if isinstance(valor, (int, float))]\n",
        "\n",
        "print(valores_numericosH)\n",
        "\n",
        "average_neighbor_degree_promedio = sum(valores_numericosH)/len(valores_numericosH)\n",
        "print(\"El promedio de cuantos nodos están conectados con otros nodos en humanos es:\", average_neighbor_degree_promedio)"
      ],
      "metadata": {
        "id": "s93RnTkZpI5J"
      },
      "execution_count": null,
      "outputs": []
    },
    {
      "cell_type": "code",
      "source": [
        "#Promedio de cuantos nodos están conectados con otros nodos en IA\n",
        "lista4 = []\n",
        "\n",
        "for grafo in lista_grafos_generated:\n",
        "  lista4.append(nx.average_neighbor_degree(grafo))\n",
        "\n",
        "print(lista4)\n",
        "\n",
        "valores_numericosIA = [valor for diccionario in lista4 for valor in diccionario.values() if isinstance(valor, (int, float))]\n",
        "\n",
        "print(valores_numericosIA)\n",
        "average_neighbor_degree_promedioIA = sum(valores_numericosIA)/len(valores_numericosIA)\n",
        "print(\"El promedio de cuantos nodos están conectados con otros nodos en IA es:\", average_neighbor_degree_promedioIA)"
      ],
      "metadata": {
        "id": "viFklNWCql8n"
      },
      "execution_count": null,
      "outputs": []
    },
    {
      "cell_type": "code",
      "source": [
        "#Diferecia de promedios\n",
        "print(\"La diferencia de promedios de nodos conectados es:\",\n",
        "      abs(average_neighbor_degree_promedio - average_neighbor_degree_promedioIA))"
      ],
      "metadata": {
        "id": "tlP6Rg0DwQ8w"
      },
      "execution_count": null,
      "outputs": []
    },
    {
      "cell_type": "code",
      "source": [
        "#veamos ahora la centralidad de cercania en humanos\n",
        "lista5 = []\n",
        "for grafo in lista_grafos_humanos:\n",
        "  lista5.append(nx.closeness_centrality(grafo))\n",
        "\n",
        "print(lista5)\n",
        "valoresH = [valor for diccionario in lista5 for valor in diccionario.values() if isinstance(valor, (int, float))]\n",
        "print(valoresH)\n",
        "promedio_cercaniaH = sum(valoresH)/len(valoresH)\n",
        "print(\"El promedio de centralidad de cercania en humanos es:\", promedio_cercaniaH)"
      ],
      "metadata": {
        "id": "794aFAxfyWjQ"
      },
      "execution_count": null,
      "outputs": []
    },
    {
      "cell_type": "code",
      "source": [
        "#los mismo pero en IA\n",
        "lista6 = []\n",
        "for grafo in lista_grafos_generated:\n",
        "  lista6.append(nx.closeness_centrality(grafo))\n",
        "\n",
        "print(lista6)\n",
        "valoresIA = [valor for diccionario in lista6 for valor in diccionario.values() if isinstance(valor, (int, float))]\n",
        "print(valoresIA)\n",
        "promedio_cercaniaIA = sum(valoresIA)/len(valoresIA)\n",
        "print(\"El promedio de centralidad de cercania en humanos es:\", promedio_cercaniaIA)"
      ],
      "metadata": {
        "id": "S44gMaBZ0rCj"
      },
      "execution_count": null,
      "outputs": []
    },
    {
      "cell_type": "code",
      "source": [
        "print(\"La diferencia de cercania de centralidad es:\",\n",
        "      abs(promedio_cercaniaIA - promedio_cercaniaH))"
      ],
      "metadata": {
        "id": "EoLHxLQl2eWb"
      },
      "execution_count": null,
      "outputs": []
    },
    {
      "cell_type": "code",
      "source": [
        "#conjunto dominante ia\n",
        "lista9 = []\n",
        "for i in lista_grafos_generated:\n",
        "  lista9.append(nx.dominating_set(i, start_with=None))\n",
        "\n",
        "listapalabrasIA = []\n",
        "for conjunto in lista9:\n",
        "  listapalabrasIA.extend(conjunto)\n",
        "print(listapalabrasIA)\n",
        "\n"
      ],
      "metadata": {
        "id": "N9rKD1wrevK9"
      },
      "execution_count": null,
      "outputs": []
    },
    {
      "cell_type": "code",
      "source": [
        "\n",
        "#conjunto dominante humanos\n",
        "lista7 = []\n",
        "for i in lista_grafos_humanos:\n",
        "  lista7.append(nx.dominating_set(i, start_with=None))\n",
        "\n",
        "listaconpalabrashumano = []\n",
        "for conjunto in lista7:\n",
        "  listaconpalabrashumano.extend(conjunto)\n",
        "\n",
        "print(listaconpalabrashumano)"
      ],
      "metadata": {
        "id": "iyxXT84EbKUg"
      },
      "execution_count": null,
      "outputs": []
    },
    {
      "cell_type": "code",
      "source": [
        "print(\"HUMANO:\", sorted(listaconpalabrashumano))\n",
        "print(\"IA:\", sorted(listapalabrasIA))"
      ],
      "metadata": {
        "id": "3FsUl0o_Y3nb"
      },
      "execution_count": null,
      "outputs": []
    },
    {
      "cell_type": "code",
      "source": [
        "textoIA = ' '.join(listapalabrasIA)\n",
        "\n",
        "# Crear un objeto WordCloud\n",
        "nube_palabrasIA = WordCloud(width=800, height=400, background_color='white').generate(textoIA)\n",
        "\n",
        "# Mostrar la nube de palabras utilizando matplotlib\n",
        "plt.figure(figsize=(10, 5))\n",
        "plt.imshow(nube_palabrasIA, interpolation='bilinear')\n",
        "plt.axis('off')\n",
        "plt.show()\n"
      ],
      "metadata": {
        "id": "V65KfSQCYpT0"
      },
      "execution_count": null,
      "outputs": []
    },
    {
      "cell_type": "code",
      "source": [
        "textoHumano = ' '.join(listaconpalabrashumano)\n",
        "\n",
        "# Crear un objeto WordCloud\n",
        "nube_palabras = WordCloud(width=800, height=400, background_color='white').generate(textoHumano)\n",
        "\n",
        "# Mostrar la nube de palabras utilizando matplotlib\n",
        "plt.figure(figsize=(10, 5))\n",
        "plt.imshow(nube_palabras, interpolation='bilinear')\n",
        "plt.axis('off')\n",
        "plt.show()"
      ],
      "metadata": {
        "id": "hzLaR1kUYuX7"
      },
      "execution_count": null,
      "outputs": []
    },
    {
      "cell_type": "code",
      "source": [
        "pip install wordcloud matplotlib"
      ],
      "metadata": {
        "id": "5WxrJJ9DHfRx"
      },
      "execution_count": null,
      "outputs": []
    }
  ]
}