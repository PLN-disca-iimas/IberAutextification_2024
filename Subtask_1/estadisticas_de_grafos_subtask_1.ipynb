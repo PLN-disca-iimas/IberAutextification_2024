{
  "nbformat": 4,
  "nbformat_minor": 0,
  "metadata": {
    "colab": {
      "provenance": []
    },
    "kernelspec": {
      "name": "python3",
      "display_name": "Python 3"
    },
    "language_info": {
      "name": "python"
    }
  },
  "cells": [
    {
      "cell_type": "code",
      "execution_count": null,
      "metadata": {
        "collapsed": true,
        "id": "A7Afadl2W1CH"
      },
      "outputs": [],
      "source": [
        "!pip install text2graphapi"
      ]
    },
    {
      "cell_type": "code",
      "source": [
        "import pandas as pd\n",
        "import networkx as nx\n",
        "import numpy as np\n",
        "from networkx.algorithms import approximation"
      ],
      "metadata": {
        "id": "2txIXEEOyyAC"
      },
      "execution_count": null,
      "outputs": []
    },
    {
      "cell_type": "code",
      "source": [
        "datos = pd.read_json('subtask_1.jsonl', lines=True)"
      ],
      "metadata": {
        "id": "9EStNIsHyzCx"
      },
      "execution_count": null,
      "outputs": []
    },
    {
      "cell_type": "code",
      "source": [
        "data_recortada = datos.head(54832)"
      ],
      "metadata": {
        "id": "Fq8gSLrGy1yF"
      },
      "execution_count": null,
      "outputs": []
    },
    {
      "cell_type": "code",
      "source": [
        "data_recortada.drop('id', axis=1, inplace=True)\n",
        "data_recortada['filas'] = range(1, len(data_recortada) + 1)"
      ],
      "metadata": {
        "collapsed": true,
        "id": "vPr8bO1dy6Vq"
      },
      "execution_count": null,
      "outputs": []
    },
    {
      "cell_type": "code",
      "source": [
        "text_to_graph = []\n",
        "for index, row in data_recortada.iterrows():\n",
        "    fila = {\"id\": row['filas'], \"doc\": row['text']}\n",
        "    text_to_graph.append(fila)"
      ],
      "metadata": {
        "id": "xGLJrT-6y_tB"
      },
      "execution_count": null,
      "outputs": []
    },
    {
      "cell_type": "code",
      "source": [
        "from text2graphapi.src.Cooccurrence import Cooccurrence\n",
        "\n",
        "to_word_coocc_graph = Cooccurrence(graph_type = 'DiGraph',\n",
        "        language = 'es', apply_prep = False,\n",
        "        window_size = 3, output_format = 'networkx')"
      ],
      "metadata": {
        "id": "0d--n5fhzD8R",
        "collapsed": true
      },
      "execution_count": null,
      "outputs": []
    },
    {
      "cell_type": "code",
      "source": [
        "listilla = []\n",
        "block_size = 1000\n",
        "\n",
        "for i in range(45000, 54832, block_size):\n",
        "\n",
        "    block = text_to_graph[i:i + block_size]\n",
        "\n",
        "\n",
        "    grafos_cooncurrencia = to_word_coocc_graph.transform(block)\n",
        "\n",
        "\n",
        "    listilla.append(grafos_cooncurrencia)"
      ],
      "metadata": {
        "collapsed": true,
        "id": "eEX_cPoyzD40"
      },
      "execution_count": null,
      "outputs": []
    },
    {
      "cell_type": "code",
      "source": [
        "lista_de_verdad = []\n",
        "\n",
        "for j in range(len(listilla[0:42])):\n",
        "  for i in listilla[j]:\n",
        "    grafo = i['graph']\n",
        "    lista_de_verdad.append(grafo)"
      ],
      "metadata": {
        "id": "F8_WaAGK0VkF"
      },
      "execution_count": null,
      "outputs": []
    },
    {
      "cell_type": "code",
      "source": [
        "def get_avg_degree_centr(graph: nx.Graph):     #este sí me sirve\n",
        "    centrality = list(nx.degree_centrality(graph).values())\n",
        "    count = np.mean(centrality)\n",
        "    return count\n"
      ],
      "metadata": {
        "id": "qEJkLb7_0VbK"
      },
      "execution_count": null,
      "outputs": []
    },
    {
      "cell_type": "code",
      "source": [
        "grado_centralidad = []      #sí me sirve esta metrica\n",
        "for i in lista_de_verdad:\n",
        "  grado_centralidad.append(get_avg_degree_centr(i))"
      ],
      "metadata": {
        "id": "C9I5RSdJ0VXp"
      },
      "execution_count": null,
      "outputs": []
    },
    {
      "cell_type": "code",
      "source": [
        "def get_number_components(graph: nx.Graph):       #no se si me sirve\n",
        "    g = graph.to_undirected()\n",
        "    num_components = nx.number_connected_components(g)/g.number_of_nodes()\n",
        "\n",
        "    return num_components"
      ],
      "metadata": {
        "id": "WH89uyjC0mHN"
      },
      "execution_count": null,
      "outputs": []
    },
    {
      "cell_type": "code",
      "source": [
        "components = []           #no se si me srive\n",
        "\n",
        "for grafo in lista_de_verdad:\n",
        "  components.append(get_number_components(grafo))\n",
        "\n"
      ],
      "metadata": {
        "id": "F30veYd-0mFX"
      },
      "execution_count": null,
      "outputs": []
    },
    {
      "cell_type": "code",
      "source": [
        "def get_number_strong_comp(graph: nx.Graph):   #no sé si me sirve x2\n",
        "    num_strong_components = nx.number_strongly_connected_components(graph)/graph.number_of_nodes()\n",
        "    return num_strong_components\n"
      ],
      "metadata": {
        "id": "dyQsjCR10mDX"
      },
      "execution_count": null,
      "outputs": []
    },
    {
      "cell_type": "code",
      "source": [
        "strongest = []      #no sé si me sirve x2\n",
        "for grafo in lista_de_verdad:\n",
        "  strongest.append(get_number_strong_comp(grafo))\n"
      ],
      "metadata": {
        "id": "qBBuaUEC0mBh"
      },
      "execution_count": null,
      "outputs": []
    },
    {
      "cell_type": "code",
      "source": [
        "def entropy(cent_measure):\n",
        "    m = np.asarray(cent_measure, float)\n",
        "    dist = m / m.sum()\n",
        "    ent = np.nansum(dist * np.log2(1.0 / dist))\n",
        "    return ent\n",
        "\n",
        "def get_entropy_clos(graph: nx.Graph):\n",
        "    centrality = list(nx.closeness_centrality((graph)).values())\n",
        "    num_entropy = entropy(centrality)/graph.number_of_nodes()\n",
        "    return num_entropy"
      ],
      "metadata": {
        "id": "JcMNp70M0l_O"
      },
      "execution_count": null,
      "outputs": []
    },
    {
      "cell_type": "code",
      "source": [
        "entropy_clos = []\n",
        "for grafo in lista_de_verdad:\n",
        "  entropy_clos.append(get_entropy_clos(grafo))"
      ],
      "metadata": {
        "id": "J6j8Cjs50l8-"
      },
      "execution_count": null,
      "outputs": []
    },
    {
      "cell_type": "code",
      "source": [
        "def get_transitivity(graph: nx.DiGraph):\n",
        "    trans = nx.transitivity(graph)\n",
        "    return trans"
      ],
      "metadata": {
        "id": "h_6GVk4D0l6s"
      },
      "execution_count": null,
      "outputs": []
    },
    {
      "cell_type": "code",
      "source": [
        "trans = []\n",
        "for grafo in lista_de_verdad:\n",
        "  trans.append(get_transitivity(grafo))"
      ],
      "metadata": {
        "id": "Y4vwbbt70l4Z"
      },
      "execution_count": null,
      "outputs": []
    },
    {
      "cell_type": "code",
      "source": [
        "def get_sparseness(graph: nx.Graph):\n",
        "    mat = nx.adjacency_matrix((graph)).todense()\n",
        "    num_num = np.count_nonzero(mat)\n",
        "    num_val = np.prod(mat.shape)\n",
        "    sparseness = float(num_num) / num_val\n",
        "    return sparseness"
      ],
      "metadata": {
        "id": "9ZA1zl2F0l05"
      },
      "execution_count": null,
      "outputs": []
    },
    {
      "cell_type": "code",
      "source": [
        "sparse = []\n",
        "for grafo in lista_de_verdad:\n",
        "  sparse.append(get_sparseness(grafo))"
      ],
      "metadata": {
        "id": "Ct6DShgD0lyo"
      },
      "execution_count": null,
      "outputs": []
    },
    {
      "cell_type": "code",
      "source": [
        "def get_entropy_centr(graph: nx.Graph):\n",
        "    centrality = list(nx.degree_centrality((graph)).values())\n",
        "    num_entropy = entropy(centrality)/graph.number_of_nodes()\n",
        "    return num_entropy"
      ],
      "metadata": {
        "id": "JjYkOmi80lwU"
      },
      "execution_count": null,
      "outputs": []
    },
    {
      "cell_type": "code",
      "source": [
        "entropy_centr = []\n",
        "\n",
        "for grafo in lista_de_verdad:\n",
        "  entropy_centr.append(get_entropy_centr(grafo))"
      ],
      "metadata": {
        "id": "zyMO54zt0lui"
      },
      "execution_count": null,
      "outputs": []
    },
    {
      "cell_type": "code",
      "source": [
        "def get_degree_connectivity(graph: nx.Graph):\n",
        "    count = np.mean(list(nx.average_neighbor_degree(graph).values()))\n",
        "    return count/graph.number_of_nodes()"
      ],
      "metadata": {
        "id": "vSFGdrXC1Xk5"
      },
      "execution_count": null,
      "outputs": []
    },
    {
      "cell_type": "code",
      "source": [
        "neighbor_grado_1 = []\n",
        "for i in lista_de_verdad:\n",
        "  neighbor_grado_1.append(get_degree_connectivity(i))"
      ],
      "metadata": {
        "id": "pV-7gUPv1Xhf"
      },
      "execution_count": null,
      "outputs": []
    },
    {
      "cell_type": "code",
      "source": [
        "datos_YA = pd.DataFrame({\n",
        "                         'degree_centrality':grado_centralidad,\n",
        "                         'neighbor_degree':neighbor_grado_1,\n",
        "\n",
        "                         'transitivity':trans,\n",
        "                         'number_strong_comp':strongest,\n",
        "                         'entropy_centr': entropy_centr,\n",
        "                         'entropy_clos':entropy_clos,\n",
        "                         'sparseness':sparse})"
      ],
      "metadata": {
        "id": "P9w40qE-1XeA"
      },
      "execution_count": null,
      "outputs": []
    },
    {
      "cell_type": "code",
      "source": [
        "datos_YA.to_csv('4_metricas_calculadas_subtask_1.csv', index=False)"
      ],
      "metadata": {
        "id": "_e7VayXh1XcP"
      },
      "execution_count": null,
      "outputs": []
    },
    {
      "cell_type": "code",
      "source": [],
      "metadata": {
        "id": "oYYtRyuwHwux"
      },
      "execution_count": null,
      "outputs": []
    }
  ]
}