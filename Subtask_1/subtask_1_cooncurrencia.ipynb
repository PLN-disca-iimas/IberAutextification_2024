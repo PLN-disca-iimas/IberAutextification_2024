{
  "nbformat": 4,
  "nbformat_minor": 0,
  "metadata": {
    "colab": {
      "provenance": []
    },
    "kernelspec": {
      "name": "python3",
      "display_name": "Python 3"
    },
    "language_info": {
      "name": "python"
    }
  },
  "cells": [
    {
      "cell_type": "code",
      "source": [
        "import pandas as pd\n",
        "\n",
        "datos = pd.read_json('subtask_1.jsonl', lines=True)"
      ],
      "metadata": {
        "id": "Gd9Be-0qOthU"
      },
      "execution_count": null,
      "outputs": []
    },
    {
      "cell_type": "code",
      "source": [
        "datos.drop(\"id\", axis=1, inplace=True)"
      ],
      "metadata": {
        "id": "dPjYxiGiR4Rl"
      },
      "execution_count": null,
      "outputs": []
    },
    {
      "cell_type": "code",
      "source": [
        "data_recortada = datos.head(10000)"
      ],
      "metadata": {
        "id": "XT-GMZbrQaMZ"
      },
      "execution_count": null,
      "outputs": []
    },
    {
      "cell_type": "code",
      "source": [
        "len(datos)"
      ],
      "metadata": {
        "colab": {
          "base_uri": "https://localhost:8080/"
        },
        "id": "YzOz3tUdKXlN",
        "outputId": "d23cf9ae-2e2b-47cf-edd1-ecc5ef223a4f"
      },
      "execution_count": null,
      "outputs": [
        {
          "output_type": "execute_result",
          "data": {
            "text/plain": [
              "109663"
            ]
          },
          "metadata": {},
          "execution_count": 17
        }
      ]
    },
    {
      "cell_type": "code",
      "source": [],
      "metadata": {
        "id": "SVSkM2K6Kapr"
      },
      "execution_count": null,
      "outputs": []
    },
    {
      "cell_type": "code",
      "source": [
        "data_human = datos.loc[datos['label'] == 'human']\n",
        "data_generated = datos.loc[datos['label'] == 'generated']\n",
        "\n",
        "data_human['filas'] = range(1, len(data_human) + 1)\n",
        "data_generated['filas'] = range(1,len(data_generated)+1)"
      ],
      "metadata": {
        "id": "Q97z2nHTRC2U"
      },
      "execution_count": null,
      "outputs": []
    },
    {
      "cell_type": "code",
      "source": [
        "tex_to_graph_human = []\n",
        "for index, row in data_human.iterrows():\n",
        "    fila = {\"id\": row['filas'], \"doc\": row['text']}\n",
        "    tex_to_graph_human.append(fila)"
      ],
      "metadata": {
        "id": "HikJq7hlT81s"
      },
      "execution_count": null,
      "outputs": []
    },
    {
      "cell_type": "code",
      "source": [
        "tex_to_graph_generated = []\n",
        "\n",
        "for index, row in data_generated.iterrows():\n",
        "    fila = {\"id\": row['filas'], \"doc\": row['text']}\n",
        "    tex_to_graph_generated.append(fila)"
      ],
      "metadata": {
        "id": "tOMLkCmiUAbv"
      },
      "execution_count": null,
      "outputs": []
    },
    {
      "cell_type": "code",
      "source": [
        "!pip install text2graphapi"
      ],
      "metadata": {
        "id": "j7D7X3MhUOaF"
      },
      "execution_count": null,
      "outputs": []
    },
    {
      "cell_type": "code",
      "source": [
        "from text2graphapi.src.Cooccurrence import Cooccurrence\n",
        "\n",
        "to_word_coocc_graph = Cooccurrence(graph_type = 'DiGraph',\n",
        "        language = 'es', apply_prep = False,\n",
        "        window_size = 3, output_format = 'networkx')"
      ],
      "metadata": {
        "id": "HACsbtHKVJpE"
      },
      "execution_count": null,
      "outputs": []
    },
    {
      "cell_type": "code",
      "source": [
        "Grafos_cooncurencia_human = to_word_coocc_graph.transform(tex_to_graph_human[35000:40000])\n",
        "Grafos_cooncurencia_generated = to_word_coocc_graph.transform(tex_to_graph_generated[35000:40000])"
      ],
      "metadata": {
        "id": "_6CwbmvHXufF"
      },
      "execution_count": null,
      "outputs": []
    },
    {
      "cell_type": "code",
      "source": [
        "lista_grafos_humanos = []\n",
        "\n",
        "for i in Grafos_cooncurencia_human:\n",
        "  grafo = i['graph']\n",
        "  lista_grafos_humanos.append(grafo)"
      ],
      "metadata": {
        "id": "QvULhPJuX1Hk"
      },
      "execution_count": null,
      "outputs": []
    },
    {
      "cell_type": "code",
      "source": [
        "lista_grafos_generated = []\n",
        "for i in Grafos_cooncurencia_generated:\n",
        "  grafo = i['graph']\n",
        "  lista_grafos_generated.append(grafo)"
      ],
      "metadata": {
        "id": "5c1H3rsQX2i3"
      },
      "execution_count": null,
      "outputs": []
    },
    {
      "cell_type": "code",
      "source": [
        "#eficiencia global de conectividad en humanos\n",
        "\n",
        "import networkx as nx\n",
        "from networkx.algorithms import approximation as approx\n",
        "\n",
        "\n",
        "\n",
        "lista1 = []\n",
        "for grafo in lista_grafos_humanos:\n",
        "  grafo = grafo.to_undirected()\n",
        "  lista1.append(nx.global_efficiency(grafo))\n",
        "\n",
        "\n",
        "print(\"La eficiencia global en promedio es:\", sum(lista1)/len(lista1))\n"
      ],
      "metadata": {
        "id": "t-fEwi6cX7k_",
        "colab": {
          "base_uri": "https://localhost:8080/"
        },
        "outputId": "d975bd44-6a1d-432c-93cc-25907c09a887"
      },
      "execution_count": null,
      "outputs": [
        {
          "output_type": "stream",
          "name": "stdout",
          "text": [
            "La eficiencia global en promedio es: 0.4978750726132517\n"
          ]
        }
      ]
    },
    {
      "cell_type": "code",
      "source": [
        "#eficiencia global de conectividad en IA's\n",
        "lista2 = []\n",
        "for grafo in lista_grafos_generated:\n",
        "  grafo = grafo.to_undirected()\n",
        "  lista2.append(nx.global_efficiency(grafo))\n",
        "\n",
        "\n",
        "\n",
        "print(\"La eficiencia global en promedio es:\", sum(lista2)/len(lista2))\n",
        "\n"
      ],
      "metadata": {
        "id": "yDZ-mJpRX_UL",
        "colab": {
          "base_uri": "https://localhost:8080/"
        },
        "outputId": "b10fa714-ffab-4ce8-9965-e64d12855277"
      },
      "execution_count": null,
      "outputs": [
        {
          "output_type": "stream",
          "name": "stdout",
          "text": [
            "La eficiencia global en promedio es: 0.5199306472289184\n"
          ]
        }
      ]
    },
    {
      "cell_type": "code",
      "source": [
        "IAefg = sum(lista2)/len(lista2)\n",
        "Hefg = sum(lista1)/len(lista1)\n",
        "diferencia = abs(IAefg - Hefg)\n",
        "print(\"la diferencia de eficiencias globales es:\",diferencia)"
      ],
      "metadata": {
        "id": "HHXfsW4WYDzO"
      },
      "execution_count": null,
      "outputs": []
    },
    {
      "cell_type": "code",
      "source": [
        "#promedio de cuantos nodos están conectados con otros nodos en humanos\n",
        "lista3 = []\n",
        "for grafo in lista_grafos_humanos:\n",
        "  lista3.append(nx.average_neighbor_degree(grafo))\n",
        "\n",
        "#print(lista3)\n",
        "\n",
        "# extraer los valores de los diccionarios\n",
        "valores_numericosH = [valor for diccionario in lista3 for valor in diccionario.values() if isinstance(valor, (int, float))]\n",
        "\n",
        "#print(valores_numericosH)\n",
        "\n",
        "average_neighbor_degree_promedio = sum(valores_numericosH)/len(valores_numericosH)\n",
        "print(\"El promedio de cuantos nodos están conectados con otros nodos en humanos es:\", average_neighbor_degree_promedio)"
      ],
      "metadata": {
        "id": "T-np1nFdYMBR",
        "colab": {
          "base_uri": "https://localhost:8080/"
        },
        "outputId": "6be4b48d-b6d8-4bbb-db9a-5cb124943086"
      },
      "execution_count": null,
      "outputs": [
        {
          "output_type": "stream",
          "name": "stdout",
          "text": [
            "El promedio de cuantos nodos están conectados con otros nodos en humanos es: 12.292948696719888\n"
          ]
        }
      ]
    },
    {
      "cell_type": "code",
      "source": [
        "#Promedio de cuantos nodos están conectados con otros nodos en IA\n",
        "lista4 = []\n",
        "\n",
        "for grafo in lista_grafos_generated:\n",
        "  lista4.append(nx.average_neighbor_degree(grafo))\n",
        "\n",
        "#print(lista4)\n",
        "\n",
        "valores_numericosIA = [valor for diccionario in lista4 for valor in diccionario.values() if isinstance(valor, (int, float))]\n",
        "\n",
        "#print(valores_numericosIA)\n",
        "average_neighbor_degree_promedioIA = sum(valores_numericosIA)/len(valores_numericosIA)\n",
        "print(\"El promedio de cuantos nodos están conectados con otros nodos en IA es:\", average_neighbor_degree_promedioIA)"
      ],
      "metadata": {
        "id": "f6HgQSuoYPFT",
        "colab": {
          "base_uri": "https://localhost:8080/"
        },
        "outputId": "7fae03e2-82ae-488a-ad73-e78ae94ef718"
      },
      "execution_count": null,
      "outputs": [
        {
          "output_type": "stream",
          "name": "stdout",
          "text": [
            "El promedio de cuantos nodos están conectados con otros nodos en IA es: 12.507762179448111\n"
          ]
        }
      ]
    },
    {
      "cell_type": "code",
      "source": [
        "#Diferecia de promedios\n",
        "print(\"La diferencia de promedios de nodos conectados es:\",\n",
        "      abs(average_neighbor_degree_promedio - average_neighbor_degree_promedioIA))"
      ],
      "metadata": {
        "id": "S6e-qp-ZYTOG"
      },
      "execution_count": null,
      "outputs": []
    },
    {
      "cell_type": "code",
      "source": [
        "#veamos ahora la centralidad de cercania en humanos\n",
        "lista5 = []\n",
        "for grafo in lista_grafos_humanos:\n",
        "  lista5.append(nx.closeness_centrality(grafo))\n",
        "\n",
        "#print(lista5)\n",
        "valoresH = [valor for diccionario in lista5 for valor in diccionario.values() if isinstance(valor, (int, float))]\n",
        "#print(valoresH)\n",
        "promedio_cercaniaH = sum(valoresH)/len(valoresH)\n",
        "print(\"El promedio de centralidad de cercania en humanos es:\", promedio_cercaniaH)"
      ],
      "metadata": {
        "id": "l_U9KCtmYZtg",
        "colab": {
          "base_uri": "https://localhost:8080/"
        },
        "outputId": "32fcba69-09b9-4cf2-b71b-b92cea475338"
      },
      "execution_count": null,
      "outputs": [
        {
          "output_type": "stream",
          "name": "stdout",
          "text": [
            "El promedio de centralidad de cercania en humanos es: 0.33197856147230204\n"
          ]
        }
      ]
    },
    {
      "cell_type": "code",
      "source": [
        "0.331892552"
      ],
      "metadata": {
        "colab": {
          "base_uri": "https://localhost:8080/"
        },
        "id": "4fnPTC4GfR7m",
        "outputId": "39be4206-b4fa-43dd-eafb-4bd138fe7768"
      },
      "execution_count": null,
      "outputs": [
        {
          "output_type": "execute_result",
          "data": {
            "text/plain": [
              "0.331892552"
            ]
          },
          "metadata": {},
          "execution_count": 71
        }
      ]
    },
    {
      "cell_type": "code",
      "source": [
        "#los mismo pero en IA\n",
        "lista6 = []\n",
        "for grafo in lista_grafos_generated:\n",
        "  lista6.append(nx.closeness_centrality(grafo))\n",
        "\n",
        "#print(lista6)\n",
        "valoresIA = [valor for diccionario in lista6 for valor in diccionario.values() if isinstance(valor, (int, float))]\n",
        "#print(valoresIA)\n",
        "promedio_cercaniaIA = sum(valoresIA)/len(valoresIA)\n",
        "print(\"El promedio de centralidad de cercania en humanos es:\", promedio_cercaniaIA)"
      ],
      "metadata": {
        "id": "7GyqvszyYa26",
        "colab": {
          "base_uri": "https://localhost:8080/"
        },
        "outputId": "bca668ba-41d0-4223-ab3b-c6666d5de86d"
      },
      "execution_count": null,
      "outputs": [
        {
          "output_type": "stream",
          "name": "stdout",
          "text": [
            "El promedio de centralidad de cercania en humanos es: 0.34536465536154903\n"
          ]
        }
      ]
    },
    {
      "cell_type": "code",
      "source": [
        "print(\"La diferencia de cercania de centralidad es:\",\n",
        "      abs(promedio_cercaniaIA - promedio_cercaniaH))"
      ],
      "metadata": {
        "id": "NJUvGad2YiRP"
      },
      "execution_count": null,
      "outputs": []
    },
    {
      "cell_type": "code",
      "source": [
        "#conjunto dominante ia\n",
        "lista9 = []\n",
        "for i in lista_grafos_generated:\n",
        "  lista9.append(nx.dominating_set(i, start_with=None))\n",
        "\n",
        "listapalabrasIA = []\n",
        "for conjunto in lista9:\n",
        "  listapalabrasIA.extend(conjunto)\n",
        "print(listapalabrasIA)\n"
      ],
      "metadata": {
        "id": "R_HZKdgNYlM1"
      },
      "execution_count": null,
      "outputs": []
    },
    {
      "cell_type": "code",
      "source": [
        "#conjunto dominante humanos\n",
        "lista7 = []\n",
        "for i in lista_grafos_humanos:\n",
        "  lista7.append(nx.dominating_set(i, start_with=None))\n",
        "\n",
        "listaconpalabrashumano = []\n",
        "for conjunto in lista7:\n",
        "  listaconpalabrashumano.extend(conjunto)\n",
        "\n",
        "print(listaconpalabrashumano)\n",
        "\n"
      ],
      "metadata": {
        "id": "_Srj02p4Ynji"
      },
      "execution_count": null,
      "outputs": []
    },
    {
      "cell_type": "code",
      "source": [
        "print(\"HUMANO:\", sorted(listaconpalabrashumano))\n",
        "print(\"IA:\", sorted(listapalabrasIA))"
      ],
      "metadata": {
        "id": "G-S-wvfwYsUs"
      },
      "execution_count": null,
      "outputs": []
    },
    {
      "cell_type": "code",
      "source": [
        "textoIA = ' '.join(listapalabrasIA)\n",
        "\n",
        "# Crear un objeto WordCloud\n",
        "nube_palabrasIA = WordCloud(width=800, height=400, background_color='white').generate(textoIA)\n",
        "\n",
        "# Mostrar la nube de palabras utilizando matplotlib\n",
        "plt.figure(figsize=(10, 5))\n",
        "plt.imshow(nube_palabrasIA, interpolation='bilinear')\n",
        "plt.axis('off')\n",
        "plt.show()\n"
      ],
      "metadata": {
        "id": "kFFRrScsYuxm"
      },
      "execution_count": null,
      "outputs": []
    },
    {
      "cell_type": "code",
      "source": [
        "textoHumano = ' '.join(listaconpalabrashumano)\n",
        "\n",
        "# Crear un objeto WordCloud\n",
        "nube_palabras = WordCloud(width=800, height=400, background_color='white').generate(textoHumano)\n",
        "\n",
        "# Mostrar la nube de palabras utilizando matplotlib\n",
        "plt.figure(figsize=(10, 5))\n",
        "plt.imshow(nube_palabras, interpolation='bilinear')\n",
        "plt.axis('off')\n",
        "plt.show()"
      ],
      "metadata": {
        "id": "VffI0ZilYyif"
      },
      "execution_count": null,
      "outputs": []
    },
    {
      "cell_type": "code",
      "source": [
        "pip install wordcloud matplotlib"
      ],
      "metadata": {
        "id": "UR-PGY37Y1xt"
      },
      "execution_count": null,
      "outputs": []
    },
    {
      "cell_type": "code",
      "source": [],
      "metadata": {
        "id": "W2Wyb-WhY2u4"
      },
      "execution_count": null,
      "outputs": []
    }
  ]
}