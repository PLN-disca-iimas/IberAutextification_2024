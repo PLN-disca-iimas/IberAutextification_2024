{
  "nbformat": 4,
  "nbformat_minor": 0,
  "metadata": {
    "colab": {
      "provenance": []
    },
    "kernelspec": {
      "name": "python3",
      "display_name": "Python 3"
    },
    "language_info": {
      "name": "python"
    }
  },
  "cells": [
    {
      "cell_type": "code",
      "source": [],
      "metadata": {
        "id": "E0OQ2jZYT9Sq"
      },
      "execution_count": null,
      "outputs": []
    },
    {
      "cell_type": "code",
      "source": [
        "import pandas as pd\n",
        "import networkx as nx\n",
        "import numpy as np\n",
        "from networkx.algorithms import approximation"
      ],
      "metadata": {
        "id": "pM8EK9RoNs2i"
      },
      "execution_count": null,
      "outputs": []
    },
    {
      "cell_type": "code",
      "source": [
        "def get_avg_degree_centr(graph: nx.Graph):     #este sí me sirve\n",
        "    centrality = list(nx.degree_centrality(graph).values())\n",
        "    count = np.mean(centrality)\n",
        "    return count\n",
        "\n",
        "\n",
        "grado_centralidad = []      #sí me sirve esta metrica\n",
        "for i in lista_de_verdad:\n",
        "  grado_centralidad.append(get_avg_degree_centr(i))\n"
      ],
      "metadata": {
        "id": "gNmbPClIjHU_"
      },
      "execution_count": null,
      "outputs": []
    },
    {
      "cell_type": "code",
      "source": [
        "def get_degree_connectivity(graph: nx.Graph):\n",
        "    count = np.mean(list(nx.average_neighbor_degree(graph).values()))\n",
        "    return count/graph.number_of_nodes()\n",
        "\n",
        "neighbor_grado_1 = []\n",
        "for i in lista_de_verdad:\n",
        "  neighbor_grado_1.append(get_degree_connectivity(i))"
      ],
      "metadata": {
        "id": "VnXvkqOuk0Wl"
      },
      "execution_count": null,
      "outputs": []
    },
    {
      "cell_type": "code",
      "source": [
        "def get_transitivity(graph: nx.DiGraph):\n",
        "    trans = nx.transitivity(graph)\n",
        "    return trans\n",
        "\n",
        "trans = []\n",
        "for grafo in lista_de_verdad:\n",
        "  trans.append(get_transitivity(grafo))"
      ],
      "metadata": {
        "id": "XSsKwiual4TF"
      },
      "execution_count": null,
      "outputs": []
    },
    {
      "cell_type": "code",
      "source": [
        "def get_number_strong_comp(graph: nx.Graph):   #no sé si me sirve x2\n",
        "    num_strong_components = nx.number_strongly_connected_components(graph)/graph.number_of_nodes()\n",
        "    return num_strong_components\n",
        "\n",
        "strongest = []      #no sé si me sirve x2\n",
        "for grafo in lista_de_verdad:\n",
        "  strongest.append(get_number_strong_comp(grafo))\n",
        "\n"
      ],
      "metadata": {
        "id": "NP4el_uQmPrA"
      },
      "execution_count": null,
      "outputs": []
    },
    {
      "cell_type": "code",
      "source": [
        "\n",
        "def entropy(cent_measure):\n",
        "    m = np.asarray(cent_measure, float)\n",
        "    dist = m / m.sum()\n",
        "    ent = np.nansum(dist * np.log2(1.0 / dist))\n",
        "    return ent\n",
        "\n",
        "\n",
        "\n",
        "def get_entropy_centr(graph: nx.Graph):\n",
        "    centrality = list(nx.degree_centrality((graph)).values())\n",
        "    num_entropy = entropy(centrality)/graph.number_of_nodes()\n",
        "    return num_entropy\n",
        "\n",
        "entropy_centr = []\n",
        "\n",
        "for grafo in lista_de_verdad:\n",
        "  entropy_centr.append(get_entropy_centr(grafo))"
      ],
      "metadata": {
        "id": "tiIAp1qpm8Fk"
      },
      "execution_count": null,
      "outputs": []
    },
    {
      "cell_type": "code",
      "source": [
        "def get_entropy_clos(graph: nx.Graph):\n",
        "    centrality = list(nx.closeness_centrality((graph)).values())\n",
        "    num_entropy = entropy(centrality)/graph.number_of_nodes()\n",
        "    return num_entropy\n",
        "\n",
        "\n",
        "entropy_clos = []\n",
        "for grafo in lista_de_verdad:\n",
        "  entropy_clos.append(get_entropy_clos(grafo))\n"
      ],
      "metadata": {
        "id": "L0Em9EVkneoU"
      },
      "execution_count": null,
      "outputs": []
    },
    {
      "cell_type": "code",
      "source": [
        "def get_sparseness(graph: nx.Graph):\n",
        "    mat = nx.adjacency_matrix((graph)).todense()\n",
        "    num_num = np.count_nonzero(mat)\n",
        "    num_val = np.prod(mat.shape)\n",
        "    sparseness = float(num_num) / num_val\n",
        "    return sparseness\n",
        "\n",
        "\n",
        "sparse = []\n",
        "for grafo in lista_de_verdad:\n",
        "  sparse.append(get_sparseness(grafo))"
      ],
      "metadata": {
        "id": "bBBiraFJnhCj"
      },
      "execution_count": null,
      "outputs": []
    }
  ]
}