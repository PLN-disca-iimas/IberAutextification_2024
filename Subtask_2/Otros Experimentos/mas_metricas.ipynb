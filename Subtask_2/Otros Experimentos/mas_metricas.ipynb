{
  "nbformat": 4,
  "nbformat_minor": 0,
  "metadata": {
    "colab": {
      "provenance": []
    },
    "kernelspec": {
      "name": "python3",
      "display_name": "Python 3"
    },
    "language_info": {
      "name": "python"
    }
  },
  "cells": [
    {
      "cell_type": "code",
      "source": [
        "!pip install text2graphapi"
      ],
      "metadata": {
        "collapsed": true,
        "id": "mfVZii-sp0Fq"
      },
      "execution_count": null,
      "outputs": []
    },
    {
      "cell_type": "code",
      "execution_count": null,
      "metadata": {
        "id": "-aXEfS3xmrW1"
      },
      "outputs": [],
      "source": [
        "import pandas as pd\n",
        "import networkx as nx\n",
        "import numpy as np\n",
        "from networkx.algorithms import approximation"
      ]
    },
    {
      "cell_type": "code",
      "source": [
        "datos = pd.read_json('subtask_1.jsonl', lines=True)"
      ],
      "metadata": {
        "id": "3I7krdZkoKDN"
      },
      "execution_count": null,
      "outputs": []
    },
    {
      "cell_type": "code",
      "source": [
        "data_recortada = datos.head(54832)"
      ],
      "metadata": {
        "id": "AOc1JJOToinL"
      },
      "execution_count": null,
      "outputs": []
    },
    {
      "cell_type": "code",
      "source": [
        "data_recortada.drop('id', axis=1, inplace=True)"
      ],
      "metadata": {
        "collapsed": true,
        "id": "-GqhaXc9oiH4"
      },
      "execution_count": null,
      "outputs": []
    },
    {
      "cell_type": "code",
      "source": [
        "data_recortada['filas'] = range(1, len(data_recortada) + 1)"
      ],
      "metadata": {
        "collapsed": true,
        "id": "JLT9uVeFoiEW"
      },
      "execution_count": null,
      "outputs": []
    },
    {
      "cell_type": "code",
      "source": [
        "data_recortada"
      ],
      "metadata": {
        "id": "SyuhA6bl4iTU"
      },
      "execution_count": null,
      "outputs": []
    },
    {
      "cell_type": "code",
      "source": [
        "text_to_graph = []\n",
        "for index, row in data_recortada.iterrows():\n",
        "    fila = {\"id\": row['filas'], \"doc\": row['text']}\n",
        "    text_to_graph.append(fila)"
      ],
      "metadata": {
        "id": "DPn2KcIEoiCb"
      },
      "execution_count": null,
      "outputs": []
    },
    {
      "cell_type": "code",
      "source": [
        "from text2graphapi.src.Cooccurrence import Cooccurrence\n",
        "\n",
        "to_word_coocc_graph = Cooccurrence(graph_type = 'DiGraph',\n",
        "        language = 'es', apply_prep = False,\n",
        "        window_size = 3, output_format = 'networkx')"
      ],
      "metadata": {
        "collapsed": true,
        "id": "CzjiSXPKpEg7"
      },
      "execution_count": null,
      "outputs": []
    },
    {
      "cell_type": "code",
      "source": [
        "listilla = []\n",
        "block_size = 1000\n",
        "\n",
        "\n",
        "for i in range(0, len(text_to_graph), block_size):\n",
        "\n",
        "    block = text_to_graph[i:i + block_size]\n",
        "\n",
        "\n",
        "    grafos_cooncurrencia = to_word_coocc_graph.transform(block)\n",
        "\n",
        "\n",
        "    listilla.append(grafos_cooncurrencia)"
      ],
      "metadata": {
        "collapsed": true,
        "id": "SfgjQrgsq9xQ"
      },
      "execution_count": null,
      "outputs": []
    },
    {
      "cell_type": "code",
      "source": [
        "lista_de_verdad = []\n",
        "\n",
        "for j in range(len(listilla[0:42])):\n",
        "  for i in listilla[j]:\n",
        "    grafo = i['graph']\n",
        "    lista_de_verdad.append(grafo)"
      ],
      "metadata": {
        "id": "SXc5OD9XsbYh"
      },
      "execution_count": null,
      "outputs": []
    },
    {
      "cell_type": "code",
      "source": [
        "def get_avg_degree_centr(graph: nx.Graph):     #este sí me sirve\n",
        "    centrality = list(nx.degree_centrality(graph).values())\n",
        "    count = np.mean(centrality)\n",
        "    return count"
      ],
      "metadata": {
        "id": "oDCUjkwOskAb"
      },
      "execution_count": null,
      "outputs": []
    },
    {
      "cell_type": "code",
      "source": [
        "grado_centralidad = []      #sí me sirve esta metrica\n",
        "for i in lista_de_verdad:\n",
        "  grado_centralidad.append(get_avg_degree_centr(i))\n"
      ],
      "metadata": {
        "collapsed": true,
        "id": "8_KlFPrsuRp3"
      },
      "execution_count": null,
      "outputs": []
    },
    {
      "cell_type": "code",
      "source": [
        "def get_clustering_approx(graph: nx.DiGraph):      #este sí me sirve\n",
        "    graph_und = graph.to_undirected()\n",
        "    clust = approximation.average_clustering(graph_und)\n",
        "    return clust\n"
      ],
      "metadata": {
        "id": "SahJZeETtnBc"
      },
      "execution_count": null,
      "outputs": []
    },
    {
      "cell_type": "code",
      "source": [
        "clust = []                 #este sí me sirve\n",
        "for grafo in lista_de_verdad:\n",
        "  clust.append(get_clustering_approx(i))\n",
        "\n",
        "\n",
        "len(clust)"
      ],
      "metadata": {
        "collapsed": true,
        "id": "TVFpm_RbynCn"
      },
      "execution_count": null,
      "outputs": []
    },
    {
      "cell_type": "code",
      "source": [
        "def get_number_components(graph: nx.Graph):       #no se si me sirve\n",
        "    g = graph.to_undirected()\n",
        "    num_components = nx.number_connected_components(g)/g.number_of_nodes()\n",
        "\n",
        "    return num_components"
      ],
      "metadata": {
        "id": "N-ld3y663I2D"
      },
      "execution_count": null,
      "outputs": []
    },
    {
      "cell_type": "code",
      "source": [
        "components = []           #no se si me srive\n",
        "\n",
        "for grafo in lista_de_verdad:\n",
        "  components.append(get_number_components(grafo))\n",
        "\n"
      ],
      "metadata": {
        "id": "8a32w6Di3cXm"
      },
      "execution_count": null,
      "outputs": []
    },
    {
      "cell_type": "code",
      "source": [
        "def get_number_strong_comp(graph: nx.Graph):   #no sé si me sirve x2\n",
        "    num_strong_components = nx.number_strongly_connected_components(graph)/graph.number_of_nodes()\n",
        "    return num_strong_components\n"
      ],
      "metadata": {
        "id": "DUhm4fQA8DUy"
      },
      "execution_count": null,
      "outputs": []
    },
    {
      "cell_type": "code",
      "source": [
        "strongest = []      #no sé si me sirve x2\n",
        "for grafo in lista_de_verdad:\n",
        "  strongest.append(get_number_strong_comp(grafo))\n",
        "\n"
      ],
      "metadata": {
        "collapsed": true,
        "id": "SLbxb0TW8rXC"
      },
      "execution_count": null,
      "outputs": []
    },
    {
      "cell_type": "code",
      "source": [
        "\n",
        "def entropy(cent_measure):\n",
        "    m = np.asarray(cent_measure, float)\n",
        "    dist = m / m.sum()\n",
        "    ent = np.nansum(dist * np.log2(1.0 / dist))\n",
        "    return ent"
      ],
      "metadata": {
        "id": "W0RYb25LXR3n"
      },
      "execution_count": null,
      "outputs": []
    },
    {
      "cell_type": "code",
      "source": [
        "def get_entropy_clos(graph: nx.Graph):\n",
        "    centrality = list(nx.closeness_centrality((graph)).values())\n",
        "    num_entropy = entropy(centrality)/graph.number_of_nodes()\n",
        "    return num_entropy\n"
      ],
      "metadata": {
        "id": "PPCIt9F39taz"
      },
      "execution_count": null,
      "outputs": []
    },
    {
      "cell_type": "code",
      "source": [
        "entropy_clos = []\n",
        "for grafo in lista_de_verdad:\n",
        "  entropy_clos.append(get_entropy_clos(grafo))\n"
      ],
      "metadata": {
        "id": "JE_AxP8R9vIj"
      },
      "execution_count": null,
      "outputs": []
    },
    {
      "cell_type": "code",
      "source": [
        "def get_transitivity(graph: nx.DiGraph):\n",
        "    trans = nx.transitivity(graph)\n",
        "    return trans\n"
      ],
      "metadata": {
        "id": "RBG2HiJzZMnO"
      },
      "execution_count": null,
      "outputs": []
    },
    {
      "cell_type": "code",
      "source": [
        "trans = []\n",
        "for grafo in lista_de_verdad:\n",
        "  trans.append(get_transitivity(grafo))"
      ],
      "metadata": {
        "id": "-7Sa7rGOZQen"
      },
      "execution_count": null,
      "outputs": []
    },
    {
      "cell_type": "code",
      "source": [
        "def get_sparseness(graph: nx.Graph):\n",
        "    mat = nx.adjacency_matrix((graph)).todense()\n",
        "    num_num = np.count_nonzero(mat)\n",
        "    num_val = np.prod(mat.shape)\n",
        "    sparseness = float(num_num) / num_val\n",
        "    return sparseness"
      ],
      "metadata": {
        "id": "9qK_ug5sZtoc"
      },
      "execution_count": null,
      "outputs": []
    },
    {
      "cell_type": "code",
      "source": [
        "sparse = []\n",
        "for grafo in lista_de_verdad:\n",
        "  sparse.append(get_sparseness(grafo))"
      ],
      "metadata": {
        "id": "WDeY_j-BZ_rl"
      },
      "execution_count": null,
      "outputs": []
    },
    {
      "cell_type": "code",
      "source": [
        "def get_entropy_centr(graph: nx.Graph):\n",
        "    centrality = list(nx.degree_centrality((graph)).values())\n",
        "    num_entropy = entropy(centrality)/graph.number_of_nodes()\n",
        "    return num_entropy\n"
      ],
      "metadata": {
        "id": "EdkCglxZabDZ"
      },
      "execution_count": null,
      "outputs": []
    },
    {
      "cell_type": "code",
      "source": [
        "entropy_centr = []\n",
        "\n",
        "for grafo in lista_de_verdad:\n",
        "  entropy_centr.append(get_entropy_centr(grafo))"
      ],
      "metadata": {
        "id": "fbxIAeHRa1Qu"
      },
      "execution_count": null,
      "outputs": []
    },
    {
      "cell_type": "code",
      "source": [
        "def get_degree_connectivity(graph: nx.Graph):\n",
        "    count = np.mean(list(nx.average_neighbor_degree(graph).values()))\n",
        "    return count/graph.number_of_nodes()\n"
      ],
      "metadata": {
        "id": "YyrzGr7EdfeL"
      },
      "execution_count": null,
      "outputs": []
    },
    {
      "cell_type": "code",
      "source": [
        "neighbor_grado_1 = []\n",
        "for i in lista_de_verdad:\n",
        "  neighbor_grado_1.append(get_degree_connectivity(i))"
      ],
      "metadata": {
        "id": "7qmvDxCAeFQB"
      },
      "execution_count": null,
      "outputs": []
    },
    {
      "cell_type": "code",
      "source": [
        "def get_assortativity(graph: nx.Graph):\n",
        "    try:\n",
        "        assort = nx.degree_pearson_correlation_coefficient(graph)\n",
        "    except:\n",
        "        assort = np.nan\n",
        "    return abs(assort)"
      ],
      "metadata": {
        "id": "wI9f5LR3jmuT"
      },
      "execution_count": null,
      "outputs": []
    },
    {
      "cell_type": "code",
      "source": [
        "asortaty = []\n",
        "for i in lista_de_verdad:\n",
        "  asortaty.append(get_assortativity(i))"
      ],
      "metadata": {
        "id": "malJOJ8bjrOq"
      },
      "execution_count": null,
      "outputs": []
    },
    {
      "cell_type": "code",
      "source": [
        "data_final = pd.read_csv('metricas_subtask_2.csv')"
      ],
      "metadata": {
        "id": "pRapCjW_kg1n"
      },
      "execution_count": null,
      "outputs": []
    },
    {
      "cell_type": "code",
      "source": [
        "data_final"
      ],
      "metadata": {
        "collapsed": true,
        "id": "KClyWXHVknTd"
      },
      "execution_count": null,
      "outputs": []
    },
    {
      "cell_type": "code",
      "source": [
        "nueva_fila = {'cercania':0.358906, 'eficiencia':0.449429, 'clustering':0.327558}\n",
        "\n",
        "data_final.loc[len(data_final)] = nueva_fila"
      ],
      "metadata": {
        "id": "yajYj8jEkoEN"
      },
      "execution_count": null,
      "outputs": []
    },
    {
      "cell_type": "code",
      "source": [
        "data_final = data_final.rename(columns={'cercania': 'clossenes',\n",
        "                                        'eficiencia':'global_efficiency',\n",
        "                                        'clustering':'clustering'})"
      ],
      "metadata": {
        "id": "e6DNgZnsnAH4"
      },
      "execution_count": null,
      "outputs": []
    },
    {
      "cell_type": "code",
      "source": [
        "datos_otravez = pd.read_json('subtask_2.jsonl', lines=True)"
      ],
      "metadata": {
        "id": "TLiJhyb3oFIQ"
      },
      "execution_count": null,
      "outputs": []
    },
    {
      "cell_type": "code",
      "source": [
        "recortados = datos_otravez.head(28000)\n"
      ],
      "metadata": {
        "id": "Da2VGtReofAr"
      },
      "execution_count": null,
      "outputs": []
    },
    {
      "cell_type": "code",
      "source": [
        "len(recortados['id']), len(recortados['label']), len(data_final['clustering']), len(data_final['global_efficiency']),len(data_final['clossenes']), len(grado_centralidad)"
      ],
      "metadata": {
        "colab": {
          "base_uri": "https://localhost:8080/"
        },
        "id": "JGodPET2rKFE",
        "outputId": "ae76ccf4-3569-45da-8c95-0eb9fae5dc73"
      },
      "execution_count": null,
      "outputs": [
        {
          "output_type": "execute_result",
          "data": {
            "text/plain": [
              "(29378, 29378, 29378, 29378, 29378, 29378)"
            ]
          },
          "metadata": {},
          "execution_count": 100
        }
      ]
    },
    {
      "cell_type": "code",
      "source": [
        "datos_YA = pd.DataFrame({'id':recortados['id'],\n",
        "                         'label': recortados['label'],\n",
        "                         'clustering':data_final['clustering'],\n",
        "                         'global_efficiency':data_final['global_efficiency'],\n",
        "                         'clossenes':data_final['clossenes'],\n",
        "                         'degree_centrality':grado_centralidad,\n",
        "                         'neighbor_degree':neighbor_grado_1,\n",
        "                         'assortativity':asortaty,\n",
        "                         'transitivity':trans,\n",
        "                         'number_strong_comp':strongest,\n",
        "                         'entropy_centr': entropy_centr,\n",
        "                         'entropy_clos':entropy_clos,\n",
        "                         'sparseness':sparse})\n"
      ],
      "metadata": {
        "collapsed": true,
        "id": "mljVDU1kotn_"
      },
      "execution_count": null,
      "outputs": []
    },
    {
      "cell_type": "code",
      "source": [
        "datos_YA.head(3)"
      ],
      "metadata": {
        "id": "mwNQZXThsOCQ"
      },
      "execution_count": null,
      "outputs": []
    },
    {
      "cell_type": "code",
      "source": [
        "datos_YA.to_csv('metricas_calculadas_subtask_2.csv', index=False)"
      ],
      "metadata": {
        "id": "lI3moOBVuvMN"
      },
      "execution_count": null,
      "outputs": []
    },
    {
      "cell_type": "code",
      "source": [
        "datos_YA.info()"
      ],
      "metadata": {
        "id": "oCZyeNcHvAvc"
      },
      "execution_count": null,
      "outputs": []
    },
    {
      "cell_type": "code",
      "source": [],
      "metadata": {
        "id": "pxa98eM2wPVM"
      },
      "execution_count": null,
      "outputs": []
    }
  ]
}