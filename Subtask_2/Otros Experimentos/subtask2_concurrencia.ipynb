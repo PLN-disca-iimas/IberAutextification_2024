{
  "nbformat": 4,
  "nbformat_minor": 0,
  "metadata": {
    "colab": {
      "provenance": []
    },
    "kernelspec": {
      "name": "python3",
      "display_name": "Python 3"
    },
    "language_info": {
      "name": "python"
    }
  },
  "cells": [
    {
      "cell_type": "code",
      "source": [
        "!pip install text2graphapi"
      ],
      "metadata": {
        "id": "qIpvQ9DPbjJy"
      },
      "execution_count": null,
      "outputs": []
    },
    {
      "cell_type": "code",
      "source": [
        "import pandas as pd\n",
        "\n",
        "datos = pd.read_json('subtask_2.jsonl', lines=True)"
      ],
      "metadata": {
        "id": "Gd9Be-0qOthU"
      },
      "execution_count": null,
      "outputs": []
    },
    {
      "cell_type": "code",
      "source": [
        "datos.head(3)"
      ],
      "metadata": {
        "id": "d527eLbQci6N"
      },
      "execution_count": null,
      "outputs": []
    },
    {
      "cell_type": "code",
      "source": [
        "datos.info()"
      ],
      "metadata": {
        "id": "WqtRc6-ka-Kw"
      },
      "execution_count": null,
      "outputs": []
    },
    {
      "cell_type": "code",
      "source": [
        "data_recortada = datos.head(29377)"
      ],
      "metadata": {
        "id": "nbItkQxOYb96"
      },
      "execution_count": null,
      "outputs": []
    },
    {
      "cell_type": "code",
      "source": [
        "data_recortada.drop('id', axis=1, inplace=True)"
      ],
      "metadata": {
        "id": "-vWrKLIXZQhN"
      },
      "execution_count": null,
      "outputs": []
    },
    {
      "cell_type": "code",
      "source": [
        "data_recortada['filas'] = range(1, len(data_recortada) + 1)"
      ],
      "metadata": {
        "id": "ZnNVv4KiVpEa"
      },
      "execution_count": null,
      "outputs": []
    },
    {
      "cell_type": "code",
      "source": [
        "text_to_graph = []\n",
        "for index, row in data_recortada.iterrows():\n",
        "    fila = {\"id\": row['filas'], \"doc\": row['text']}\n",
        "    text_to_graph.append(fila)"
      ],
      "metadata": {
        "id": "i3KIt2oAa7mc"
      },
      "execution_count": null,
      "outputs": []
    },
    {
      "cell_type": "code",
      "source": [
        "from text2graphapi.src.Cooccurrence import Cooccurrence\n",
        "\n",
        "to_word_coocc_graph = Cooccurrence(graph_type = 'DiGraph',\n",
        "        language = 'es', apply_prep = False,\n",
        "        window_size = 3, output_format = 'networkx')"
      ],
      "metadata": {
        "id": "9hB4CtIibWeu"
      },
      "execution_count": null,
      "outputs": []
    },
    {
      "cell_type": "code",
      "source": [
        "\n",
        "grafos_cooncurrencia = to_word_coocc_graph.transform(text_to_graph[20000:29377])"
      ],
      "metadata": {
        "id": "pzuxje9ObimJ"
      },
      "execution_count": null,
      "outputs": []
    },
    {
      "cell_type": "code",
      "source": [
        "lista_grafos = []\n",
        "\n",
        "for i in grafos_cooncurrencia:\n",
        "  grafo = i['graph']\n",
        "  lista_grafos.append(grafo)"
      ],
      "metadata": {
        "id": "ukVeNXRmfMIW"
      },
      "execution_count": null,
      "outputs": []
    },
    {
      "cell_type": "code",
      "source": [
        "import networkx as nx\n",
        "from networkx.algorithms import approximation as approx\n",
        "\n",
        "\n",
        "\n",
        "lista1 = []\n",
        "for grafo in lista_grafos:\n",
        "  grafo = grafo.to_undirected()\n",
        "  lista1.append(nx.global_efficiency(grafo))\n"
      ],
      "metadata": {
        "id": "Oo9lnsnefV7Q"
      },
      "execution_count": null,
      "outputs": []
    },
    {
      "cell_type": "code",
      "source": [
        "len(lista1)"
      ],
      "metadata": {
        "colab": {
          "base_uri": "https://localhost:8080/"
        },
        "id": "AGvOHEQ2v0Ui",
        "outputId": "847bdd0c-2e0a-4e03-ff10-5f4e678fe399"
      },
      "execution_count": null,
      "outputs": [
        {
          "output_type": "execute_result",
          "data": {
            "text/plain": [
              "20000"
            ]
          },
          "metadata": {},
          "execution_count": 52
        }
      ]
    },
    {
      "cell_type": "code",
      "source": [
        "#veamos ahora la centralidad de cercania en humanos\n",
        "lista5 = []\n",
        "for grafo in lista_grafos:\n",
        "  lista5.append(nx.closeness_centrality(grafo))\n"
      ],
      "metadata": {
        "id": "N4uq9Vy0ho0A"
      },
      "execution_count": null,
      "outputs": []
    },
    {
      "cell_type": "code",
      "source": [
        "lista_chida = []\n",
        "\n",
        "for i in lista5:\n",
        "  promedio = sum(i.values())/len(i.values())\n",
        "  lista_chida.append(promedio)\n"
      ],
      "metadata": {
        "id": "ypREfzvkr8PH"
      },
      "execution_count": null,
      "outputs": []
    },
    {
      "cell_type": "code",
      "source": [
        "lista2 = []\n",
        "\n",
        "for grafo in lista_grafos:\n",
        "  lista2.append(nx.clustering(grafo))"
      ],
      "metadata": {
        "id": "LTcbqo7pxyYV"
      },
      "execution_count": null,
      "outputs": []
    },
    {
      "cell_type": "code",
      "source": [
        "lista_chida_2 = []\n",
        "for i in lista2:\n",
        "  promedio = sum(i.values())/len(i.values())\n",
        "  lista_chida_2.append(promedio)"
      ],
      "metadata": {
        "id": "q9b-GSR4y0J_"
      },
      "execution_count": null,
      "outputs": []
    },
    {
      "cell_type": "code",
      "source": [
        "lista_5 = []\n",
        "\n",
        "for grafo in lista_grafos:\n",
        "  lista_5.append(abs(nx.degree_assortativity_coefficient(grafo)))"
      ],
      "metadata": {
        "id": "gSzJip6Cza9h"
      },
      "execution_count": null,
      "outputs": []
    },
    {
      "cell_type": "code",
      "source": [
        "datillos = {'cercania': lista_chida, 'eficiencia': lista1, 'clustering': lista_chida_2, 'asortatividad':lista_5}\n",
        "\n",
        "dataaaaa = pd.DataFrame(datillos)"
      ],
      "metadata": {
        "id": "fOl-wO58vo75"
      },
      "execution_count": null,
      "outputs": []
    },
    {
      "cell_type": "code",
      "source": [
        "dataaaaa.to_csv('subtask_2_metricas_3.csv', index=False)"
      ],
      "metadata": {
        "id": "r5RVAeQKwPCT"
      },
      "execution_count": null,
      "outputs": []
    },
    {
      "cell_type": "code",
      "source": [
        "dataaaaa.info()"
      ],
      "metadata": {
        "id": "PzPOliAt6Mgt"
      },
      "execution_count": null,
      "outputs": []
    },
    {
      "cell_type": "code",
      "source": [
        "import numpy as np\n",
        "import pandas as pd"
      ],
      "metadata": {
        "id": "3a3Zx5PbYJh7"
      },
      "execution_count": null,
      "outputs": []
    },
    {
      "cell_type": "code",
      "source": [
        "df1 = pd.read_csv('subtask_1_metricas.csv')"
      ],
      "metadata": {
        "id": "AR9Dy6qj6SUy"
      },
      "execution_count": null,
      "outputs": []
    },
    {
      "cell_type": "code",
      "source": [
        "df2 = pd.read_csv('subtask_1metricas_2.csv')"
      ],
      "metadata": {
        "id": "KWmxKnIxXP1v"
      },
      "execution_count": null,
      "outputs": []
    },
    {
      "cell_type": "code",
      "source": [
        "subtask_1 = pd.concat([df1, df2], ignore_index=True)"
      ],
      "metadata": {
        "id": "EPE2gEQ3XSW_"
      },
      "execution_count": null,
      "outputs": []
    },
    {
      "cell_type": "code",
      "source": [
        "df_sinnulos = subtask_1['asortatividad'].dropna()"
      ],
      "metadata": {
        "id": "SIufy8xdX46_"
      },
      "execution_count": null,
      "outputs": []
    },
    {
      "cell_type": "code",
      "source": [
        "sum(df_sinnulos[0:60])/len(df_sinnulos[0:60])"
      ],
      "metadata": {
        "id": "aXxV7jROX6ww"
      },
      "execution_count": null,
      "outputs": []
    },
    {
      "cell_type": "code",
      "source": [
        "subtask_1.drop('asortatividad', axis=1, inplace=True)"
      ],
      "metadata": {
        "id": "dVHZmNhbaAiu"
      },
      "execution_count": null,
      "outputs": []
    },
    {
      "cell_type": "code",
      "source": [
        "subtask_1.to_csv('metricas_subtask_1.csv', index=False)\n",
        "subtask2.to_csv('metricas_subtask_2.csv', index=False)"
      ],
      "metadata": {
        "id": "r1DK6sPgbZ8-"
      },
      "execution_count": null,
      "outputs": []
    },
    {
      "cell_type": "code",
      "source": [
        "pdf1 = pd.read_csv('subtask_2_metricas.csv')\n",
        "pdf2 = pd.read_csv('subtask_2_metricas_2.csv')\n",
        "pdf3 = pd.read_csv('subtask_2_metricas_3.csv')"
      ],
      "metadata": {
        "id": "GAJic3-YbBWp"
      },
      "execution_count": null,
      "outputs": []
    },
    {
      "cell_type": "code",
      "source": [
        "subtask2 = pd.concat([pdf1, pdf2, pdf3], ignore_index=True)\n",
        "subtask2.drop('asortatividad', axis=1, inplace=True)"
      ],
      "metadata": {
        "id": "aCZ6AJXsd5LL"
      },
      "execution_count": null,
      "outputs": []
    },
    {
      "cell_type": "code",
      "source": [
        "subtask"
      ],
      "metadata": {
        "id": "-_aZeceIe3Ey"
      },
      "execution_count": null,
      "outputs": []
    }
  ]
}