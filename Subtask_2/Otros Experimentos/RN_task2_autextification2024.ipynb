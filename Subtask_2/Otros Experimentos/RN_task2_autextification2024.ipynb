{
  "cells": [
    {
      "cell_type": "code",
      "execution_count": null,
      "metadata": {
        "id": "EKrSMtEhPFkn"
      },
      "outputs": [],
      "source": [
        "#!pip install scipy"
      ]
    },
    {
      "cell_type": "code",
      "execution_count": 1,
      "metadata": {
        "colab": {
          "base_uri": "https://localhost:8080/",
          "height": 365
        },
        "id": "07hE55JzNEcd",
        "outputId": "1b1f7ab1-37f9-4102-f440-bf3414b892e3"
      },
      "outputs": [
        {
          "name": "stderr",
          "output_type": "stream",
          "text": [
            "2024-10-03 12:41:43.670950: E external/local_xla/xla/stream_executor/cuda/cuda_fft.cc:485] Unable to register cuFFT factory: Attempting to register factory for plugin cuFFT when one has already been registered\n",
            "2024-10-03 12:41:43.717472: E external/local_xla/xla/stream_executor/cuda/cuda_dnn.cc:8454] Unable to register cuDNN factory: Attempting to register factory for plugin cuDNN when one has already been registered\n",
            "2024-10-03 12:41:43.730333: E external/local_xla/xla/stream_executor/cuda/cuda_blas.cc:1452] Unable to register cuBLAS factory: Attempting to register factory for plugin cuBLAS when one has already been registered\n",
            "2024-10-03 12:41:43.812054: I tensorflow/core/platform/cpu_feature_guard.cc:210] This TensorFlow binary is optimized to use available CPU instructions in performance-critical operations.\n",
            "To enable the following instructions: AVX2 FMA, in other operations, rebuild TensorFlow with the appropriate compiler flags.\n",
            "2024-10-03 12:41:44.660278: W tensorflow/compiler/tf2tensorrt/utils/py_utils.cc:38] TF-TRT Warning: Could not find TensorRT\n"
          ]
        }
      ],
      "source": [
        "#Importamos los paquetes necesarios para el funcionamiento.\n",
        "import csv\n",
        "import tensorflow\n",
        "tensorflow.config.run_functions_eagerly(False)\n",
        "\n",
        "import numpy as np\n",
        "import pandas as pd\n",
        "import matplotlib.pyplot as plt\n",
        "from tensorflow.keras.preprocessing.text import Tokenizer\n",
        "from tensorflow.keras.preprocessing.sequence import pad_sequences\n",
        "from tensorflow.keras.preprocessing import sequence\n",
        "from tensorflow.keras.models import Sequential\n",
        "from tensorflow.keras.layers import Dense, Dropout, Activation\n",
        "from tensorflow.keras.layers import Embedding\n",
        "from tensorflow.keras.layers import Conv1D, GlobalMaxPooling1D\n",
        "from tensorflow.keras.datasets import imdb\n",
        "from tqdm import tqdm\n",
        "import requests"
      ]
    },
    {
      "cell_type": "code",
      "execution_count": null,
      "metadata": {
        "id": "ycEj10ABxjDZ",
        "outputId": "484122da-654a-419b-bdfe-fec760a2f58c"
      },
      "outputs": [
        {
          "data": {
            "text/plain": [
              "\"\\nfrom google.colab import drive\\n\\ndrive.mount('/content/gdrive')\\n\""
            ]
          },
          "execution_count": 9,
          "metadata": {},
          "output_type": "execute_result"
        }
      ],
      "source": [
        "#Usaremos colab para cargar los documentos de la tarea 1.\n",
        "'''\n",
        "from google.colab import drive\n",
        "\n",
        "drive.mount('/content/gdrive')\n",
        "'''"
      ]
    },
    {
      "cell_type": "code",
      "execution_count": 4,
      "metadata": {
        "id": "y0kUXNrWNP9q"
      },
      "outputs": [],
      "source": [
        "\"\"\"\n",
        "Método add_feature1\n",
        "Toma una matriz dispera x y agrega una o más características adicionales.\n",
        "@param: dos matrices en formato csv.\n",
        "@return: una matriz en formato csr.\n",
        "\"\"\"\n",
        "def add_feature1(X, feature_to_add):\n",
        "    from scipy.sparse import csr_matrix, hstack\n",
        "    # Se concatena la secuncia de caracteres del conjunto de train con un matriz dispersa\n",
        "    return hstack([X, csr_matrix(feature_to_add)], 'csr')\n",
        "\n",
        "\"\"\"\n",
        "Método plot_graphs\n",
        "Genera gráficos qeu muestra la evolución de métricas como pérdida o precisió, tanto en los datos de entrenamiento como de validación.\n",
        "@param: history -> la historia del modelo, string -> el nombre de la métrica a graficar.\n",
        "@return: Gráfico\n",
        "\"\"\"\n",
        "def plot_graphs(history, string):\n",
        "    plt.plot(history.history[string])\n",
        "    plt.plot(history.history['val_'+string])\n",
        "    plt.xlabel(\"Epochs\")\n",
        "    plt.ylabel(string)\n",
        "    plt.legend([string, 'val_'+string])\n",
        "    plt.show()"
      ]
    },
    {
      "cell_type": "code",
      "execution_count": 5,
      "metadata": {
        "id": "jql5y8AEqEkU"
      },
      "outputs": [],
      "source": [
        "\"\"\"\n",
        "Obtenemos los datos de entrenamiento y validación ya refinados.\n",
        "\"\"\"\n",
        "#Dataset roberta finetuned\n",
        "train_roberta = pd.read_csv('/home/luiscamacho/Descargas/train_subtask2xlm-roberta-base-finetuned-autext24-subtask2.csv', header=None)\n",
        "test_roberta = pd.read_csv('/home/luiscamacho/Descargas/test_subtask2xlm-roberta-base-finetuned-autext24-subtask2.csv', header=None)\n",
        "\n",
        "#Dataset e5\n",
        "train_e5 = pd.read_csv('/home/luiscamacho/Descargas/train_subtask2multilingual-e5-large-finetuned-autext24-subtask2.csv', header=None)\n",
        "test_e5 = pd.read_csv('/home/luiscamacho/Descargas/test_subtask2multilingual-e5-large-finetuned-autext24-subtask2.csv', header=None)\n",
        "\n",
        "#Dataset bert\n",
        "train_bert = pd.read_csv('/home/luiscamacho/Descargas/train_subtask2bert-base-multilingual-cased-finetuned-autext24-subtask2.csv', header=None)\n",
        "test_bert = pd.read_csv('/home/luiscamacho/Descargas/test_subtask2bert-base-multilingual-cased-finetuned-autext24-subtask2.csv', header=None)\n",
        "\n",
        "#Dataset stylometry\n",
        "train_stylometry = pd.read_csv('/home/luiscamacho/Descargas/stylometry_train_S2.csv')\n",
        "test_stylometry = pd.read_csv('/home/luiscamacho/Descargas/stylometry_test_S2.csv')\n"
      ]
    },
    {
      "cell_type": "code",
      "execution_count": 13,
      "metadata": {
        "id": "k1yhJi5K1Q8r",
        "outputId": "a828ed39-0511-4976-9ae6-488e076b2b40"
      },
      "outputs": [
        {
          "name": "stdout",
          "output_type": "stream",
          "text": [
            "(41127, 8)\n",
            "(17627, 8)\n"
          ]
        }
      ],
      "source": [
        "\n",
        "# Cargamos los datasets originales\n",
        "train_data = pd.read_csv('/home/luiscamacho/Descargas/train_S2.csv')\n",
        "test_data = pd.read_csv('/home/luiscamacho/Descargas/test_S2.csv')\n",
        "\n",
        "# Get dummies tranformia de forma \"binaria\" a categórica de manera que se pueda saber que cateória es cada una de las IA y asignarle un número.\n",
        "train_data = pd.get_dummies(train_data, columns=['label'], prefix='label')\n",
        "test_data = pd.get_dummies(test_data, columns=['label'], prefix='label')\n",
        "\n",
        "# Les asignamos a 'text' y 'label' una columna.\n",
        "X_train_data = train_data['text']\n",
        "y_train_data = train_data.drop(columns=['text'])  # Keep all label columns\n",
        "\n",
        "X_test_data = test_data['text']\n",
        "y_test_data = test_data.drop(columns=['text'])\n",
        "\n",
        "# Mostramos las dimensiones de ambos datasets.\n",
        "print(train_data.shape)\n",
        "print(test_data.shape)"
      ]
    },
    {
      "cell_type": "code",
      "execution_count": 14,
      "metadata": {
        "id": "Ip_uBMTjqHck"
      },
      "outputs": [],
      "source": [
        "#Datos de entrenamiento\n",
        "#Unimos todas las características para el entrenamiento en un solo objeto.\n",
        "X_train_data = add_feature1(train_stylometry, train_bert)\n",
        "X_train_data = add_feature1(X_train_data, train_e5)\n",
        "X_train_data = add_feature1(X_train_data, train_roberta)\n",
        "\n",
        "#Datos de prueba\n",
        "#Unimos todas las características oara la validación en un solo objeto.\n",
        "X_test_data = add_feature1(test_roberta, test_bert)\n",
        "X_test_data = add_feature1(X_test_data, test_e5)\n",
        "X_test_data = add_feature1(X_test_data, test_stylometry)"
      ]
    },
    {
      "cell_type": "code",
      "execution_count": 36,
      "metadata": {},
      "outputs": [],
      "source": [
        "#Convertimos los y_train_data y y_test_data para que de booleanos, se hagan 1 para verdadero y 0 para Falso.\n",
        "y_train_data = y_train_data.astype(int)\n",
        "y_test_data = y_test_data.astype(int)"
      ]
    },
    {
      "cell_type": "code",
      "execution_count": 38,
      "metadata": {
        "id": "MBx-G59jpbLl",
        "outputId": "0073890c-079f-4e59-d6f6-b2a421841348"
      },
      "outputs": [
        {
          "name": "stdout",
          "output_type": "stream",
          "text": [
            "(41127, 2573)\n",
            "(41127, 7)\n"
          ]
        }
      ],
      "source": [
        "#Volvemos a mostrar las dimensiones de las características viendo que coincidan en el número de filas\n",
        "print(X_train_data.shape)\n",
        "print(y_train_data.shape)"
      ]
    },
    {
      "cell_type": "code",
      "execution_count": 31,
      "metadata": {
        "id": "pMS8coNqPFkr"
      },
      "outputs": [
        {
          "data": {
            "text/plain": [
              "7"
            ]
          },
          "execution_count": 31,
          "metadata": {},
          "output_type": "execute_result"
        }
      ],
      "source": [
        "#Obtenemos el número de clases el cual debe coincidir con los labels.\n",
        "num_classes = y_train_data.shape[1]\n",
        "num_classes"
      ]
    },
    {
      "cell_type": "code",
      "execution_count": 32,
      "metadata": {
        "id": "rWcKlWxPqRGs",
        "outputId": "e4ddf4bc-8ffd-4fea-d327-e8ec5c741e42"
      },
      "outputs": [
        {
          "name": "stderr",
          "output_type": "stream",
          "text": [
            "/home/luiscamacho/.local/lib/python3.10/site-packages/keras/src/layers/core/dense.py:87: UserWarning: Do not pass an `input_shape`/`input_dim` argument to a layer. When using Sequential models, prefer using an `Input(shape)` object as the first layer in the model instead.\n",
            "  super().__init__(activity_regularizer=activity_regularizer, **kwargs)\n"
          ]
        },
        {
          "data": {
            "text/html": [
              "<pre style=\"white-space:pre;overflow-x:auto;line-height:normal;font-family:Menlo,'DejaVu Sans Mono',consolas,'Courier New',monospace\"><span style=\"font-weight: bold\">Model: \"sequential_5\"</span>\n",
              "</pre>\n"
            ],
            "text/plain": [
              "\u001b[1mModel: \"sequential_5\"\u001b[0m\n"
            ]
          },
          "metadata": {},
          "output_type": "display_data"
        },
        {
          "data": {
            "text/html": [
              "<pre style=\"white-space:pre;overflow-x:auto;line-height:normal;font-family:Menlo,'DejaVu Sans Mono',consolas,'Courier New',monospace\">┏━━━━━━━━━━━━━━━━━━━━━━━━━━━━━━━━━┳━━━━━━━━━━━━━━━━━━━━━━━━┳━━━━━━━━━━━━━━━┓\n",
              "┃<span style=\"font-weight: bold\"> Layer (type)                    </span>┃<span style=\"font-weight: bold\"> Output Shape           </span>┃<span style=\"font-weight: bold\">       Param # </span>┃\n",
              "┡━━━━━━━━━━━━━━━━━━━━━━━━━━━━━━━━━╇━━━━━━━━━━━━━━━━━━━━━━━━╇━━━━━━━━━━━━━━━┩\n",
              "│ dense_17 (<span style=\"color: #0087ff; text-decoration-color: #0087ff\">Dense</span>)                │ (<span style=\"color: #00d7ff; text-decoration-color: #00d7ff\">None</span>, <span style=\"color: #00af00; text-decoration-color: #00af00\">128</span>)            │       <span style=\"color: #00af00; text-decoration-color: #00af00\">329,472</span> │\n",
              "├─────────────────────────────────┼────────────────────────┼───────────────┤\n",
              "│ dropout_12 (<span style=\"color: #0087ff; text-decoration-color: #0087ff\">Dropout</span>)            │ (<span style=\"color: #00d7ff; text-decoration-color: #00d7ff\">None</span>, <span style=\"color: #00af00; text-decoration-color: #00af00\">128</span>)            │             <span style=\"color: #00af00; text-decoration-color: #00af00\">0</span> │\n",
              "├─────────────────────────────────┼────────────────────────┼───────────────┤\n",
              "│ dense_18 (<span style=\"color: #0087ff; text-decoration-color: #0087ff\">Dense</span>)                │ (<span style=\"color: #00d7ff; text-decoration-color: #00d7ff\">None</span>, <span style=\"color: #00af00; text-decoration-color: #00af00\">64</span>)             │         <span style=\"color: #00af00; text-decoration-color: #00af00\">8,256</span> │\n",
              "├─────────────────────────────────┼────────────────────────┼───────────────┤\n",
              "│ dropout_13 (<span style=\"color: #0087ff; text-decoration-color: #0087ff\">Dropout</span>)            │ (<span style=\"color: #00d7ff; text-decoration-color: #00d7ff\">None</span>, <span style=\"color: #00af00; text-decoration-color: #00af00\">64</span>)             │             <span style=\"color: #00af00; text-decoration-color: #00af00\">0</span> │\n",
              "├─────────────────────────────────┼────────────────────────┼───────────────┤\n",
              "│ dense_19 (<span style=\"color: #0087ff; text-decoration-color: #0087ff\">Dense</span>)                │ (<span style=\"color: #00d7ff; text-decoration-color: #00d7ff\">None</span>, <span style=\"color: #00af00; text-decoration-color: #00af00\">7</span>)              │           <span style=\"color: #00af00; text-decoration-color: #00af00\">455</span> │\n",
              "└─────────────────────────────────┴────────────────────────┴───────────────┘\n",
              "</pre>\n"
            ],
            "text/plain": [
              "┏━━━━━━━━━━━━━━━━━━━━━━━━━━━━━━━━━┳━━━━━━━━━━━━━━━━━━━━━━━━┳━━━━━━━━━━━━━━━┓\n",
              "┃\u001b[1m \u001b[0m\u001b[1mLayer (type)                   \u001b[0m\u001b[1m \u001b[0m┃\u001b[1m \u001b[0m\u001b[1mOutput Shape          \u001b[0m\u001b[1m \u001b[0m┃\u001b[1m \u001b[0m\u001b[1m      Param #\u001b[0m\u001b[1m \u001b[0m┃\n",
              "┡━━━━━━━━━━━━━━━━━━━━━━━━━━━━━━━━━╇━━━━━━━━━━━━━━━━━━━━━━━━╇━━━━━━━━━━━━━━━┩\n",
              "│ dense_17 (\u001b[38;5;33mDense\u001b[0m)                │ (\u001b[38;5;45mNone\u001b[0m, \u001b[38;5;34m128\u001b[0m)            │       \u001b[38;5;34m329,472\u001b[0m │\n",
              "├─────────────────────────────────┼────────────────────────┼───────────────┤\n",
              "│ dropout_12 (\u001b[38;5;33mDropout\u001b[0m)            │ (\u001b[38;5;45mNone\u001b[0m, \u001b[38;5;34m128\u001b[0m)            │             \u001b[38;5;34m0\u001b[0m │\n",
              "├─────────────────────────────────┼────────────────────────┼───────────────┤\n",
              "│ dense_18 (\u001b[38;5;33mDense\u001b[0m)                │ (\u001b[38;5;45mNone\u001b[0m, \u001b[38;5;34m64\u001b[0m)             │         \u001b[38;5;34m8,256\u001b[0m │\n",
              "├─────────────────────────────────┼────────────────────────┼───────────────┤\n",
              "│ dropout_13 (\u001b[38;5;33mDropout\u001b[0m)            │ (\u001b[38;5;45mNone\u001b[0m, \u001b[38;5;34m64\u001b[0m)             │             \u001b[38;5;34m0\u001b[0m │\n",
              "├─────────────────────────────────┼────────────────────────┼───────────────┤\n",
              "│ dense_19 (\u001b[38;5;33mDense\u001b[0m)                │ (\u001b[38;5;45mNone\u001b[0m, \u001b[38;5;34m7\u001b[0m)              │           \u001b[38;5;34m455\u001b[0m │\n",
              "└─────────────────────────────────┴────────────────────────┴───────────────┘\n"
            ]
          },
          "metadata": {},
          "output_type": "display_data"
        },
        {
          "data": {
            "text/html": [
              "<pre style=\"white-space:pre;overflow-x:auto;line-height:normal;font-family:Menlo,'DejaVu Sans Mono',consolas,'Courier New',monospace\"><span style=\"font-weight: bold\"> Total params: </span><span style=\"color: #00af00; text-decoration-color: #00af00\">338,183</span> (1.29 MB)\n",
              "</pre>\n"
            ],
            "text/plain": [
              "\u001b[1m Total params: \u001b[0m\u001b[38;5;34m338,183\u001b[0m (1.29 MB)\n"
            ]
          },
          "metadata": {},
          "output_type": "display_data"
        },
        {
          "data": {
            "text/html": [
              "<pre style=\"white-space:pre;overflow-x:auto;line-height:normal;font-family:Menlo,'DejaVu Sans Mono',consolas,'Courier New',monospace\"><span style=\"font-weight: bold\"> Trainable params: </span><span style=\"color: #00af00; text-decoration-color: #00af00\">338,183</span> (1.29 MB)\n",
              "</pre>\n"
            ],
            "text/plain": [
              "\u001b[1m Trainable params: \u001b[0m\u001b[38;5;34m338,183\u001b[0m (1.29 MB)\n"
            ]
          },
          "metadata": {},
          "output_type": "display_data"
        },
        {
          "data": {
            "text/html": [
              "<pre style=\"white-space:pre;overflow-x:auto;line-height:normal;font-family:Menlo,'DejaVu Sans Mono',consolas,'Courier New',monospace\"><span style=\"font-weight: bold\"> Non-trainable params: </span><span style=\"color: #00af00; text-decoration-color: #00af00\">0</span> (0.00 B)\n",
              "</pre>\n"
            ],
            "text/plain": [
              "\u001b[1m Non-trainable params: \u001b[0m\u001b[38;5;34m0\u001b[0m (0.00 B)\n"
            ]
          },
          "metadata": {},
          "output_type": "display_data"
        }
      ],
      "source": [
        "\"\"\"\n",
        "Comenzamos el procseo de la Red Neuronal simple.\n",
        "Con la primera capa densa conectada con 128 neuronas y la segundo con 64 con la función ReLu que introduce la no linealiedad, además que X_train_data.shape[1] defina las entradas en la red.\n",
        "El primer y segundo dropout que desactiva el 20% de las neuronas para prevenir el sobreajuste.\n",
        "Finalmente con una capa de salida con la función softmax debido a que estamos haciendo una clasificación categórica de más de dos opciones.\n",
        "\"\"\"\n",
        "\n",
        "\n",
        "model = tensorflow.keras.Sequential([\n",
        "    tensorflow.keras.layers.Dense(128, activation='relu', input_shape = (X_train_data.shape[1],)),\n",
        "    tensorflow.keras.layers.Dropout(0.2),\n",
        "    tensorflow.keras.layers.Dense(64, activation='relu'),\n",
        "    tensorflow.keras.layers.Dropout(0.2),\n",
        "    tensorflow.keras.layers.Dense(num_classes, activation='softmax')\n",
        "])\n",
        "\n",
        "\"\"\"\n",
        "Creamos el optimizador Adam con un learning rate de 0.001 que es lo que controla el tamali de los pasos que toma durante la actualización.\n",
        "\"\"\"\n",
        "learning_rate = 0.001\n",
        "optimizer = tensorflow.keras.optimizers.Adam(learning_rate=learning_rate)\n",
        "\n",
        "\"\"\"\n",
        "Compilamos el modelo con la función de pérdida binary_crossentropy, el optimizador Adam y la métrica de precisión, que mide el rendimiento del modelo.\n",
        "\"\"\"\n",
        "model.compile(loss='categorical_crossentropy', optimizer= optimizer, metrics=['accuracy'])\n",
        "model.summary() #Mostramos el modelo"
      ]
    },
    {
      "cell_type": "code",
      "execution_count": 33,
      "metadata": {},
      "outputs": [
        {
          "name": "stdout",
          "output_type": "stream",
          "text": [
            "Epoch 1/50\n",
            "\u001b[1m225/225\u001b[0m \u001b[32m━━━━━━━━━━━━━━━━━━━━\u001b[0m\u001b[37m\u001b[0m \u001b[1m3s\u001b[0m 11ms/step - accuracy: 0.9564 - loss: 11621.4980 - val_accuracy: 1.0000 - val_loss: 29476.5312\n",
            "Epoch 2/50\n",
            "\u001b[1m225/225\u001b[0m \u001b[32m━━━━━━━━━━━━━━━━━━━━\u001b[0m\u001b[37m\u001b[0m \u001b[1m2s\u001b[0m 7ms/step - accuracy: 1.0000 - loss: 53142.5273 - val_accuracy: 1.0000 - val_loss: 151877.4844\n",
            "Epoch 3/50\n",
            "\u001b[1m225/225\u001b[0m \u001b[32m━━━━━━━━━━━━━━━━━━━━\u001b[0m\u001b[37m\u001b[0m \u001b[1m2s\u001b[0m 8ms/step - accuracy: 1.0000 - loss: 202322.9062 - val_accuracy: 1.0000 - val_loss: 387374.5625\n",
            "Epoch 4/50\n",
            "\u001b[1m225/225\u001b[0m \u001b[32m━━━━━━━━━━━━━━━━━━━━\u001b[0m\u001b[37m\u001b[0m \u001b[1m2s\u001b[0m 8ms/step - accuracy: 1.0000 - loss: 468156.5000 - val_accuracy: 1.0000 - val_loss: 734454.5000\n"
          ]
        }
      ],
      "source": [
        "#Importamos EarlyStopping el cual previene el sobreajustamiento a la hora de entrenar el modelo.\n",
        "from tensorflow.keras.callbacks import EarlyStopping\n",
        "\n",
        "\"\"\"\n",
        "EarlyStopping\n",
        "@monitor: Recalca exactamente que valor queremos rastrear del entrenamiento.\n",
        "@patience: Número de epocas que esperar para ver mejoramiento.\n",
        "@restore_best_weights: Es aquello que aunque la history se corra por más epocas, este se quede con la mejor epoca y val_loss.\n",
        "\"\"\"\n",
        "early_stopping = EarlyStopping(monitor='val_loss', patience=3, restore_best_weights=True)\n",
        "\n",
        "\"\"\"\n",
        "Se entrena el modelo con los datos proporcionados, donde history almacena el historial del entrenamiento.\n",
        "@X_train_data: Datos de entrada.\n",
        "@y_train_data: Datos de salida correpondientes a X_train_data.\n",
        "@epochs: El número de veces que el modelo pasrá por el conjunto, entre más mejor.\n",
        "@batch_size: Define el tamaño en el que los datos se dividirán para el entrenamiento.\n",
        "@validation_split: Define la fracción de los datos de entrenamiento que se utilizarán para la validación.\n",
        "@callbacks: toma el early_stopping anteriormente creado en cuenta.\n",
        "\"\"\"\n",
        "history = model.fit(X_train_data, y_train_data, epochs=50, batch_size=128,\n",
        "                    validation_split=0.3, callbacks=[early_stopping])\n"
      ]
    },
    {
      "cell_type": "code",
      "execution_count": 34,
      "metadata": {
        "id": "5njA2NWZqUMy",
        "outputId": "1c9806bb-e6af-4ae2-c5c5-1bfddd9ad4cc"
      },
      "outputs": [
        {
          "data": {
            "image/png": "[encoded data removed]",
            "text/plain": [
              "<Figure size 640x480 with 1 Axes>"
            ]
          },
          "metadata": {},
          "output_type": "display_data"
        },
        {
          "data": {
            "image/png": "[encoded data removed]",
            "text/plain": [
              "<Figure size 640x480 with 1 Axes>"
            ]
          },
          "metadata": {},
          "output_type": "display_data"
        }
      ],
      "source": [
        "\"\"\"\n",
        "Usamos el método anteriormente creado.\n",
        "Donde accurcay represneta la precisión de los datos de entrenamiento.\n",
        "Y val_accuracy representa la precisión de los datos de validación.\n",
        "\"\"\"\n",
        "plot_graphs(history,\"accuracy\")\n",
        "plot_graphs(history, \"loss\")"
      ]
    },
    {
      "cell_type": "code",
      "execution_count": 39,
      "metadata": {
        "id": "-M7_vhSiqUOX",
        "outputId": "e2807559-bb0d-40db-9681-8330a983f5d7"
      },
      "outputs": [
        {
          "name": "stdout",
          "output_type": "stream",
          "text": [
            "\u001b[1m551/551\u001b[0m \u001b[32m━━━━━━━━━━━━━━━━━━━━\u001b[0m\u001b[37m\u001b[0m \u001b[1m1s\u001b[0m 1ms/step - accuracy: 0.9923 - loss: 8515.1641\n",
            "Test Accuracy:  0.9921711087226868\n"
          ]
        }
      ],
      "source": [
        "#Evaluación, checamos para saber la precisión del modelo que se medirá en una probabbilidad de 0 a 1.\n",
        "test_loss,test_acc = model.evaluate(X_test_data, y_test_data)\n",
        "print('Test Accuracy: ', test_acc)"
      ]
    }
  ],
  "metadata": {
    "accelerator": "GPU",
    "colab": {
      "gpuType": "T4",
      "provenance": []
    },
    "kernelspec": {
      "display_name": "Python 3",
      "name": "python3"
    },
    "language_info": {
      "codemirror_mode": {
        "name": "ipython",
        "version": 3
      },
      "file_extension": ".py",
      "mimetype": "text/x-python",
      "name": "python",
      "nbconvert_exporter": "python",
      "pygments_lexer": "ipython3",
      "version": "3.10.12"
    }
  },
  "nbformat": 4,
  "nbformat_minor": 0
}
